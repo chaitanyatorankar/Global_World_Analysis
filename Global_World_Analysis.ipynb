{
 "cells": [
  {
   "cell_type": "code",
   "execution_count": 1,
   "id": "426f68bc-1b79-4fba-b457-f4ec0d729060",
   "metadata": {},
   "outputs": [],
   "source": [
    "import pandas as pd\n",
    "import numpy as np\n",
    "import matplotlib.pyplot as plt\n",
    "import seaborn as sb"
   ]
  },
  {
   "cell_type": "code",
   "execution_count": 2,
   "id": "da798ca0-7d91-4c4b-b7cc-8f8da05bab9f",
   "metadata": {},
   "outputs": [],
   "source": [
    "df = pd.read_csv(\"../Dataset/Global_world_t.csv\")"
   ]
  },
  {
   "cell_type": "code",
   "execution_count": 3,
   "id": "16878d51-0b4e-4c88-b05b-39289ee0b5b5",
   "metadata": {},
   "outputs": [
    {
     "data": {
      "text/html": [
       "<div>\n",
       "<style scoped>\n",
       "    .dataframe tbody tr th:only-of-type {\n",
       "        vertical-align: middle;\n",
       "    }\n",
       "\n",
       "    .dataframe tbody tr th {\n",
       "        vertical-align: top;\n",
       "    }\n",
       "\n",
       "    .dataframe thead th {\n",
       "        text-align: right;\n",
       "    }\n",
       "</style>\n",
       "<table border=\"1\" class=\"dataframe\">\n",
       "  <thead>\n",
       "    <tr style=\"text-align: right;\">\n",
       "      <th></th>\n",
       "      <th>Country</th>\n",
       "      <th>Density\\n(P/Km2)</th>\n",
       "      <th>Abbreviation</th>\n",
       "      <th>Agricultural Land( %)</th>\n",
       "      <th>Land Area(Km2)</th>\n",
       "      <th>Armed Forces size</th>\n",
       "      <th>Birth Rate</th>\n",
       "      <th>Calling Code</th>\n",
       "      <th>Capital/Major City</th>\n",
       "      <th>Co2-Emissions</th>\n",
       "      <th>...</th>\n",
       "      <th>Out of pocket health expenditure</th>\n",
       "      <th>Physicians per thousand</th>\n",
       "      <th>Population</th>\n",
       "      <th>Population: Labor force participation (%)</th>\n",
       "      <th>Tax revenue (%)</th>\n",
       "      <th>Total tax rate</th>\n",
       "      <th>Unemployment rate</th>\n",
       "      <th>Urban_population</th>\n",
       "      <th>Latitude</th>\n",
       "      <th>Longitude</th>\n",
       "    </tr>\n",
       "  </thead>\n",
       "  <tbody>\n",
       "    <tr>\n",
       "      <th>0</th>\n",
       "      <td>Afghanistan</td>\n",
       "      <td>60</td>\n",
       "      <td>AF</td>\n",
       "      <td>58.10%</td>\n",
       "      <td>652,230</td>\n",
       "      <td>323,000</td>\n",
       "      <td>32.49</td>\n",
       "      <td>93.0</td>\n",
       "      <td>Kabul</td>\n",
       "      <td>8,672</td>\n",
       "      <td>...</td>\n",
       "      <td>78.40%</td>\n",
       "      <td>0.28</td>\n",
       "      <td>38,041,754</td>\n",
       "      <td>48.90%</td>\n",
       "      <td>9.30%</td>\n",
       "      <td>71.40%</td>\n",
       "      <td>11.12%</td>\n",
       "      <td>9,797,273</td>\n",
       "      <td>33.939110</td>\n",
       "      <td>67.709953</td>\n",
       "    </tr>\n",
       "    <tr>\n",
       "      <th>1</th>\n",
       "      <td>Albania</td>\n",
       "      <td>105</td>\n",
       "      <td>AL</td>\n",
       "      <td>43.10%</td>\n",
       "      <td>28,748</td>\n",
       "      <td>9,000</td>\n",
       "      <td>11.78</td>\n",
       "      <td>355.0</td>\n",
       "      <td>Tirana</td>\n",
       "      <td>4,536</td>\n",
       "      <td>...</td>\n",
       "      <td>56.90%</td>\n",
       "      <td>1.20</td>\n",
       "      <td>2,854,191</td>\n",
       "      <td>55.70%</td>\n",
       "      <td>18.60%</td>\n",
       "      <td>36.60%</td>\n",
       "      <td>12.33%</td>\n",
       "      <td>1,747,593</td>\n",
       "      <td>41.153332</td>\n",
       "      <td>20.168331</td>\n",
       "    </tr>\n",
       "    <tr>\n",
       "      <th>2</th>\n",
       "      <td>Algeria</td>\n",
       "      <td>18</td>\n",
       "      <td>DZ</td>\n",
       "      <td>17.40%</td>\n",
       "      <td>2,381,741</td>\n",
       "      <td>317,000</td>\n",
       "      <td>24.28</td>\n",
       "      <td>213.0</td>\n",
       "      <td>Algiers</td>\n",
       "      <td>150,006</td>\n",
       "      <td>...</td>\n",
       "      <td>28.10%</td>\n",
       "      <td>1.72</td>\n",
       "      <td>43,053,054</td>\n",
       "      <td>41.20%</td>\n",
       "      <td>37.20%</td>\n",
       "      <td>66.10%</td>\n",
       "      <td>11.70%</td>\n",
       "      <td>31,510,100</td>\n",
       "      <td>28.033886</td>\n",
       "      <td>1.659626</td>\n",
       "    </tr>\n",
       "    <tr>\n",
       "      <th>3</th>\n",
       "      <td>Andorra</td>\n",
       "      <td>164</td>\n",
       "      <td>AD</td>\n",
       "      <td>40.00%</td>\n",
       "      <td>468</td>\n",
       "      <td>NaN</td>\n",
       "      <td>7.20</td>\n",
       "      <td>376.0</td>\n",
       "      <td>Andorra la Vella</td>\n",
       "      <td>469</td>\n",
       "      <td>...</td>\n",
       "      <td>36.40%</td>\n",
       "      <td>3.33</td>\n",
       "      <td>77,142</td>\n",
       "      <td>NaN</td>\n",
       "      <td>NaN</td>\n",
       "      <td>NaN</td>\n",
       "      <td>NaN</td>\n",
       "      <td>67,873</td>\n",
       "      <td>42.506285</td>\n",
       "      <td>1.521801</td>\n",
       "    </tr>\n",
       "    <tr>\n",
       "      <th>4</th>\n",
       "      <td>Angola</td>\n",
       "      <td>26</td>\n",
       "      <td>AO</td>\n",
       "      <td>47.50%</td>\n",
       "      <td>1,246,700</td>\n",
       "      <td>117,000</td>\n",
       "      <td>40.73</td>\n",
       "      <td>244.0</td>\n",
       "      <td>Luanda</td>\n",
       "      <td>34,693</td>\n",
       "      <td>...</td>\n",
       "      <td>33.40%</td>\n",
       "      <td>0.21</td>\n",
       "      <td>31,825,295</td>\n",
       "      <td>77.50%</td>\n",
       "      <td>9.20%</td>\n",
       "      <td>49.10%</td>\n",
       "      <td>6.89%</td>\n",
       "      <td>21,061,025</td>\n",
       "      <td>-11.202692</td>\n",
       "      <td>17.873887</td>\n",
       "    </tr>\n",
       "    <tr>\n",
       "      <th>...</th>\n",
       "      <td>...</td>\n",
       "      <td>...</td>\n",
       "      <td>...</td>\n",
       "      <td>...</td>\n",
       "      <td>...</td>\n",
       "      <td>...</td>\n",
       "      <td>...</td>\n",
       "      <td>...</td>\n",
       "      <td>...</td>\n",
       "      <td>...</td>\n",
       "      <td>...</td>\n",
       "      <td>...</td>\n",
       "      <td>...</td>\n",
       "      <td>...</td>\n",
       "      <td>...</td>\n",
       "      <td>...</td>\n",
       "      <td>...</td>\n",
       "      <td>...</td>\n",
       "      <td>...</td>\n",
       "      <td>...</td>\n",
       "      <td>...</td>\n",
       "    </tr>\n",
       "    <tr>\n",
       "      <th>190</th>\n",
       "      <td>Venezuela</td>\n",
       "      <td>32</td>\n",
       "      <td>VE</td>\n",
       "      <td>24.50%</td>\n",
       "      <td>912,050</td>\n",
       "      <td>343,000</td>\n",
       "      <td>17.88</td>\n",
       "      <td>58.0</td>\n",
       "      <td>Caracas</td>\n",
       "      <td>164,175</td>\n",
       "      <td>...</td>\n",
       "      <td>45.80%</td>\n",
       "      <td>1.92</td>\n",
       "      <td>28,515,829</td>\n",
       "      <td>59.70%</td>\n",
       "      <td>NaN</td>\n",
       "      <td>73.30%</td>\n",
       "      <td>8.80%</td>\n",
       "      <td>25,162,368</td>\n",
       "      <td>6.423750</td>\n",
       "      <td>-66.589730</td>\n",
       "    </tr>\n",
       "    <tr>\n",
       "      <th>191</th>\n",
       "      <td>Vietnam</td>\n",
       "      <td>314</td>\n",
       "      <td>VN</td>\n",
       "      <td>39.30%</td>\n",
       "      <td>331,210</td>\n",
       "      <td>522,000</td>\n",
       "      <td>16.75</td>\n",
       "      <td>84.0</td>\n",
       "      <td>Hanoi</td>\n",
       "      <td>192,668</td>\n",
       "      <td>...</td>\n",
       "      <td>43.50%</td>\n",
       "      <td>0.82</td>\n",
       "      <td>96,462,106</td>\n",
       "      <td>77.40%</td>\n",
       "      <td>19.10%</td>\n",
       "      <td>37.60%</td>\n",
       "      <td>2.01%</td>\n",
       "      <td>35,332,140</td>\n",
       "      <td>14.058324</td>\n",
       "      <td>108.277199</td>\n",
       "    </tr>\n",
       "    <tr>\n",
       "      <th>192</th>\n",
       "      <td>Yemen</td>\n",
       "      <td>56</td>\n",
       "      <td>YE</td>\n",
       "      <td>44.60%</td>\n",
       "      <td>527,968</td>\n",
       "      <td>40,000</td>\n",
       "      <td>30.45</td>\n",
       "      <td>967.0</td>\n",
       "      <td>Sanaa</td>\n",
       "      <td>10,609</td>\n",
       "      <td>...</td>\n",
       "      <td>81.00%</td>\n",
       "      <td>0.31</td>\n",
       "      <td>29,161,922</td>\n",
       "      <td>38.00%</td>\n",
       "      <td>NaN</td>\n",
       "      <td>26.60%</td>\n",
       "      <td>12.91%</td>\n",
       "      <td>10,869,523</td>\n",
       "      <td>15.552727</td>\n",
       "      <td>48.516388</td>\n",
       "    </tr>\n",
       "    <tr>\n",
       "      <th>193</th>\n",
       "      <td>Zambia</td>\n",
       "      <td>25</td>\n",
       "      <td>ZM</td>\n",
       "      <td>32.10%</td>\n",
       "      <td>752,618</td>\n",
       "      <td>16,000</td>\n",
       "      <td>36.19</td>\n",
       "      <td>260.0</td>\n",
       "      <td>Lusaka</td>\n",
       "      <td>5,141</td>\n",
       "      <td>...</td>\n",
       "      <td>27.50%</td>\n",
       "      <td>1.19</td>\n",
       "      <td>17,861,030</td>\n",
       "      <td>74.60%</td>\n",
       "      <td>16.20%</td>\n",
       "      <td>15.60%</td>\n",
       "      <td>11.43%</td>\n",
       "      <td>7,871,713</td>\n",
       "      <td>-13.133897</td>\n",
       "      <td>27.849332</td>\n",
       "    </tr>\n",
       "    <tr>\n",
       "      <th>194</th>\n",
       "      <td>Zimbabwe</td>\n",
       "      <td>38</td>\n",
       "      <td>ZW</td>\n",
       "      <td>41.90%</td>\n",
       "      <td>390,757</td>\n",
       "      <td>51,000</td>\n",
       "      <td>30.68</td>\n",
       "      <td>263.0</td>\n",
       "      <td>Harare</td>\n",
       "      <td>10,983</td>\n",
       "      <td>...</td>\n",
       "      <td>25.80%</td>\n",
       "      <td>0.21</td>\n",
       "      <td>14,645,468</td>\n",
       "      <td>83.10%</td>\n",
       "      <td>20.70%</td>\n",
       "      <td>31.60%</td>\n",
       "      <td>4.95%</td>\n",
       "      <td>4,717,305</td>\n",
       "      <td>-19.015438</td>\n",
       "      <td>29.154857</td>\n",
       "    </tr>\n",
       "  </tbody>\n",
       "</table>\n",
       "<p>195 rows × 35 columns</p>\n",
       "</div>"
      ],
      "text/plain": [
       "         Country Density\\n(P/Km2) Abbreviation Agricultural Land( %)  \\\n",
       "0    Afghanistan               60           AF                58.10%   \n",
       "1        Albania              105           AL                43.10%   \n",
       "2        Algeria               18           DZ                17.40%   \n",
       "3        Andorra              164           AD                40.00%   \n",
       "4         Angola               26           AO                47.50%   \n",
       "..           ...              ...          ...                   ...   \n",
       "190    Venezuela               32           VE                24.50%   \n",
       "191      Vietnam              314           VN                39.30%   \n",
       "192        Yemen               56           YE                44.60%   \n",
       "193       Zambia               25           ZM                32.10%   \n",
       "194     Zimbabwe               38           ZW                41.90%   \n",
       "\n",
       "    Land Area(Km2) Armed Forces size  Birth Rate  Calling Code  \\\n",
       "0          652,230           323,000       32.49          93.0   \n",
       "1           28,748             9,000       11.78         355.0   \n",
       "2        2,381,741           317,000       24.28         213.0   \n",
       "3              468               NaN        7.20         376.0   \n",
       "4        1,246,700           117,000       40.73         244.0   \n",
       "..             ...               ...         ...           ...   \n",
       "190        912,050           343,000       17.88          58.0   \n",
       "191        331,210           522,000       16.75          84.0   \n",
       "192        527,968            40,000       30.45         967.0   \n",
       "193        752,618            16,000       36.19         260.0   \n",
       "194        390,757            51,000       30.68         263.0   \n",
       "\n",
       "    Capital/Major City Co2-Emissions  ... Out of pocket health expenditure  \\\n",
       "0                Kabul         8,672  ...                           78.40%   \n",
       "1               Tirana         4,536  ...                           56.90%   \n",
       "2              Algiers       150,006  ...                           28.10%   \n",
       "3     Andorra la Vella           469  ...                           36.40%   \n",
       "4               Luanda        34,693  ...                           33.40%   \n",
       "..                 ...           ...  ...                              ...   \n",
       "190            Caracas       164,175  ...                           45.80%   \n",
       "191              Hanoi       192,668  ...                           43.50%   \n",
       "192              Sanaa        10,609  ...                           81.00%   \n",
       "193             Lusaka         5,141  ...                           27.50%   \n",
       "194             Harare        10,983  ...                           25.80%   \n",
       "\n",
       "    Physicians per thousand  Population  \\\n",
       "0                      0.28  38,041,754   \n",
       "1                      1.20   2,854,191   \n",
       "2                      1.72  43,053,054   \n",
       "3                      3.33      77,142   \n",
       "4                      0.21  31,825,295   \n",
       "..                      ...         ...   \n",
       "190                    1.92  28,515,829   \n",
       "191                    0.82  96,462,106   \n",
       "192                    0.31  29,161,922   \n",
       "193                    1.19  17,861,030   \n",
       "194                    0.21  14,645,468   \n",
       "\n",
       "     Population: Labor force participation (%) Tax revenue (%) Total tax rate  \\\n",
       "0                                       48.90%           9.30%         71.40%   \n",
       "1                                       55.70%          18.60%         36.60%   \n",
       "2                                       41.20%          37.20%         66.10%   \n",
       "3                                          NaN             NaN            NaN   \n",
       "4                                       77.50%           9.20%         49.10%   \n",
       "..                                         ...             ...            ...   \n",
       "190                                     59.70%             NaN         73.30%   \n",
       "191                                     77.40%          19.10%         37.60%   \n",
       "192                                     38.00%             NaN         26.60%   \n",
       "193                                     74.60%          16.20%         15.60%   \n",
       "194                                     83.10%          20.70%         31.60%   \n",
       "\n",
       "    Unemployment rate Urban_population   Latitude   Longitude  \n",
       "0              11.12%        9,797,273  33.939110   67.709953  \n",
       "1              12.33%        1,747,593  41.153332   20.168331  \n",
       "2              11.70%       31,510,100  28.033886    1.659626  \n",
       "3                 NaN           67,873  42.506285    1.521801  \n",
       "4               6.89%       21,061,025 -11.202692   17.873887  \n",
       "..                ...              ...        ...         ...  \n",
       "190             8.80%       25,162,368   6.423750  -66.589730  \n",
       "191             2.01%       35,332,140  14.058324  108.277199  \n",
       "192            12.91%       10,869,523  15.552727   48.516388  \n",
       "193            11.43%        7,871,713 -13.133897   27.849332  \n",
       "194             4.95%        4,717,305 -19.015438   29.154857  \n",
       "\n",
       "[195 rows x 35 columns]"
      ]
     },
     "execution_count": 3,
     "metadata": {},
     "output_type": "execute_result"
    }
   ],
   "source": [
    "df"
   ]
  },
  {
   "cell_type": "code",
   "execution_count": 4,
   "id": "2e1ffded-4802-4ebe-ac1e-bbf8d63fbda8",
   "metadata": {},
   "outputs": [
    {
     "data": {
      "text/plain": [
       "Index(['Country', 'Density\\n(P/Km2)', 'Abbreviation', 'Agricultural Land( %)',\n",
       "       'Land Area(Km2)', 'Armed Forces size', 'Birth Rate', 'Calling Code',\n",
       "       'Capital/Major City', 'Co2-Emissions', 'CPI', 'CPI Change (%)',\n",
       "       'Currency-Code', 'Fertility Rate', 'Forested Area (%)',\n",
       "       'Gasoline Price', 'GDP', 'Gross primary education enrollment (%)',\n",
       "       'Gross tertiary education enrollment (%)', 'Infant mortality',\n",
       "       'Largest city', 'Life expectancy', 'Maternal mortality ratio',\n",
       "       'Minimum wage', 'Official language', 'Out of pocket health expenditure',\n",
       "       'Physicians per thousand', 'Population',\n",
       "       'Population: Labor force participation (%)', 'Tax revenue (%)',\n",
       "       'Total tax rate', 'Unemployment rate', 'Urban_population', 'Latitude',\n",
       "       'Longitude'],\n",
       "      dtype='object')"
      ]
     },
     "execution_count": 4,
     "metadata": {},
     "output_type": "execute_result"
    }
   ],
   "source": [
    "df.columns"
   ]
  },
  {
   "cell_type": "code",
   "execution_count": 5,
   "id": "53abe93f-2950-484b-85c6-b29c3edadd93",
   "metadata": {},
   "outputs": [
    {
     "name": "stdout",
     "output_type": "stream",
     "text": [
      "<class 'pandas.core.frame.DataFrame'>\n",
      "RangeIndex: 195 entries, 0 to 194\n",
      "Data columns (total 35 columns):\n",
      " #   Column                                     Non-Null Count  Dtype  \n",
      "---  ------                                     --------------  -----  \n",
      " 0   Country                                    195 non-null    object \n",
      " 1   Density\n",
      "(P/Km2)                            195 non-null    object \n",
      " 2   Abbreviation                               188 non-null    object \n",
      " 3   Agricultural Land( %)                      188 non-null    object \n",
      " 4   Land Area(Km2)                             194 non-null    object \n",
      " 5   Armed Forces size                          171 non-null    object \n",
      " 6   Birth Rate                                 189 non-null    float64\n",
      " 7   Calling Code                               194 non-null    float64\n",
      " 8   Capital/Major City                         192 non-null    object \n",
      " 9   Co2-Emissions                              188 non-null    object \n",
      " 10  CPI                                        178 non-null    object \n",
      " 11  CPI Change (%)                             179 non-null    object \n",
      " 12  Currency-Code                              180 non-null    object \n",
      " 13  Fertility Rate                             188 non-null    float64\n",
      " 14  Forested Area (%)                          188 non-null    object \n",
      " 15  Gasoline Price                             175 non-null    object \n",
      " 16  GDP                                        193 non-null    object \n",
      " 17  Gross primary education enrollment (%)     188 non-null    object \n",
      " 18  Gross tertiary education enrollment (%)    183 non-null    object \n",
      " 19  Infant mortality                           189 non-null    float64\n",
      " 20  Largest city                               189 non-null    object \n",
      " 21  Life expectancy                            187 non-null    float64\n",
      " 22  Maternal mortality ratio                   181 non-null    float64\n",
      " 23  Minimum wage                               150 non-null    object \n",
      " 24  Official language                          190 non-null    object \n",
      " 25  Out of pocket health expenditure           188 non-null    object \n",
      " 26  Physicians per thousand                    188 non-null    float64\n",
      " 27  Population                                 194 non-null    object \n",
      " 28  Population: Labor force participation (%)  176 non-null    object \n",
      " 29  Tax revenue (%)                            169 non-null    object \n",
      " 30  Total tax rate                             183 non-null    object \n",
      " 31  Unemployment rate                          176 non-null    object \n",
      " 32  Urban_population                           190 non-null    object \n",
      " 33  Latitude                                   194 non-null    float64\n",
      " 34  Longitude                                  194 non-null    float64\n",
      "dtypes: float64(9), object(26)\n",
      "memory usage: 53.4+ KB\n"
     ]
    }
   ],
   "source": [
    "df.info()"
   ]
  },
  {
   "cell_type": "code",
   "execution_count": 6,
   "id": "154248cf-ea07-43d2-bd19-70d844957712",
   "metadata": {},
   "outputs": [],
   "source": [
    "df = df.rename( columns = {'Agricultural Land( %)' : 'Agricultural_Land'})\n",
    "df = df.rename( columns = {'Land Area(Km2)' : 'Land_Area'})\n",
    "df = df.rename( columns = {'Armed Forces size' : 'Armed_Forces_size'})\n",
    "df = df.rename( columns = {'Birth Rate' : 'Birth_Rate'})\n",
    "df = df.rename( columns = {'Calling Code' : 'Calling_Code'})\n",
    "df = df.rename( columns = {'Capital/Major City' : 'Major_City'})\n",
    "df = df.rename( columns = {'CPI Change (%)' : 'CPI_Change'})\n",
    "df = df.rename( columns = {'Fertility Rate' : 'Fertility_Rate'})\n",
    "df = df.rename( columns = {'Gasoline Price' : 'Gasoline_Price'})\n",
    "df = df.rename( columns = {'Gross primary education enrollment (%)' : 'Gross_primary_education_enrollment'})\n",
    "df = df.rename( columns = {'Gross tertiary education enrollment (%)' : 'Gross_tertiary_education_enrollment'})\n",
    "df = df.rename( columns = {'Infant mortality ' : 'Infant_mortality'})\n",
    "df = df.rename( columns = {'Largest city' : 'Largest_city'})\n",
    "df = df.rename( columns = {'Life expectancy' : 'Life_expectancy'})\n",
    "df = df.rename( columns = {'Maternal mortality ratio' : 'Maternal_mortality_ratio'})\n",
    "df = df.rename( columns = {'Minimum wage' : 'Minimum_wage'})\n",
    "df = df.rename( columns = {'Official language' : 'Official_language'})\n",
    "df = df.rename( columns = {'Out of pocket health expenditure' : 'Out_of_pocket_health_expenditure'})\n",
    "df = df.rename( columns = {'Physicians per thousand' : 'Physicians_per_thousand'})\n",
    "df = df.rename( columns = {'Population: Labor force participation (%)' : 'Population_Labor_force_participation'})\n",
    "df = df.rename( columns = {'Tax revenue (%)' : 'Tax_revenue'})\n",
    "df = df.rename( columns = {'Total tax rate' : 'Total_tax_rate'})\n",
    "df = df.rename( columns = {'Unemployment rate' : 'Unemployment_rate'})\n",
    "df = df.rename( columns = {'Forested Area (%)' : 'Forested_Area'})\n",
    "df = df.rename( columns = {'Co2-Emissions' : 'Co2_Emissions'})\n",
    "df = df.rename( columns = {'Currency-Code' : 'Currency_Code'})\n",
    "df = df.rename( columns = {'Infant mortality' : 'Infant_mortality'})\n",
    "df = df.rename( columns = {'Density\\n(P/Km2)' : 'Density'})"
   ]
  },
  {
   "cell_type": "code",
   "execution_count": 7,
   "id": "58cf9897-c2a2-4155-b465-cc36708e3933",
   "metadata": {},
   "outputs": [
    {
     "data": {
      "text/html": [
       "<div>\n",
       "<style scoped>\n",
       "    .dataframe tbody tr th:only-of-type {\n",
       "        vertical-align: middle;\n",
       "    }\n",
       "\n",
       "    .dataframe tbody tr th {\n",
       "        vertical-align: top;\n",
       "    }\n",
       "\n",
       "    .dataframe thead th {\n",
       "        text-align: right;\n",
       "    }\n",
       "</style>\n",
       "<table border=\"1\" class=\"dataframe\">\n",
       "  <thead>\n",
       "    <tr style=\"text-align: right;\">\n",
       "      <th></th>\n",
       "      <th>Country</th>\n",
       "      <th>Density</th>\n",
       "      <th>Abbreviation</th>\n",
       "      <th>Agricultural_Land</th>\n",
       "      <th>Land_Area</th>\n",
       "      <th>Armed_Forces_size</th>\n",
       "      <th>Birth_Rate</th>\n",
       "      <th>Calling_Code</th>\n",
       "      <th>Major_City</th>\n",
       "      <th>Co2_Emissions</th>\n",
       "      <th>...</th>\n",
       "      <th>Out_of_pocket_health_expenditure</th>\n",
       "      <th>Physicians_per_thousand</th>\n",
       "      <th>Population</th>\n",
       "      <th>Population_Labor_force_participation</th>\n",
       "      <th>Tax_revenue</th>\n",
       "      <th>Total_tax_rate</th>\n",
       "      <th>Unemployment_rate</th>\n",
       "      <th>Urban_population</th>\n",
       "      <th>Latitude</th>\n",
       "      <th>Longitude</th>\n",
       "    </tr>\n",
       "  </thead>\n",
       "  <tbody>\n",
       "    <tr>\n",
       "      <th>0</th>\n",
       "      <td>Afghanistan</td>\n",
       "      <td>60</td>\n",
       "      <td>AF</td>\n",
       "      <td>58.10%</td>\n",
       "      <td>652,230</td>\n",
       "      <td>323,000</td>\n",
       "      <td>32.49</td>\n",
       "      <td>93.0</td>\n",
       "      <td>Kabul</td>\n",
       "      <td>8,672</td>\n",
       "      <td>...</td>\n",
       "      <td>78.40%</td>\n",
       "      <td>0.28</td>\n",
       "      <td>38,041,754</td>\n",
       "      <td>48.90%</td>\n",
       "      <td>9.30%</td>\n",
       "      <td>71.40%</td>\n",
       "      <td>11.12%</td>\n",
       "      <td>9,797,273</td>\n",
       "      <td>33.939110</td>\n",
       "      <td>67.709953</td>\n",
       "    </tr>\n",
       "    <tr>\n",
       "      <th>1</th>\n",
       "      <td>Albania</td>\n",
       "      <td>105</td>\n",
       "      <td>AL</td>\n",
       "      <td>43.10%</td>\n",
       "      <td>28,748</td>\n",
       "      <td>9,000</td>\n",
       "      <td>11.78</td>\n",
       "      <td>355.0</td>\n",
       "      <td>Tirana</td>\n",
       "      <td>4,536</td>\n",
       "      <td>...</td>\n",
       "      <td>56.90%</td>\n",
       "      <td>1.20</td>\n",
       "      <td>2,854,191</td>\n",
       "      <td>55.70%</td>\n",
       "      <td>18.60%</td>\n",
       "      <td>36.60%</td>\n",
       "      <td>12.33%</td>\n",
       "      <td>1,747,593</td>\n",
       "      <td>41.153332</td>\n",
       "      <td>20.168331</td>\n",
       "    </tr>\n",
       "    <tr>\n",
       "      <th>2</th>\n",
       "      <td>Algeria</td>\n",
       "      <td>18</td>\n",
       "      <td>DZ</td>\n",
       "      <td>17.40%</td>\n",
       "      <td>2,381,741</td>\n",
       "      <td>317,000</td>\n",
       "      <td>24.28</td>\n",
       "      <td>213.0</td>\n",
       "      <td>Algiers</td>\n",
       "      <td>150,006</td>\n",
       "      <td>...</td>\n",
       "      <td>28.10%</td>\n",
       "      <td>1.72</td>\n",
       "      <td>43,053,054</td>\n",
       "      <td>41.20%</td>\n",
       "      <td>37.20%</td>\n",
       "      <td>66.10%</td>\n",
       "      <td>11.70%</td>\n",
       "      <td>31,510,100</td>\n",
       "      <td>28.033886</td>\n",
       "      <td>1.659626</td>\n",
       "    </tr>\n",
       "    <tr>\n",
       "      <th>3</th>\n",
       "      <td>Andorra</td>\n",
       "      <td>164</td>\n",
       "      <td>AD</td>\n",
       "      <td>40.00%</td>\n",
       "      <td>468</td>\n",
       "      <td>NaN</td>\n",
       "      <td>7.20</td>\n",
       "      <td>376.0</td>\n",
       "      <td>Andorra la Vella</td>\n",
       "      <td>469</td>\n",
       "      <td>...</td>\n",
       "      <td>36.40%</td>\n",
       "      <td>3.33</td>\n",
       "      <td>77,142</td>\n",
       "      <td>NaN</td>\n",
       "      <td>NaN</td>\n",
       "      <td>NaN</td>\n",
       "      <td>NaN</td>\n",
       "      <td>67,873</td>\n",
       "      <td>42.506285</td>\n",
       "      <td>1.521801</td>\n",
       "    </tr>\n",
       "    <tr>\n",
       "      <th>4</th>\n",
       "      <td>Angola</td>\n",
       "      <td>26</td>\n",
       "      <td>AO</td>\n",
       "      <td>47.50%</td>\n",
       "      <td>1,246,700</td>\n",
       "      <td>117,000</td>\n",
       "      <td>40.73</td>\n",
       "      <td>244.0</td>\n",
       "      <td>Luanda</td>\n",
       "      <td>34,693</td>\n",
       "      <td>...</td>\n",
       "      <td>33.40%</td>\n",
       "      <td>0.21</td>\n",
       "      <td>31,825,295</td>\n",
       "      <td>77.50%</td>\n",
       "      <td>9.20%</td>\n",
       "      <td>49.10%</td>\n",
       "      <td>6.89%</td>\n",
       "      <td>21,061,025</td>\n",
       "      <td>-11.202692</td>\n",
       "      <td>17.873887</td>\n",
       "    </tr>\n",
       "    <tr>\n",
       "      <th>...</th>\n",
       "      <td>...</td>\n",
       "      <td>...</td>\n",
       "      <td>...</td>\n",
       "      <td>...</td>\n",
       "      <td>...</td>\n",
       "      <td>...</td>\n",
       "      <td>...</td>\n",
       "      <td>...</td>\n",
       "      <td>...</td>\n",
       "      <td>...</td>\n",
       "      <td>...</td>\n",
       "      <td>...</td>\n",
       "      <td>...</td>\n",
       "      <td>...</td>\n",
       "      <td>...</td>\n",
       "      <td>...</td>\n",
       "      <td>...</td>\n",
       "      <td>...</td>\n",
       "      <td>...</td>\n",
       "      <td>...</td>\n",
       "      <td>...</td>\n",
       "    </tr>\n",
       "    <tr>\n",
       "      <th>190</th>\n",
       "      <td>Venezuela</td>\n",
       "      <td>32</td>\n",
       "      <td>VE</td>\n",
       "      <td>24.50%</td>\n",
       "      <td>912,050</td>\n",
       "      <td>343,000</td>\n",
       "      <td>17.88</td>\n",
       "      <td>58.0</td>\n",
       "      <td>Caracas</td>\n",
       "      <td>164,175</td>\n",
       "      <td>...</td>\n",
       "      <td>45.80%</td>\n",
       "      <td>1.92</td>\n",
       "      <td>28,515,829</td>\n",
       "      <td>59.70%</td>\n",
       "      <td>NaN</td>\n",
       "      <td>73.30%</td>\n",
       "      <td>8.80%</td>\n",
       "      <td>25,162,368</td>\n",
       "      <td>6.423750</td>\n",
       "      <td>-66.589730</td>\n",
       "    </tr>\n",
       "    <tr>\n",
       "      <th>191</th>\n",
       "      <td>Vietnam</td>\n",
       "      <td>314</td>\n",
       "      <td>VN</td>\n",
       "      <td>39.30%</td>\n",
       "      <td>331,210</td>\n",
       "      <td>522,000</td>\n",
       "      <td>16.75</td>\n",
       "      <td>84.0</td>\n",
       "      <td>Hanoi</td>\n",
       "      <td>192,668</td>\n",
       "      <td>...</td>\n",
       "      <td>43.50%</td>\n",
       "      <td>0.82</td>\n",
       "      <td>96,462,106</td>\n",
       "      <td>77.40%</td>\n",
       "      <td>19.10%</td>\n",
       "      <td>37.60%</td>\n",
       "      <td>2.01%</td>\n",
       "      <td>35,332,140</td>\n",
       "      <td>14.058324</td>\n",
       "      <td>108.277199</td>\n",
       "    </tr>\n",
       "    <tr>\n",
       "      <th>192</th>\n",
       "      <td>Yemen</td>\n",
       "      <td>56</td>\n",
       "      <td>YE</td>\n",
       "      <td>44.60%</td>\n",
       "      <td>527,968</td>\n",
       "      <td>40,000</td>\n",
       "      <td>30.45</td>\n",
       "      <td>967.0</td>\n",
       "      <td>Sanaa</td>\n",
       "      <td>10,609</td>\n",
       "      <td>...</td>\n",
       "      <td>81.00%</td>\n",
       "      <td>0.31</td>\n",
       "      <td>29,161,922</td>\n",
       "      <td>38.00%</td>\n",
       "      <td>NaN</td>\n",
       "      <td>26.60%</td>\n",
       "      <td>12.91%</td>\n",
       "      <td>10,869,523</td>\n",
       "      <td>15.552727</td>\n",
       "      <td>48.516388</td>\n",
       "    </tr>\n",
       "    <tr>\n",
       "      <th>193</th>\n",
       "      <td>Zambia</td>\n",
       "      <td>25</td>\n",
       "      <td>ZM</td>\n",
       "      <td>32.10%</td>\n",
       "      <td>752,618</td>\n",
       "      <td>16,000</td>\n",
       "      <td>36.19</td>\n",
       "      <td>260.0</td>\n",
       "      <td>Lusaka</td>\n",
       "      <td>5,141</td>\n",
       "      <td>...</td>\n",
       "      <td>27.50%</td>\n",
       "      <td>1.19</td>\n",
       "      <td>17,861,030</td>\n",
       "      <td>74.60%</td>\n",
       "      <td>16.20%</td>\n",
       "      <td>15.60%</td>\n",
       "      <td>11.43%</td>\n",
       "      <td>7,871,713</td>\n",
       "      <td>-13.133897</td>\n",
       "      <td>27.849332</td>\n",
       "    </tr>\n",
       "    <tr>\n",
       "      <th>194</th>\n",
       "      <td>Zimbabwe</td>\n",
       "      <td>38</td>\n",
       "      <td>ZW</td>\n",
       "      <td>41.90%</td>\n",
       "      <td>390,757</td>\n",
       "      <td>51,000</td>\n",
       "      <td>30.68</td>\n",
       "      <td>263.0</td>\n",
       "      <td>Harare</td>\n",
       "      <td>10,983</td>\n",
       "      <td>...</td>\n",
       "      <td>25.80%</td>\n",
       "      <td>0.21</td>\n",
       "      <td>14,645,468</td>\n",
       "      <td>83.10%</td>\n",
       "      <td>20.70%</td>\n",
       "      <td>31.60%</td>\n",
       "      <td>4.95%</td>\n",
       "      <td>4,717,305</td>\n",
       "      <td>-19.015438</td>\n",
       "      <td>29.154857</td>\n",
       "    </tr>\n",
       "  </tbody>\n",
       "</table>\n",
       "<p>195 rows × 35 columns</p>\n",
       "</div>"
      ],
      "text/plain": [
       "         Country Density Abbreviation Agricultural_Land  Land_Area  \\\n",
       "0    Afghanistan      60           AF            58.10%    652,230   \n",
       "1        Albania     105           AL            43.10%     28,748   \n",
       "2        Algeria      18           DZ            17.40%  2,381,741   \n",
       "3        Andorra     164           AD            40.00%        468   \n",
       "4         Angola      26           AO            47.50%  1,246,700   \n",
       "..           ...     ...          ...               ...        ...   \n",
       "190    Venezuela      32           VE            24.50%    912,050   \n",
       "191      Vietnam     314           VN            39.30%    331,210   \n",
       "192        Yemen      56           YE            44.60%    527,968   \n",
       "193       Zambia      25           ZM            32.10%    752,618   \n",
       "194     Zimbabwe      38           ZW            41.90%    390,757   \n",
       "\n",
       "    Armed_Forces_size  Birth_Rate  Calling_Code        Major_City  \\\n",
       "0             323,000       32.49          93.0             Kabul   \n",
       "1               9,000       11.78         355.0            Tirana   \n",
       "2             317,000       24.28         213.0           Algiers   \n",
       "3                 NaN        7.20         376.0  Andorra la Vella   \n",
       "4             117,000       40.73         244.0            Luanda   \n",
       "..                ...         ...           ...               ...   \n",
       "190           343,000       17.88          58.0           Caracas   \n",
       "191           522,000       16.75          84.0             Hanoi   \n",
       "192            40,000       30.45         967.0             Sanaa   \n",
       "193            16,000       36.19         260.0            Lusaka   \n",
       "194            51,000       30.68         263.0            Harare   \n",
       "\n",
       "    Co2_Emissions  ... Out_of_pocket_health_expenditure  \\\n",
       "0           8,672  ...                           78.40%   \n",
       "1           4,536  ...                           56.90%   \n",
       "2         150,006  ...                           28.10%   \n",
       "3             469  ...                           36.40%   \n",
       "4          34,693  ...                           33.40%   \n",
       "..            ...  ...                              ...   \n",
       "190       164,175  ...                           45.80%   \n",
       "191       192,668  ...                           43.50%   \n",
       "192        10,609  ...                           81.00%   \n",
       "193         5,141  ...                           27.50%   \n",
       "194        10,983  ...                           25.80%   \n",
       "\n",
       "    Physicians_per_thousand  Population  Population_Labor_force_participation  \\\n",
       "0                      0.28  38,041,754                                48.90%   \n",
       "1                      1.20   2,854,191                                55.70%   \n",
       "2                      1.72  43,053,054                                41.20%   \n",
       "3                      3.33      77,142                                   NaN   \n",
       "4                      0.21  31,825,295                                77.50%   \n",
       "..                      ...         ...                                   ...   \n",
       "190                    1.92  28,515,829                                59.70%   \n",
       "191                    0.82  96,462,106                                77.40%   \n",
       "192                    0.31  29,161,922                                38.00%   \n",
       "193                    1.19  17,861,030                                74.60%   \n",
       "194                    0.21  14,645,468                                83.10%   \n",
       "\n",
       "    Tax_revenue Total_tax_rate Unemployment_rate Urban_population   Latitude  \\\n",
       "0         9.30%         71.40%            11.12%        9,797,273  33.939110   \n",
       "1        18.60%         36.60%            12.33%        1,747,593  41.153332   \n",
       "2        37.20%         66.10%            11.70%       31,510,100  28.033886   \n",
       "3           NaN            NaN               NaN           67,873  42.506285   \n",
       "4         9.20%         49.10%             6.89%       21,061,025 -11.202692   \n",
       "..          ...            ...               ...              ...        ...   \n",
       "190         NaN         73.30%             8.80%       25,162,368   6.423750   \n",
       "191      19.10%         37.60%             2.01%       35,332,140  14.058324   \n",
       "192         NaN         26.60%            12.91%       10,869,523  15.552727   \n",
       "193      16.20%         15.60%            11.43%        7,871,713 -13.133897   \n",
       "194      20.70%         31.60%             4.95%        4,717,305 -19.015438   \n",
       "\n",
       "      Longitude  \n",
       "0     67.709953  \n",
       "1     20.168331  \n",
       "2      1.659626  \n",
       "3      1.521801  \n",
       "4     17.873887  \n",
       "..          ...  \n",
       "190  -66.589730  \n",
       "191  108.277199  \n",
       "192   48.516388  \n",
       "193   27.849332  \n",
       "194   29.154857  \n",
       "\n",
       "[195 rows x 35 columns]"
      ]
     },
     "execution_count": 7,
     "metadata": {},
     "output_type": "execute_result"
    }
   ],
   "source": [
    "df"
   ]
  },
  {
   "cell_type": "code",
   "execution_count": 8,
   "id": "04a37217-6d32-4c99-8774-f009fdb95394",
   "metadata": {},
   "outputs": [],
   "source": [
    "df.Abbreviation = df.Abbreviation.fillna(0)\n",
    "df.Agricultural_Land = df.Agricultural_Land.fillna(0)\n",
    "df.Armed_Forces_size = df.Armed_Forces_size.fillna(0)\n",
    "df.Birth_Rate = df.Birth_Rate.fillna(0)\n",
    "df.Calling_Code = df.Calling_Code.fillna(0)\n",
    "df.Major_City = df.Major_City.fillna(0)\n",
    "df.CPI = df.CPI.fillna(0)\n",
    "df.CPI_Change = df.CPI_Change.fillna(0)\n",
    "df.Co2_Emissions = df.Co2_Emissions.fillna(0)\n",
    "df.Currency_Code = df.Currency_Code.fillna(0)\n",
    "df.Fertility_Rate = df.Fertility_Rate.fillna(0)\n",
    "df.Forested_Area = df.Forested_Area.fillna(0)\n",
    "df.Gasoline_Price = df.Gasoline_Price.fillna(0)\n",
    "df.GDP = df.GDP.fillna(0)\n",
    "df.Largest_city = df.Largest_city.fillna(0)\n",
    "df.Life_expectancy = df.Life_expectancy.fillna(0)\n",
    "df.Maternal_mortality_ratio = df.Maternal_mortality_ratio.fillna(0)\n",
    "df.Minimum_wage = df.Minimum_wage.fillna(0)\n",
    "df.Official_language = df.Official_language.fillna(0)\n",
    "df.Physicians_per_thousand = df.Physicians_per_thousand.fillna(0)\n",
    "df.Population = df.Population.fillna(0)\n",
    "df.Population_Labor_force_participation = df.Population_Labor_force_participation.fillna(0)\n",
    "df.Tax_revenue = df.Tax_revenue.fillna(0)\n",
    "df.Unemployment_rate = df.Unemployment_rate.fillna(0)\n",
    "df.Urban_population = df.Urban_population.fillna(0)\n",
    "df.Latitude = df.Latitude.fillna(0)\n",
    "df.Longitude = df.Longitude.fillna(0)\n",
    "df.Gross_primary_education_enrollment = df.Gross_primary_education_enrollment.fillna(0)\n",
    "df.Gross_tertiary_education_enrollment = df.Gross_tertiary_education_enrollment.fillna(0)\n",
    "df.Total_tax_rate = df.Total_tax_rate.fillna(0)\n",
    "df.Out_of_pocket_health_expenditure = df.Out_of_pocket_health_expenditure.fillna(0)\n",
    "df.Land_Area = df.Land_Area.fillna(0)\n",
    "df.Infant_mortality = df.Infant_mortality.fillna(0)"
   ]
  },
  {
   "cell_type": "code",
   "execution_count": 9,
   "id": "ea36d6fe-10b0-4303-9225-54e81c1a3230",
   "metadata": {},
   "outputs": [
    {
     "data": {
      "text/plain": [
       "Country                                 0\n",
       "Density                                 0\n",
       "Abbreviation                            0\n",
       "Agricultural_Land                       0\n",
       "Land_Area                               0\n",
       "Armed_Forces_size                       0\n",
       "Birth_Rate                              0\n",
       "Calling_Code                            0\n",
       "Major_City                              0\n",
       "Co2_Emissions                           0\n",
       "CPI                                     0\n",
       "CPI_Change                              0\n",
       "Currency_Code                           0\n",
       "Fertility_Rate                          0\n",
       "Forested_Area                           0\n",
       "Gasoline_Price                          0\n",
       "GDP                                     0\n",
       "Gross_primary_education_enrollment      0\n",
       "Gross_tertiary_education_enrollment     0\n",
       "Infant_mortality                        0\n",
       "Largest_city                            0\n",
       "Life_expectancy                         0\n",
       "Maternal_mortality_ratio                0\n",
       "Minimum_wage                            0\n",
       "Official_language                       0\n",
       "Out_of_pocket_health_expenditure        0\n",
       "Physicians_per_thousand                 0\n",
       "Population                              0\n",
       "Population_Labor_force_participation    0\n",
       "Tax_revenue                             0\n",
       "Total_tax_rate                          0\n",
       "Unemployment_rate                       0\n",
       "Urban_population                        0\n",
       "Latitude                                0\n",
       "Longitude                               0\n",
       "dtype: int64"
      ]
     },
     "execution_count": 9,
     "metadata": {},
     "output_type": "execute_result"
    }
   ],
   "source": [
    "df.isnull().sum()"
   ]
  },
  {
   "cell_type": "code",
   "execution_count": 10,
   "id": "bb9a0802-5410-4397-98df-cb5ae20382ae",
   "metadata": {},
   "outputs": [
    {
     "data": {
      "text/plain": [
       "array([47.9,  7.8, 20.1,  2.7, 51.6,  5. ,  8.8, 11. ,  3.1,  2.9, 19.2,\n",
       "        8.3,  6.1, 25.1, 11.3,  2.6, 11.2, 60.5, 24.8, 21.8, 30. , 12.8,\n",
       "        9.8,  5.9, 49. , 41. , 59.4, 16.7, 24. , 50.6,  4.3, 84.5, 71.4,\n",
       "        6.2,  7.4, 12.2, 51.3, 36.2,  7.6,  4. ,  3.7,  1.9, 68.2,  3.6,\n",
       "       49.8, 32.9, 24.1, 18.1, 11.8, 62.6, 31.3,  2.1,  0. , 39.1, 21.6,\n",
       "        1.4,  3.4, 32.7, 39. ,  8.7, 34.9, 13.7, 22.1, 64.9, 54. , 49.5,\n",
       "       15.1,  1.5, 29.9, 21.1, 12.4, 22.5,  3. ,  1.8, 13.9, 30.6, 41.2,\n",
       "        6.7, 16.9, 37.6,  3.3,  6.4, 65.7, 53.5, 10.2, 38.2, 35.3, 62. ,\n",
       "       27.4, 51.5, 13.6, 25.6, 14. ,  2.3, 36.8, 29. , 26.7,  4.7, 15.7,\n",
       "       48. , 75.7, 57.2, 16.6, 13.1, 38. , 17.2, 11.1,  3.8,  5.8, 27. ,\n",
       "       14.9, 14.8,  1.7, 24.4,  6. , 31.8,  4.8, 78.5,  4.6, 17.1, 76.6,\n",
       "       28.5, 63.7,  2.5, 42.1,  2.2, 30.4, 39.3, 47.4, 13.4, 16.4, 14.6,\n",
       "        9.1, 20.6, 33.8,  7.5,  6.5,  5.6, 19.1, 22.3, 21.4, 16.5, 42.9,\n",
       "       40.4, 33.9])"
      ]
     },
     "execution_count": 10,
     "metadata": {},
     "output_type": "execute_result"
    }
   ],
   "source": [
    "df.Infant_mortality.unique()"
   ]
  },
  {
   "cell_type": "code",
   "execution_count": 11,
   "id": "a21a7d72-604c-4f4b-b5a0-96623cfb9937",
   "metadata": {},
   "outputs": [],
   "source": [
    "df.Infant_mortality = df.Infant_mortality.replace('[nan]', '', regex=True).astype('float64')"
   ]
  },
  {
   "cell_type": "code",
   "execution_count": 12,
   "id": "cf009d27-5e21-40c3-a496-c5db74af8313",
   "metadata": {},
   "outputs": [
    {
     "data": {
      "text/plain": [
       "array([47.9,  7.8, 20.1,  2.7, 51.6,  5. ,  8.8, 11. ,  3.1,  2.9, 19.2,\n",
       "        8.3,  6.1, 25.1, 11.3,  2.6, 11.2, 60.5, 24.8, 21.8, 30. , 12.8,\n",
       "        9.8,  5.9, 49. , 41. , 59.4, 16.7, 24. , 50.6,  4.3, 84.5, 71.4,\n",
       "        6.2,  7.4, 12.2, 51.3, 36.2,  7.6,  4. ,  3.7,  1.9, 68.2,  3.6,\n",
       "       49.8, 32.9, 24.1, 18.1, 11.8, 62.6, 31.3,  2.1,  0. , 39.1, 21.6,\n",
       "        1.4,  3.4, 32.7, 39. ,  8.7, 34.9, 13.7, 22.1, 64.9, 54. , 49.5,\n",
       "       15.1,  1.5, 29.9, 21.1, 12.4, 22.5,  3. ,  1.8, 13.9, 30.6, 41.2,\n",
       "        6.7, 16.9, 37.6,  3.3,  6.4, 65.7, 53.5, 10.2, 38.2, 35.3, 62. ,\n",
       "       27.4, 51.5, 13.6, 25.6, 14. ,  2.3, 36.8, 29. , 26.7,  4.7, 15.7,\n",
       "       48. , 75.7, 57.2, 16.6, 13.1, 38. , 17.2, 11.1,  3.8,  5.8, 27. ,\n",
       "       14.9, 14.8,  1.7, 24.4,  6. , 31.8,  4.8, 78.5,  4.6, 17.1, 76.6,\n",
       "       28.5, 63.7,  2.5, 42.1,  2.2, 30.4, 39.3, 47.4, 13.4, 16.4, 14.6,\n",
       "        9.1, 20.6, 33.8,  7.5,  6.5,  5.6, 19.1, 22.3, 21.4, 16.5, 42.9,\n",
       "       40.4, 33.9])"
      ]
     },
     "execution_count": 12,
     "metadata": {},
     "output_type": "execute_result"
    }
   ],
   "source": [
    "df.Infant_mortality.unique()"
   ]
  },
  {
   "cell_type": "code",
   "execution_count": 13,
   "id": "778964bb-518c-4282-9dc4-c146eefa2da5",
   "metadata": {},
   "outputs": [
    {
     "data": {
      "text/plain": [
       "array(['652,230', '28,748', '2,381,741', '468', '1,246,700', '443',\n",
       "       '2,780,400', '29,743', '7,741,220', '83,871', '86,600', '13,880',\n",
       "       '765', '148,460', '430', '207,600', '30,528', '22,966', '112,622',\n",
       "       '38,394', '1,098,581', '51,197', '581,730', '8,515,770', '5,765',\n",
       "       '110,879', '274,200', '27,830', '322,463', '4,033', '181,035',\n",
       "       '475,440', '9,984,670', '622,984', '1,284,000', '756,096',\n",
       "       '9,596,960', '1,138,910', '2,235', '342,000', '51,100', '56,594',\n",
       "       '110,860', '9,251', '78,867', '2,344,858', '43,094', '23,200',\n",
       "       '751', '48,670', '283,561', '1,001,450', '21,041', '28,051',\n",
       "       '117,600', '45,228', '17,364', '1,104,300', '18,274', '338,145',\n",
       "       '643,801', '267,667', '11,300', '69,700', '357,022', '238,533',\n",
       "       '131,957', '349', '108,889', '245,857', '36,125', '214,969',\n",
       "       '27,750', '0', '112,090', '93,028', '103,000', '3,287,263',\n",
       "       '1,904,569', '1,648,195', '438,317', '70,273', '20,770', '301,340',\n",
       "       '10,991', '377,944', '89,342', '2,724,900', '580,367', '811',\n",
       "       '17,818', '199,951', '236,800', '64,589', '10,400', '30,355',\n",
       "       '111,369', '1,759,540', '160', '65,300', '2,586', '587,041',\n",
       "       '118,484', '329,847', '298', '1,240,192', '316', '181',\n",
       "       '1,030,700', '2,040', '1,964,375', '702', '33,851', '2',\n",
       "       '1,564,116', '13,812', '446,550', '799,380', '676,578', '824,292',\n",
       "       '21', '147,181', '41,543', '268,838', '130,370', '1,267,000',\n",
       "       '923,768', '120,538', '25,713', '323,802', '309,500', '796,095',\n",
       "       '459', 0, '75,420', '462,840', '406,752', '1,285,216', '300,000',\n",
       "       '312,685', '92,212', '11,586', '238,391', '17,098,240', '26,338',\n",
       "       '261', '616', '389', '2,831', '61', '964', '2,149,690', '196,722',\n",
       "       '77,474', '455', '71,740', '716', '49,035', '20,273', '28,896',\n",
       "       '637,657', '1,219,090', '99,720', '644,329', '505,370', '65,610',\n",
       "       '1,861,484', '163,820', '450,295', '41,277', '185,180', '144,100',\n",
       "       '947,300', '513,120', '14,874', '56,785', '747', '5,128',\n",
       "       '163,610', '783,562', '488,100', '26', '241,038', '603,550',\n",
       "       '83,600', '243,610', '9,833,517', '176,215', '447,400', '12,189',\n",
       "       '912,050', '331,210', '527,968', '752,618', '390,757'],\n",
       "      dtype=object)"
      ]
     },
     "execution_count": 13,
     "metadata": {},
     "output_type": "execute_result"
    }
   ],
   "source": [
    "df.Land_Area.unique()"
   ]
  },
  {
   "cell_type": "code",
   "execution_count": 14,
   "id": "a8cfaf5c-1a25-4027-aa8c-3e583455a848",
   "metadata": {},
   "outputs": [],
   "source": [
    "df.Land_Area = df.Land_Area.replace('[,]', '0', regex=True).astype('int64')"
   ]
  },
  {
   "cell_type": "code",
   "execution_count": 15,
   "id": "2cc5a737-43f8-4c2c-86ec-08d8f68244a0",
   "metadata": {},
   "outputs": [],
   "source": [
    "df.Land_Area = df.Land_Area.replace('[nan]', '', regex=True).astype('int64')"
   ]
  },
  {
   "cell_type": "code",
   "execution_count": 16,
   "id": "0e8b1cf5-feba-4641-8898-d7e571161f66",
   "metadata": {},
   "outputs": [
    {
     "data": {
      "text/plain": [
       "array([   6520230,     280748,  203810741,        468,  102460700,\n",
       "              443,  207800400,     290743,  707410220,     830871,\n",
       "           860600,     130880,        765,    1480460,        430,\n",
       "          2070600,     300528,     220966,    1120622,     380394,\n",
       "        100980581,     510197,    5810730,  805150770,      50765,\n",
       "          1100879,    2740200,     270830,    3220463,      40033,\n",
       "          1810035,    4750440,  909840670,    6220984,  102840000,\n",
       "          7560096,  905960960,  101380910,      20235,    3420000,\n",
       "           510100,     560594,    1100860,      90251,     780867,\n",
       "        203440858,     430094,     230200,        751,     480670,\n",
       "          2830561,  100010450,     210041,     280051,    1170600,\n",
       "           450228,     170364,  101040300,     180274,    3380145,\n",
       "          6430801,    2670667,     110300,     690700,    3570022,\n",
       "          2380533,    1310957,        349,    1080889,    2450857,\n",
       "           360125,    2140969,     270750,          0,    1120090,\n",
       "           930028,    1030000,  302870263,  109040569,  106480195,\n",
       "          4380317,     700273,     200770,    3010340,     100991,\n",
       "          3770944,     890342,  207240900,    5800367,        811,\n",
       "           170818,    1990951,    2360800,     640589,     100400,\n",
       "           300355,    1110369,  107590540,        160,     650300,\n",
       "            20586,    5870041,    1180484,    3290847,        298,\n",
       "        102400192,        316,        181,  100300700,      20040,\n",
       "        109640375,        702,     330851,          2,  105640116,\n",
       "           130812,    4460550,    7990380,    6760578,    8240292,\n",
       "               21,    1470181,     410543,    2680838,    1300370,\n",
       "        102670000,    9230768,    1200538,     250713,    3230802,\n",
       "          3090500,    7960095,        459,     750420,    4620840,\n",
       "          4060752,  102850216,    3000000,    3120685,     920212,\n",
       "           110586,    2380391, 1700980240,     260338,        261,\n",
       "              616,        389,      20831,         61,        964,\n",
       "        201490690,    1960722,     770474,        455,     710740,\n",
       "              716,     490035,     200273,     280896,    6370657,\n",
       "        102190090,     990720,    6440329,    5050370,     650610,\n",
       "        108610484,    1630820,    4500295,     410277,    1850180,\n",
       "          1440100,    9470300,    5130120,     140874,     560785,\n",
       "              747,      50128,    1630610,    7830562,    4880100,\n",
       "               26,    2410038,    6030550,     830600,    2430610,\n",
       "        908330517,    1760215,    4470400,     120189,    9120050,\n",
       "          3310210,    5270968,    7520618,    3900757], dtype=int64)"
      ]
     },
     "execution_count": 16,
     "metadata": {},
     "output_type": "execute_result"
    }
   ],
   "source": [
    "df.Land_Area.unique()"
   ]
  },
  {
   "cell_type": "code",
   "execution_count": 17,
   "id": "54efce9a-adc6-4bbd-8a9f-a0aa73e9addf",
   "metadata": {},
   "outputs": [
    {
     "data": {
      "text/plain": [
       "Country                                  object\n",
       "Density                                  object\n",
       "Abbreviation                             object\n",
       "Agricultural_Land                        object\n",
       "Land_Area                                 int64\n",
       "Armed_Forces_size                        object\n",
       "Birth_Rate                              float64\n",
       "Calling_Code                            float64\n",
       "Major_City                               object\n",
       "Co2_Emissions                            object\n",
       "CPI                                      object\n",
       "CPI_Change                               object\n",
       "Currency_Code                            object\n",
       "Fertility_Rate                          float64\n",
       "Forested_Area                            object\n",
       "Gasoline_Price                           object\n",
       "GDP                                      object\n",
       "Gross_primary_education_enrollment       object\n",
       "Gross_tertiary_education_enrollment      object\n",
       "Infant_mortality                        float64\n",
       "Largest_city                             object\n",
       "Life_expectancy                         float64\n",
       "Maternal_mortality_ratio                float64\n",
       "Minimum_wage                             object\n",
       "Official_language                        object\n",
       "Out_of_pocket_health_expenditure         object\n",
       "Physicians_per_thousand                 float64\n",
       "Population                               object\n",
       "Population_Labor_force_participation     object\n",
       "Tax_revenue                              object\n",
       "Total_tax_rate                           object\n",
       "Unemployment_rate                        object\n",
       "Urban_population                         object\n",
       "Latitude                                float64\n",
       "Longitude                               float64\n",
       "dtype: object"
      ]
     },
     "execution_count": 17,
     "metadata": {},
     "output_type": "execute_result"
    }
   ],
   "source": [
    "df.dtypes"
   ]
  },
  {
   "cell_type": "code",
   "execution_count": 18,
   "id": "618427a6-b2b4-45c3-b6e8-ce0013d3e7ef",
   "metadata": {},
   "outputs": [
    {
     "data": {
      "text/plain": [
       "array(['Afghanistan', 'Albania', 'Algeria', 'Andorra', 'Angola',\n",
       "       'Antigua and Barbuda', 'Argentina', 'Armenia', 'Australia',\n",
       "       'Austria', 'Azerbaijan', 'The Bahamas', 'Bahrain', 'Bangladesh',\n",
       "       'Barbados', 'Belarus', 'Belgium', 'Belize', 'Benin', 'Bhutan',\n",
       "       'Bolivia', 'Bosnia and Herzegovina', 'Botswana', 'Brazil',\n",
       "       'Brunei', 'Bulgaria', 'Burkina Faso', 'Burundi', 'Ivory Coast',\n",
       "       'Cape Verde', 'Cambodia', 'Cameroon', 'Canada',\n",
       "       'Central African Republic', 'Chad', 'Chile', 'China', 'Colombia',\n",
       "       'Comoros', 'Republic of the Congo', 'Costa Rica', 'Croatia',\n",
       "       'Cuba', 'Cyprus', 'Czech Republic',\n",
       "       'Democratic Republic of the Congo', 'Denmark', 'Djibouti',\n",
       "       'Dominica', 'Dominican Republic', 'Ecuador', 'Egypt',\n",
       "       'El Salvador', 'Equatorial Guinea', 'Eritrea', 'Estonia',\n",
       "       'Eswatini', 'Ethiopia', 'Fiji', 'Finland', 'France', 'Gabon',\n",
       "       'The Gambia', 'Georgia', 'Germany', 'Ghana', 'Greece', 'Grenada',\n",
       "       'Guatemala', 'Guinea', 'Guinea-Bissau', 'Guyana', 'Haiti',\n",
       "       'Vatican City', 'Honduras', 'Hungary', 'Iceland', 'India',\n",
       "       'Indonesia', 'Iran', 'Iraq', 'Republic of Ireland', 'Israel',\n",
       "       'Italy', 'Jamaica', 'Japan', 'Jordan', 'Kazakhstan', 'Kenya',\n",
       "       'Kiribati', 'Kuwait', 'Kyrgyzstan', 'Laos', 'Latvia', 'Lebanon',\n",
       "       'Lesotho', 'Liberia', 'Libya', 'Liechtenstein', 'Lithuania',\n",
       "       'Luxembourg', 'Madagascar', 'Malawi', 'Malaysia', 'Maldives',\n",
       "       'Mali', 'Malta', 'Marshall Islands', 'Mauritania', 'Mauritius',\n",
       "       'Mexico', 'Federated States of Micronesia', 'Moldova', 'Monaco',\n",
       "       'Mongolia', 'Montenegro', 'Morocco', 'Mozambique', 'Myanmar',\n",
       "       'Namibia', 'Nauru', 'Nepal', 'Netherlands', 'New Zealand',\n",
       "       'Nicaragua', 'Niger', 'Nigeria', 'North Korea', 'North Macedonia',\n",
       "       'Norway', 'Oman', 'Pakistan', 'Palau',\n",
       "       'Palestinian National Authority', 'Panama', 'Papua New Guinea',\n",
       "       'Paraguay', 'Peru', 'Philippines', 'Poland', 'Portugal', 'Qatar',\n",
       "       'Romania', 'Russia', 'Rwanda', 'Saint Kitts and Nevis',\n",
       "       'Saint Lucia', 'Saint Vincent and the Grenadines', 'Samoa',\n",
       "       'San Marino', 'S�����������', 'Saudi Arabia', 'Senegal', 'Serbia',\n",
       "       'Seychelles', 'Sierra Leone', 'Singapore', 'Slovakia', 'Slovenia',\n",
       "       'Solomon Islands', 'Somalia', 'South Africa', 'South Korea',\n",
       "       'South Sudan', 'Spain', 'Sri Lanka', 'Sudan', 'Suriname', 'Sweden',\n",
       "       'Switzerland', 'Syria', 'Tajikistan', 'Tanzania', 'Thailand',\n",
       "       'East Timor', 'Togo', 'Tonga', 'Trinidad and Tobago', 'Tunisia',\n",
       "       'Turkey', 'Turkmenistan', 'Tuvalu', 'Uganda', 'Ukraine',\n",
       "       'United Arab Emirates', 'United Kingdom', 'United States',\n",
       "       'Uruguay', 'Uzbekistan', 'Vanuatu', 'Venezuela', 'Vietnam',\n",
       "       'Yemen', 'Zambia', 'Zimbabwe'], dtype=object)"
      ]
     },
     "execution_count": 18,
     "metadata": {},
     "output_type": "execute_result"
    }
   ],
   "source": [
    " df[\"Country\"].unique()"
   ]
  },
  {
   "cell_type": "markdown",
   "id": "029e989e-093f-4e64-b3a2-45a2f271d7a0",
   "metadata": {},
   "source": [
    "1. Country"
   ]
  },
  {
   "cell_type": "code",
   "execution_count": 19,
   "id": "7f86dc12-6bb1-4286-a381-541c6d9d9dd8",
   "metadata": {},
   "outputs": [],
   "source": [
    "df.Country = df.Country.replace('[�]', '', regex=True).astype('object')"
   ]
  },
  {
   "cell_type": "code",
   "execution_count": 20,
   "id": "903a8ade-51f0-4bf2-8209-58e821b42f41",
   "metadata": {},
   "outputs": [
    {
     "data": {
      "text/plain": [
       "array(['Afghanistan', 'Albania', 'Algeria', 'Andorra', 'Angola',\n",
       "       'Antigua and Barbuda', 'Argentina', 'Armenia', 'Australia',\n",
       "       'Austria', 'Azerbaijan', 'The Bahamas', 'Bahrain', 'Bangladesh',\n",
       "       'Barbados', 'Belarus', 'Belgium', 'Belize', 'Benin', 'Bhutan',\n",
       "       'Bolivia', 'Bosnia and Herzegovina', 'Botswana', 'Brazil',\n",
       "       'Brunei', 'Bulgaria', 'Burkina Faso', 'Burundi', 'Ivory Coast',\n",
       "       'Cape Verde', 'Cambodia', 'Cameroon', 'Canada',\n",
       "       'Central African Republic', 'Chad', 'Chile', 'China', 'Colombia',\n",
       "       'Comoros', 'Republic of the Congo', 'Costa Rica', 'Croatia',\n",
       "       'Cuba', 'Cyprus', 'Czech Republic',\n",
       "       'Democratic Republic of the Congo', 'Denmark', 'Djibouti',\n",
       "       'Dominica', 'Dominican Republic', 'Ecuador', 'Egypt',\n",
       "       'El Salvador', 'Equatorial Guinea', 'Eritrea', 'Estonia',\n",
       "       'Eswatini', 'Ethiopia', 'Fiji', 'Finland', 'France', 'Gabon',\n",
       "       'The Gambia', 'Georgia', 'Germany', 'Ghana', 'Greece', 'Grenada',\n",
       "       'Guatemala', 'Guinea', 'Guinea-Bissau', 'Guyana', 'Haiti',\n",
       "       'Vatican City', 'Honduras', 'Hungary', 'Iceland', 'India',\n",
       "       'Indonesia', 'Iran', 'Iraq', 'Republic of Ireland', 'Israel',\n",
       "       'Italy', 'Jamaica', 'Japan', 'Jordan', 'Kazakhstan', 'Kenya',\n",
       "       'Kiribati', 'Kuwait', 'Kyrgyzstan', 'Laos', 'Latvia', 'Lebanon',\n",
       "       'Lesotho', 'Liberia', 'Libya', 'Liechtenstein', 'Lithuania',\n",
       "       'Luxembourg', 'Madagascar', 'Malawi', 'Malaysia', 'Maldives',\n",
       "       'Mali', 'Malta', 'Marshall Islands', 'Mauritania', 'Mauritius',\n",
       "       'Mexico', 'Federated States of Micronesia', 'Moldova', 'Monaco',\n",
       "       'Mongolia', 'Montenegro', 'Morocco', 'Mozambique', 'Myanmar',\n",
       "       'Namibia', 'Nauru', 'Nepal', 'Netherlands', 'New Zealand',\n",
       "       'Nicaragua', 'Niger', 'Nigeria', 'North Korea', 'North Macedonia',\n",
       "       'Norway', 'Oman', 'Pakistan', 'Palau',\n",
       "       'Palestinian National Authority', 'Panama', 'Papua New Guinea',\n",
       "       'Paraguay', 'Peru', 'Philippines', 'Poland', 'Portugal', 'Qatar',\n",
       "       'Romania', 'Russia', 'Rwanda', 'Saint Kitts and Nevis',\n",
       "       'Saint Lucia', 'Saint Vincent and the Grenadines', 'Samoa',\n",
       "       'San Marino', 'S', 'Saudi Arabia', 'Senegal', 'Serbia',\n",
       "       'Seychelles', 'Sierra Leone', 'Singapore', 'Slovakia', 'Slovenia',\n",
       "       'Solomon Islands', 'Somalia', 'South Africa', 'South Korea',\n",
       "       'South Sudan', 'Spain', 'Sri Lanka', 'Sudan', 'Suriname', 'Sweden',\n",
       "       'Switzerland', 'Syria', 'Tajikistan', 'Tanzania', 'Thailand',\n",
       "       'East Timor', 'Togo', 'Tonga', 'Trinidad and Tobago', 'Tunisia',\n",
       "       'Turkey', 'Turkmenistan', 'Tuvalu', 'Uganda', 'Ukraine',\n",
       "       'United Arab Emirates', 'United Kingdom', 'United States',\n",
       "       'Uruguay', 'Uzbekistan', 'Vanuatu', 'Venezuela', 'Vietnam',\n",
       "       'Yemen', 'Zambia', 'Zimbabwe'], dtype=object)"
      ]
     },
     "execution_count": 20,
     "metadata": {},
     "output_type": "execute_result"
    }
   ],
   "source": [
    " df[\"Country\"].unique()"
   ]
  },
  {
   "cell_type": "code",
   "execution_count": 21,
   "id": "b7dc4bd1-3e78-4ae2-aa4a-991f48e77abc",
   "metadata": {},
   "outputs": [
    {
     "data": {
      "text/plain": [
       "Country\n",
       "Afghanistan      1\n",
       "Saint Lucia      1\n",
       "Nicaragua        1\n",
       "Niger            1\n",
       "Nigeria          1\n",
       "                ..\n",
       "Grenada          1\n",
       "Guatemala        1\n",
       "Guinea           1\n",
       "Guinea-Bissau    1\n",
       "Zimbabwe         1\n",
       "Name: count, Length: 195, dtype: int64"
      ]
     },
     "execution_count": 21,
     "metadata": {},
     "output_type": "execute_result"
    }
   ],
   "source": [
    "df[\"Country\"].value_counts()"
   ]
  },
  {
   "cell_type": "code",
   "execution_count": 22,
   "id": "5bc7a912-c95f-487a-b524-e6e911edcc03",
   "metadata": {},
   "outputs": [
    {
     "data": {
      "text/html": [
       "<div>\n",
       "<style scoped>\n",
       "    .dataframe tbody tr th:only-of-type {\n",
       "        vertical-align: middle;\n",
       "    }\n",
       "\n",
       "    .dataframe tbody tr th {\n",
       "        vertical-align: top;\n",
       "    }\n",
       "\n",
       "    .dataframe thead th {\n",
       "        text-align: right;\n",
       "    }\n",
       "</style>\n",
       "<table border=\"1\" class=\"dataframe\">\n",
       "  <thead>\n",
       "    <tr style=\"text-align: right;\">\n",
       "      <th></th>\n",
       "      <th>Population</th>\n",
       "      <th>Land_Area</th>\n",
       "      <th>Density</th>\n",
       "    </tr>\n",
       "    <tr>\n",
       "      <th>Country</th>\n",
       "      <th></th>\n",
       "      <th></th>\n",
       "      <th></th>\n",
       "    </tr>\n",
       "  </thead>\n",
       "  <tbody>\n",
       "    <tr>\n",
       "      <th>Afghanistan</th>\n",
       "      <td>1</td>\n",
       "      <td>1</td>\n",
       "      <td>1</td>\n",
       "    </tr>\n",
       "    <tr>\n",
       "      <th>Albania</th>\n",
       "      <td>1</td>\n",
       "      <td>1</td>\n",
       "      <td>1</td>\n",
       "    </tr>\n",
       "    <tr>\n",
       "      <th>Algeria</th>\n",
       "      <td>1</td>\n",
       "      <td>1</td>\n",
       "      <td>1</td>\n",
       "    </tr>\n",
       "    <tr>\n",
       "      <th>Andorra</th>\n",
       "      <td>1</td>\n",
       "      <td>1</td>\n",
       "      <td>1</td>\n",
       "    </tr>\n",
       "    <tr>\n",
       "      <th>Angola</th>\n",
       "      <td>1</td>\n",
       "      <td>1</td>\n",
       "      <td>1</td>\n",
       "    </tr>\n",
       "    <tr>\n",
       "      <th>Antigua and Barbuda</th>\n",
       "      <td>1</td>\n",
       "      <td>1</td>\n",
       "      <td>1</td>\n",
       "    </tr>\n",
       "    <tr>\n",
       "      <th>Argentina</th>\n",
       "      <td>1</td>\n",
       "      <td>1</td>\n",
       "      <td>1</td>\n",
       "    </tr>\n",
       "    <tr>\n",
       "      <th>Armenia</th>\n",
       "      <td>1</td>\n",
       "      <td>1</td>\n",
       "      <td>1</td>\n",
       "    </tr>\n",
       "    <tr>\n",
       "      <th>Australia</th>\n",
       "      <td>1</td>\n",
       "      <td>1</td>\n",
       "      <td>1</td>\n",
       "    </tr>\n",
       "    <tr>\n",
       "      <th>Austria</th>\n",
       "      <td>1</td>\n",
       "      <td>1</td>\n",
       "      <td>1</td>\n",
       "    </tr>\n",
       "  </tbody>\n",
       "</table>\n",
       "</div>"
      ],
      "text/plain": [
       "                     Population  Land_Area  Density\n",
       "Country                                            \n",
       "Afghanistan                   1          1        1\n",
       "Albania                       1          1        1\n",
       "Algeria                       1          1        1\n",
       "Andorra                       1          1        1\n",
       "Angola                        1          1        1\n",
       "Antigua and Barbuda           1          1        1\n",
       "Argentina                     1          1        1\n",
       "Armenia                       1          1        1\n",
       "Australia                     1          1        1\n",
       "Austria                       1          1        1"
      ]
     },
     "execution_count": 22,
     "metadata": {},
     "output_type": "execute_result"
    }
   ],
   "source": [
    "df.groupby(\"Country\")[[\"Population\", \"Land_Area\", \"Density\"]].count().head(10)"
   ]
  },
  {
   "cell_type": "markdown",
   "id": "01d08e3a-f087-4550-ad31-d8861dd0737b",
   "metadata": {},
   "source": [
    "2. Population Density"
   ]
  },
  {
   "cell_type": "code",
   "execution_count": 23,
   "id": "dfd91dce-8bd3-4cd7-a37b-47f17f11d746",
   "metadata": {},
   "outputs": [
    {
     "data": {
      "text/plain": [
       "array(['60', '105', '18', '164', '26', '223', '17', '104', '3', '109',\n",
       "       '123', '39', '2,239', '1,265', '668', '47', '383', '108', '20',\n",
       "       '11', '64', '4', '25', '83', '76', '463', '138', '95', '56', '8',\n",
       "       '13', '153', '46', '467', '16', '100', '73', '106', '131', '139',\n",
       "       '40', '137', '43', '96', '225', '71', '103', '313', '50', '35',\n",
       "       '31', '67', '115', '49', '119', '9', '239', '57', '240', '81',\n",
       "       '331', '167', '53', '70', '414', '2,003', '89', '107', '464',\n",
       "       '151', '52', '93', '72', '400', '206', '273', '347', '7', '94',\n",
       "       '147', '34', '32', '30', '667', '238', '242', '48', '203', '99',\n",
       "       '1,802', '1,380', '329', '5', '626', '66', '784', '26,337', '2',\n",
       "       '541', '508', '55', '19', '226', '214', '15', '287', '847', '58',\n",
       "       '368', '124', '111', '248', '84', '525', '205', '301', '284',\n",
       "       '566', '228', '87', '8,358', '114', '527', '341', '219', '68',\n",
       "       '152', '110', '393', '229', '75', '118', '281', '36', '79', '314',\n",
       "       '38'], dtype=object)"
      ]
     },
     "execution_count": 23,
     "metadata": {},
     "output_type": "execute_result"
    }
   ],
   "source": [
    " df[\"Density\"].unique()"
   ]
  },
  {
   "cell_type": "code",
   "execution_count": 24,
   "id": "8b418442-3fcb-4968-b77a-22ed1bce2430",
   "metadata": {},
   "outputs": [],
   "source": [
    "df.Density = df.Density.replace('[,]', '', regex=True).astype('int64')"
   ]
  },
  {
   "cell_type": "code",
   "execution_count": 25,
   "id": "89505d07-eb4e-4a54-9698-c329a1e62627",
   "metadata": {},
   "outputs": [
    {
     "data": {
      "text/plain": [
       "array([   60,   105,    18,   164,    26,   223,    17,   104,     3,\n",
       "         109,   123,    39,  2239,  1265,   668,    47,   383,   108,\n",
       "          20,    11,    64,     4,    25,    83,    76,   463,   138,\n",
       "          95,    56,     8,    13,   153,    46,   467,    16,   100,\n",
       "          73,   106,   131,   139,    40,   137,    43,    96,   225,\n",
       "          71,   103,   313,    50,    35,    31,    67,   115,    49,\n",
       "         119,     9,   239,    57,   240,    81,   331,   167,    53,\n",
       "          70,   414,  2003,    89,   107,   464,   151,    52,    93,\n",
       "          72,   400,   206,   273,   347,     7,    94,   147,    34,\n",
       "          32,    30,   667,   238,   242,    48,   203,    99,  1802,\n",
       "        1380,   329,     5,   626,    66,   784, 26337,     2,   541,\n",
       "         508,    55,    19,   226,   214,    15,   287,   847,    58,\n",
       "         368,   124,   111,   248,    84,   525,   205,   301,   284,\n",
       "         566,   228,    87,  8358,   114,   527,   341,   219,    68,\n",
       "         152,   110,   393,   229,    75,   118,   281,    36,    79,\n",
       "         314,    38], dtype=int64)"
      ]
     },
     "execution_count": 25,
     "metadata": {},
     "output_type": "execute_result"
    }
   ],
   "source": [
    " df[\"Density\"].unique()"
   ]
  },
  {
   "cell_type": "code",
   "execution_count": 26,
   "id": "4838f692-cd16-44b1-97f4-44039a505fd7",
   "metadata": {},
   "outputs": [
    {
     "data": {
      "text/plain": [
       "2"
      ]
     },
     "execution_count": 26,
     "metadata": {},
     "output_type": "execute_result"
    }
   ],
   "source": [
    "df[\"Density\"].min()"
   ]
  },
  {
   "cell_type": "code",
   "execution_count": 27,
   "id": "50f2f7cb-6163-43f8-948c-59a19677a37d",
   "metadata": {},
   "outputs": [
    {
     "data": {
      "text/plain": [
       "26337"
      ]
     },
     "execution_count": 27,
     "metadata": {},
     "output_type": "execute_result"
    }
   ],
   "source": [
    "df[\"Density\"].max()"
   ]
  },
  {
   "cell_type": "code",
   "execution_count": 28,
   "id": "0248480a-873f-4d9d-aedd-54b4c39093bc",
   "metadata": {},
   "outputs": [
    {
     "data": {
      "text/plain": [
       "Country    Mongolia\n",
       "Density           2\n",
       "Name: 114, dtype: object"
      ]
     },
     "execution_count": 28,
     "metadata": {},
     "output_type": "execute_result"
    }
   ],
   "source": [
    "(df.loc[df[\"Density\"].idxmin(), [\"Country\", \"Density\"]])"
   ]
  },
  {
   "cell_type": "code",
   "execution_count": 29,
   "id": "d590801e-03e3-4744-a389-b81e5d191ab7",
   "metadata": {},
   "outputs": [
    {
     "data": {
      "text/plain": [
       "Country    Monaco\n",
       "Density     26337\n",
       "Name: 113, dtype: object"
      ]
     },
     "execution_count": 29,
     "metadata": {},
     "output_type": "execute_result"
    }
   ],
   "source": [
    "(df.loc[df[\"Density\"].idxmax(), [\"Country\", \"Density\"]])"
   ]
  },
  {
   "cell_type": "code",
   "execution_count": 30,
   "id": "f36b894c-663e-456d-91a6-7fe9151bc8dc",
   "metadata": {},
   "outputs": [
    {
     "data": {
      "text/html": [
       "<div>\n",
       "<style scoped>\n",
       "    .dataframe tbody tr th:only-of-type {\n",
       "        vertical-align: middle;\n",
       "    }\n",
       "\n",
       "    .dataframe tbody tr th {\n",
       "        vertical-align: top;\n",
       "    }\n",
       "\n",
       "    .dataframe thead th {\n",
       "        text-align: right;\n",
       "    }\n",
       "</style>\n",
       "<table border=\"1\" class=\"dataframe\">\n",
       "  <thead>\n",
       "    <tr style=\"text-align: right;\">\n",
       "      <th></th>\n",
       "      <th>Country</th>\n",
       "      <th>Density</th>\n",
       "    </tr>\n",
       "  </thead>\n",
       "  <tbody>\n",
       "    <tr>\n",
       "      <th>8</th>\n",
       "      <td>Australia</td>\n",
       "      <td>3</td>\n",
       "    </tr>\n",
       "    <tr>\n",
       "      <th>22</th>\n",
       "      <td>Botswana</td>\n",
       "      <td>4</td>\n",
       "    </tr>\n",
       "    <tr>\n",
       "      <th>32</th>\n",
       "      <td>Canada</td>\n",
       "      <td>4</td>\n",
       "    </tr>\n",
       "    <tr>\n",
       "      <th>71</th>\n",
       "      <td>Guyana</td>\n",
       "      <td>4</td>\n",
       "    </tr>\n",
       "    <tr>\n",
       "      <th>76</th>\n",
       "      <td>Iceland</td>\n",
       "      <td>3</td>\n",
       "    </tr>\n",
       "    <tr>\n",
       "      <th>97</th>\n",
       "      <td>Libya</td>\n",
       "      <td>4</td>\n",
       "    </tr>\n",
       "    <tr>\n",
       "      <th>108</th>\n",
       "      <td>Mauritania</td>\n",
       "      <td>5</td>\n",
       "    </tr>\n",
       "    <tr>\n",
       "      <th>114</th>\n",
       "      <td>Mongolia</td>\n",
       "      <td>2</td>\n",
       "    </tr>\n",
       "    <tr>\n",
       "      <th>119</th>\n",
       "      <td>Namibia</td>\n",
       "      <td>3</td>\n",
       "    </tr>\n",
       "    <tr>\n",
       "      <th>167</th>\n",
       "      <td>Suriname</td>\n",
       "      <td>4</td>\n",
       "    </tr>\n",
       "  </tbody>\n",
       "</table>\n",
       "</div>"
      ],
      "text/plain": [
       "        Country  Density\n",
       "8     Australia        3\n",
       "22     Botswana        4\n",
       "32       Canada        4\n",
       "71       Guyana        4\n",
       "76      Iceland        3\n",
       "97        Libya        4\n",
       "108  Mauritania        5\n",
       "114    Mongolia        2\n",
       "119     Namibia        3\n",
       "167    Suriname        4"
      ]
     },
     "execution_count": 30,
     "metadata": {},
     "output_type": "execute_result"
    }
   ],
   "source": [
    "low_threshold = df[\"Density\"].quantile(0.05) \n",
    "low_density_countries = df[df[\"Density\"] <= low_threshold][[\"Country\", \"Density\"]]\n",
    "low_density_countries"
   ]
  },
  {
   "cell_type": "code",
   "execution_count": 31,
   "id": "2dfc91de-3462-4748-b25b-468ccdc7cf7b",
   "metadata": {},
   "outputs": [
    {
     "data": {
      "text/html": [
       "<div>\n",
       "<style scoped>\n",
       "    .dataframe tbody tr th:only-of-type {\n",
       "        vertical-align: middle;\n",
       "    }\n",
       "\n",
       "    .dataframe tbody tr th {\n",
       "        vertical-align: top;\n",
       "    }\n",
       "\n",
       "    .dataframe thead th {\n",
       "        text-align: right;\n",
       "    }\n",
       "</style>\n",
       "<table border=\"1\" class=\"dataframe\">\n",
       "  <thead>\n",
       "    <tr style=\"text-align: right;\">\n",
       "      <th></th>\n",
       "      <th>Country</th>\n",
       "      <th>Density</th>\n",
       "    </tr>\n",
       "  </thead>\n",
       "  <tbody>\n",
       "    <tr>\n",
       "      <th>12</th>\n",
       "      <td>Bahrain</td>\n",
       "      <td>2239</td>\n",
       "    </tr>\n",
       "    <tr>\n",
       "      <th>13</th>\n",
       "      <td>Bangladesh</td>\n",
       "      <td>1265</td>\n",
       "    </tr>\n",
       "    <tr>\n",
       "      <th>14</th>\n",
       "      <td>Barbados</td>\n",
       "      <td>668</td>\n",
       "    </tr>\n",
       "    <tr>\n",
       "      <th>73</th>\n",
       "      <td>Vatican City</td>\n",
       "      <td>2003</td>\n",
       "    </tr>\n",
       "    <tr>\n",
       "      <th>104</th>\n",
       "      <td>Maldives</td>\n",
       "      <td>1802</td>\n",
       "    </tr>\n",
       "    <tr>\n",
       "      <th>106</th>\n",
       "      <td>Malta</td>\n",
       "      <td>1380</td>\n",
       "    </tr>\n",
       "    <tr>\n",
       "      <th>111</th>\n",
       "      <td>Federated States of Micronesia</td>\n",
       "      <td>784</td>\n",
       "    </tr>\n",
       "    <tr>\n",
       "      <th>113</th>\n",
       "      <td>Monaco</td>\n",
       "      <td>26337</td>\n",
       "    </tr>\n",
       "    <tr>\n",
       "      <th>133</th>\n",
       "      <td>Palestinian National Authority</td>\n",
       "      <td>847</td>\n",
       "    </tr>\n",
       "    <tr>\n",
       "      <th>156</th>\n",
       "      <td>Singapore</td>\n",
       "      <td>8358</td>\n",
       "    </tr>\n",
       "  </tbody>\n",
       "</table>\n",
       "</div>"
      ],
      "text/plain": [
       "                            Country  Density\n",
       "12                          Bahrain     2239\n",
       "13                       Bangladesh     1265\n",
       "14                         Barbados      668\n",
       "73                     Vatican City     2003\n",
       "104                        Maldives     1802\n",
       "106                           Malta     1380\n",
       "111  Federated States of Micronesia      784\n",
       "113                          Monaco    26337\n",
       "133  Palestinian National Authority      847\n",
       "156                       Singapore     8358"
      ]
     },
     "execution_count": 31,
     "metadata": {},
     "output_type": "execute_result"
    }
   ],
   "source": [
    "high_threshold = df[\"Density\"].quantile(0.95)\n",
    "high_density_countries = df[df[\"Density\"] >= high_threshold][[\"Country\", \"Density\"]]\n",
    "high_density_countries"
   ]
  },
  {
   "cell_type": "code",
   "execution_count": 32,
   "id": "9fac5f96-429c-4441-a9e5-6b29b321d3c6",
   "metadata": {},
   "outputs": [
    {
     "data": {
      "text/html": [
       "<div>\n",
       "<style scoped>\n",
       "    .dataframe tbody tr th:only-of-type {\n",
       "        vertical-align: middle;\n",
       "    }\n",
       "\n",
       "    .dataframe tbody tr th {\n",
       "        vertical-align: top;\n",
       "    }\n",
       "\n",
       "    .dataframe thead th {\n",
       "        text-align: right;\n",
       "    }\n",
       "</style>\n",
       "<table border=\"1\" class=\"dataframe\">\n",
       "  <thead>\n",
       "    <tr style=\"text-align: right;\">\n",
       "      <th></th>\n",
       "      <th>Country</th>\n",
       "      <th>Abbreviation</th>\n",
       "    </tr>\n",
       "  </thead>\n",
       "  <tbody>\n",
       "    <tr>\n",
       "      <th>0</th>\n",
       "      <td>Afghanistan</td>\n",
       "      <td>AF</td>\n",
       "    </tr>\n",
       "    <tr>\n",
       "      <th>1</th>\n",
       "      <td>Albania</td>\n",
       "      <td>AL</td>\n",
       "    </tr>\n",
       "    <tr>\n",
       "      <th>2</th>\n",
       "      <td>Algeria</td>\n",
       "      <td>DZ</td>\n",
       "    </tr>\n",
       "    <tr>\n",
       "      <th>3</th>\n",
       "      <td>Andorra</td>\n",
       "      <td>AD</td>\n",
       "    </tr>\n",
       "    <tr>\n",
       "      <th>4</th>\n",
       "      <td>Angola</td>\n",
       "      <td>AO</td>\n",
       "    </tr>\n",
       "    <tr>\n",
       "      <th>...</th>\n",
       "      <td>...</td>\n",
       "      <td>...</td>\n",
       "    </tr>\n",
       "    <tr>\n",
       "      <th>190</th>\n",
       "      <td>Venezuela</td>\n",
       "      <td>VE</td>\n",
       "    </tr>\n",
       "    <tr>\n",
       "      <th>191</th>\n",
       "      <td>Vietnam</td>\n",
       "      <td>VN</td>\n",
       "    </tr>\n",
       "    <tr>\n",
       "      <th>192</th>\n",
       "      <td>Yemen</td>\n",
       "      <td>YE</td>\n",
       "    </tr>\n",
       "    <tr>\n",
       "      <th>193</th>\n",
       "      <td>Zambia</td>\n",
       "      <td>ZM</td>\n",
       "    </tr>\n",
       "    <tr>\n",
       "      <th>194</th>\n",
       "      <td>Zimbabwe</td>\n",
       "      <td>ZW</td>\n",
       "    </tr>\n",
       "  </tbody>\n",
       "</table>\n",
       "<p>195 rows × 2 columns</p>\n",
       "</div>"
      ],
      "text/plain": [
       "         Country Abbreviation\n",
       "0    Afghanistan           AF\n",
       "1        Albania           AL\n",
       "2        Algeria           DZ\n",
       "3        Andorra           AD\n",
       "4         Angola           AO\n",
       "..           ...          ...\n",
       "190    Venezuela           VE\n",
       "191      Vietnam           VN\n",
       "192        Yemen           YE\n",
       "193       Zambia           ZM\n",
       "194     Zimbabwe           ZW\n",
       "\n",
       "[195 rows x 2 columns]"
      ]
     },
     "execution_count": 32,
     "metadata": {},
     "output_type": "execute_result"
    }
   ],
   "source": [
    "df[[\"Country\", \"Abbreviation\"]]"
   ]
  },
  {
   "cell_type": "code",
   "execution_count": 33,
   "id": "b171c434-e129-4bd8-86a7-5cefc503dbf4",
   "metadata": {},
   "outputs": [
    {
     "data": {
      "text/plain": [
       "array(['AF', 'AL', 'DZ', 'AD', 'AO', 'AG', 'AR', 'AM', 'AU', 'AT', 'AZ',\n",
       "       'BS', 'BH', 'BD', 'BB', 'BY', 'BE', 'BZ', 'BJ', 'BT', 'BO', 'BA',\n",
       "       'BW', 'BR', 'BN', 'BG', 'BF', 'BI', 'CI', 'CV', 'KH', 'CM', 'CA',\n",
       "       'CF', 'TD', 'CL', 'CN', 'CO', 'KM', 0, 'CR', 'HR', 'CU', 'CY',\n",
       "       'CZ', 'CD', 'DK', 'DJ', 'DM', 'DO', 'EC', 'EG', 'SV', 'GQ', 'ER',\n",
       "       'EE', 'ET', 'FJ', 'FI', 'FR', 'GA', 'GM', 'GE', 'DE', 'GH', 'GR',\n",
       "       'GD', 'GT', 'GN', 'GW', 'GY', 'HT', 'HN', 'HU', 'IS', 'IN', 'ID',\n",
       "       'IR', 'IQ', 'IL', 'IT', 'JM', 'JP', 'JO', 'KZ', 'KE', 'KI', 'KW',\n",
       "       'KG', 'LA', 'LV', 'LB', 'LS', 'LR', 'LY', 'LI', 'LT', 'LU', 'MG',\n",
       "       'MW', 'MY', 'MV', 'ML', 'MT', 'MH', 'MR', 'MU', 'MX', 'FM', 'MD',\n",
       "       'MC', 'MN', 'ME', 'MA', 'MZ', 'MM', 'NR', 'NP', 'NL', 'NZ', 'NI',\n",
       "       'NE', 'NG', 'KP', 'NO', 'OM', 'PK', 'PW', 'PA', 'PG', 'PY', 'PE',\n",
       "       'PH', 'PL', 'PT', 'QA', 'RO', 'RU', 'RW', 'KN', 'LC', 'VC', 'WS',\n",
       "       'SM', 'ST', 'SA', 'SN', 'RS', 'SC', 'SL', 'SG', 'SK', 'SI', 'SB',\n",
       "       'SO', 'ZA', 'KR', 'SS', 'ES', 'LK', 'SD', 'SR', 'SE', 'CH', 'SY',\n",
       "       'TJ', 'TZ', 'TH', 'TL', 'TG', 'TO', 'TT', 'TN', 'TR', 'TM', 'TV',\n",
       "       'UG', 'UA', 'AE', 'GB', 'US', 'UY', 'UZ', 'VU', 'VE', 'VN', 'YE',\n",
       "       'ZM', 'ZW'], dtype=object)"
      ]
     },
     "execution_count": 33,
     "metadata": {},
     "output_type": "execute_result"
    }
   ],
   "source": [
    " df[\"Abbreviation\"].unique()"
   ]
  },
  {
   "cell_type": "code",
   "execution_count": 34,
   "id": "a775797b-21a0-4cd7-83f1-e48ae5a12111",
   "metadata": {},
   "outputs": [],
   "source": [
    "df.Abbreviation = df.Abbreviation.replace('[0]','', regex=True).astype('object')"
   ]
  },
  {
   "cell_type": "code",
   "execution_count": 35,
   "id": "f956b067-ad62-4437-997d-6f2e395e9853",
   "metadata": {},
   "outputs": [
    {
     "data": {
      "text/plain": [
       "array(['AF', 'AL', 'DZ', 'AD', 'AO', 'AG', 'AR', 'AM', 'AU', 'AT', 'AZ',\n",
       "       'BS', 'BH', 'BD', 'BB', 'BY', 'BE', 'BZ', 'BJ', 'BT', 'BO', 'BA',\n",
       "       'BW', 'BR', 'BN', 'BG', 'BF', 'BI', 'CI', 'CV', 'KH', 'CM', 'CA',\n",
       "       'CF', 'TD', 'CL', 'CN', 'CO', 'KM', 0, 'CR', 'HR', 'CU', 'CY',\n",
       "       'CZ', 'CD', 'DK', 'DJ', 'DM', 'DO', 'EC', 'EG', 'SV', 'GQ', 'ER',\n",
       "       'EE', 'ET', 'FJ', 'FI', 'FR', 'GA', 'GM', 'GE', 'DE', 'GH', 'GR',\n",
       "       'GD', 'GT', 'GN', 'GW', 'GY', 'HT', 'HN', 'HU', 'IS', 'IN', 'ID',\n",
       "       'IR', 'IQ', 'IL', 'IT', 'JM', 'JP', 'JO', 'KZ', 'KE', 'KI', 'KW',\n",
       "       'KG', 'LA', 'LV', 'LB', 'LS', 'LR', 'LY', 'LI', 'LT', 'LU', 'MG',\n",
       "       'MW', 'MY', 'MV', 'ML', 'MT', 'MH', 'MR', 'MU', 'MX', 'FM', 'MD',\n",
       "       'MC', 'MN', 'ME', 'MA', 'MZ', 'MM', 'NR', 'NP', 'NL', 'NZ', 'NI',\n",
       "       'NE', 'NG', 'KP', 'NO', 'OM', 'PK', 'PW', 'PA', 'PG', 'PY', 'PE',\n",
       "       'PH', 'PL', 'PT', 'QA', 'RO', 'RU', 'RW', 'KN', 'LC', 'VC', 'WS',\n",
       "       'SM', 'ST', 'SA', 'SN', 'RS', 'SC', 'SL', 'SG', 'SK', 'SI', 'SB',\n",
       "       'SO', 'ZA', 'KR', 'SS', 'ES', 'LK', 'SD', 'SR', 'SE', 'CH', 'SY',\n",
       "       'TJ', 'TZ', 'TH', 'TL', 'TG', 'TO', 'TT', 'TN', 'TR', 'TM', 'TV',\n",
       "       'UG', 'UA', 'AE', 'GB', 'US', 'UY', 'UZ', 'VU', 'VE', 'VN', 'YE',\n",
       "       'ZM', 'ZW'], dtype=object)"
      ]
     },
     "execution_count": 35,
     "metadata": {},
     "output_type": "execute_result"
    }
   ],
   "source": [
    " df[\"Abbreviation\"].unique()"
   ]
  },
  {
   "cell_type": "code",
   "execution_count": 36,
   "id": "7b6a199d-a914-4ba2-8dad-18626e3f8340",
   "metadata": {},
   "outputs": [
    {
     "data": {
      "text/plain": [
       "Abbreviation_Code           1.000000\n",
       "Birth_Rate                  0.158854\n",
       "Fertility_Rate              0.153322\n",
       "Longitude                   0.105405\n",
       "Calling_Code                0.104931\n",
       "Infant_mortality            0.099362\n",
       "Life_expectancy             0.082604\n",
       "Maternal_mortality_ratio    0.074913\n",
       "Density                     0.025826\n",
       "Land_Area                  -0.033090\n",
       "Physicians_per_thousand    -0.089489\n",
       "Latitude                   -0.117730\n",
       "Name: Abbreviation_Code, dtype: float64"
      ]
     },
     "execution_count": 36,
     "metadata": {},
     "output_type": "execute_result"
    }
   ],
   "source": [
    "df['Abbreviation_Code'] = df['Abbreviation'].astype('category').cat.codes\n",
    "df.corr(numeric_only=True)['Abbreviation_Code'].sort_values(ascending=False)"
   ]
  },
  {
   "cell_type": "markdown",
   "id": "093c1d47-f910-41b9-b2ba-5135011644fb",
   "metadata": {},
   "source": [
    "4. Agricultural land"
   ]
  },
  {
   "cell_type": "code",
   "execution_count": 37,
   "id": "103e2ba2-4051-480e-98bd-ab4e03ec159f",
   "metadata": {},
   "outputs": [
    {
     "data": {
      "text/plain": [
       "count     195\n",
       "unique    169\n",
       "top         0\n",
       "freq        7\n",
       "Name: Agricultural_Land, dtype: int64"
      ]
     },
     "execution_count": 37,
     "metadata": {},
     "output_type": "execute_result"
    }
   ],
   "source": [
    "df['Agricultural_Land'].describe()"
   ]
  },
  {
   "cell_type": "code",
   "execution_count": 38,
   "id": "1fac4245-1b2e-4a67-a4c9-367040ac4836",
   "metadata": {},
   "outputs": [
    {
     "data": {
      "text/plain": [
       "array(['8,672', '4,536', '150,006', '469', '34,693', '557', '201,348',\n",
       "       '5,156', '375,908', '61,448', '37,620', '1,786', '31,694',\n",
       "       '84,246', '1,276', '58,280', '96,889', '568', '6,476', '1,261',\n",
       "       '21,606', '21,848', '6,340', '462,299', '7,664', '41,708', '3,418',\n",
       "       '495', '9,674', '543', '9,919', '8,291', '544,894', '297', '1,016',\n",
       "       '85,822', '9,893,038', '97,814', '202', '3,282', '8,023', '17,488',\n",
       "       '28,284', '6,626', '102,218', '2,021', '31,786', '620', '180',\n",
       "       '25,258', '41,155', '238,560', '7,169', '5,655', '711', '16,590',\n",
       "       0, '14,870', '2,046', '45,871', '303,276', '5,321', '532',\n",
       "       '10,128', '727,973', '16,670', '62,434', '268', '16,777', '2,996',\n",
       "       '293', '2,384', '2,978', '9,813', '45,537', '2,065', '2,407,672',\n",
       "       '563,325', '661,710', '190,061', '37,711', '65,166', '320,411',\n",
       "       '8,225', '1,135,886', '25,108', '247,207', '17,910', '66',\n",
       "       '98,734', '9,787', '17,763', '7,004', '24,796', '2,512', '1,386',\n",
       "       '50,564', '51', '12,963', '8,988', '3,905', '1,298', '248,289',\n",
       "       '1,445', '3,179', '1,342', '143', '2,739', '4,349', '486,406',\n",
       "       '5,115', '25,368', '2,017', '61,276', '7,943', '25,280', '4,228',\n",
       "       '9,105', '170,780', '34,382', '5,592', '120,369', '41,023',\n",
       "       '63,457', '201,150', '224', '10,715', '7,536', '7,407', '57,414',\n",
       "       '122,287', '299,037', '48,742', '103,259', '69,259', '1,732,027',\n",
       "       '1,115', '238', '414', '220', '246', '121', '563,449', '10,902',\n",
       "       '45,221', '605', '1,093', '37,535', '32,424', '12,633', '169',\n",
       "       '645', '476,644', '620,302', '1,727', '244,002', '23,362',\n",
       "       '20,000', '1,738', '43,252', '34,477', '28,830', '5,310', '11,973',\n",
       "       '283,763', '3,000', '128', '43,868', '29,937', '372,725', '70,630',\n",
       "       '11', '5,680', '202,250', '206,324', '379,025', '5,006,302',\n",
       "       '6,766', '91,811', '147', '164,175', '192,668', '10,609', '5,141',\n",
       "       '10,983'], dtype=object)"
      ]
     },
     "execution_count": 38,
     "metadata": {},
     "output_type": "execute_result"
    }
   ],
   "source": [
    "df.Co2_Emissions.unique()"
   ]
  },
  {
   "cell_type": "code",
   "execution_count": 39,
   "id": "8910aaef-1be6-414e-9ebb-831f6b9b936a",
   "metadata": {},
   "outputs": [],
   "source": [
    "df.Co2_Emissions = df.Co2_Emissions.replace('[,]','', regex=True).astype('int64')"
   ]
  },
  {
   "cell_type": "code",
   "execution_count": 40,
   "id": "fadac94e-ec8b-4c17-ac92-1c2f5ddd50d1",
   "metadata": {},
   "outputs": [
    {
     "data": {
      "text/plain": [
       "array([   8672,    4536,  150006,     469,   34693,     557,  201348,\n",
       "          5156,  375908,   61448,   37620,    1786,   31694,   84246,\n",
       "          1276,   58280,   96889,     568,    6476,    1261,   21606,\n",
       "         21848,    6340,  462299,    7664,   41708,    3418,     495,\n",
       "          9674,     543,    9919,    8291,  544894,     297,    1016,\n",
       "         85822, 9893038,   97814,     202,    3282,    8023,   17488,\n",
       "         28284,    6626,  102218,    2021,   31786,     620,     180,\n",
       "         25258,   41155,  238560,    7169,    5655,     711,   16590,\n",
       "             0,   14870,    2046,   45871,  303276,    5321,     532,\n",
       "         10128,  727973,   16670,   62434,     268,   16777,    2996,\n",
       "           293,    2384,    2978,    9813,   45537,    2065, 2407672,\n",
       "        563325,  661710,  190061,   37711,   65166,  320411,    8225,\n",
       "       1135886,   25108,  247207,   17910,      66,   98734,    9787,\n",
       "         17763,    7004,   24796,    2512,    1386,   50564,      51,\n",
       "         12963,    8988,    3905,    1298,  248289,    1445,    3179,\n",
       "          1342,     143,    2739,    4349,  486406,    5115,   25368,\n",
       "          2017,   61276,    7943,   25280,    4228,    9105,  170780,\n",
       "         34382,    5592,  120369,   41023,   63457,  201150,     224,\n",
       "         10715,    7536,    7407,   57414,  122287,  299037,   48742,\n",
       "        103259,   69259, 1732027,    1115,     238,     414,     220,\n",
       "           246,     121,  563449,   10902,   45221,     605,    1093,\n",
       "         37535,   32424,   12633,     169,     645,  476644,  620302,\n",
       "          1727,  244002,   23362,   20000,    1738,   43252,   34477,\n",
       "         28830,    5310,   11973,  283763,    3000,     128,   43868,\n",
       "         29937,  372725,   70630,      11,    5680,  202250,  206324,\n",
       "        379025, 5006302,    6766,   91811,     147,  164175,  192668,\n",
       "         10609,    5141,   10983], dtype=int64)"
      ]
     },
     "execution_count": 40,
     "metadata": {},
     "output_type": "execute_result"
    }
   ],
   "source": [
    "df.Co2_Emissions.unique()"
   ]
  },
  {
   "cell_type": "code",
   "execution_count": 41,
   "id": "112b1ebe-a42b-4920-a340-977293b21d73",
   "metadata": {},
   "outputs": [
    {
     "data": {
      "text/plain": [
       "array(['58.10%', '43.10%', '17.40%', '40.00%', '47.50%', '20.50%',\n",
       "       '54.30%', '58.90%', '48.20%', '32.40%', '57.70%', '1.40%',\n",
       "       '11.10%', '70.60%', '23.30%', '42.00%', '44.60%', '7.00%',\n",
       "       '33.30%', '13.60%', '34.80%', '45.60%', '33.90%', '2.70%',\n",
       "       '46.30%', '44.20%', '79.20%', '64.80%', '19.60%', '30.90%',\n",
       "       '20.60%', '6.90%', '8.20%', '39.70%', '21.20%', '56.20%', '40.30%',\n",
       "       '71.50%', '31.10%', '34.50%', '27.60%', '59.90%', '12.20%',\n",
       "       '45.20%', '11.60%', '62.00%', '73.40%', '48.70%', '22.20%',\n",
       "       '3.80%', '76.40%', '10.10%', '75.20%', '23.10%', 0, '36.30%',\n",
       "       '7.50%', '52.40%', '20.00%', '59.80%', '47.70%', '69.00%',\n",
       "       '47.60%', '23.50%', '36.00%', '59.00%', '58.00%', '8.60%',\n",
       "       '66.80%', '28.90%', '58.40%', '18.70%', '60.40%', '31.50%',\n",
       "       '28.20%', '21.40%', '64.50%', '24.60%', '43.20%', '41.00%',\n",
       "       '12.30%', '12.00%', '80.40%', '48.50%', '8.40%', '55.00%',\n",
       "       '10.30%', '64.30%', '77.60%', '28.00%', '8.70%', '32.20%',\n",
       "       '47.20%', '53.70%', '71.20%', '61.40%', '26.30%', '33.80%',\n",
       "       '63.90%', '38.50%', '42.40%', '54.60%', '31.40%', '74.20%',\n",
       "       '19.00%', '68.50%', '63.50%', '19.50%', '47.10%', '28.70%',\n",
       "       '53.30%', '40.50%', '42.10%', '36.10%', '77.70%', '21.80%',\n",
       "       '4.60%', '47.80%', '10.90%', '30.40%', '2.60%', '55.10%', '18.50%',\n",
       "       '41.70%', '46.90%', '39.50%', '5.80%', '58.80%', '13.30%',\n",
       "       '25.60%', '12.40%', '16.70%', '50.70%', '80.80%', '46.10%',\n",
       "       '39.30%', '3.40%', '54.70%', '0.90%', '39.20%', '30.70%', '3.90%',\n",
       "       '70.30%', '79.80%', '52.60%', '43.70%', '0.60%', '7.40%', '38.40%',\n",
       "       '75.80%', '34.10%', '44.80%', '43.30%', '70.20%', '45.80%',\n",
       "       '10.50%', '49.80%', '72.00%', '60.00%', '71.90%', '71.70%',\n",
       "       '5.50%', '44.40%', '82.60%', '62.90%', '15.30%', '24.50%',\n",
       "       '32.10%', '41.90%'], dtype=object)"
      ]
     },
     "execution_count": 41,
     "metadata": {},
     "output_type": "execute_result"
    }
   ],
   "source": [
    "df.Agricultural_Land.unique()"
   ]
  },
  {
   "cell_type": "code",
   "execution_count": 42,
   "id": "4251119d-ece1-4d59-9876-de881a318fac",
   "metadata": {},
   "outputs": [],
   "source": [
    "df.Agricultural_Land = df.Agricultural_Land.replace('[%]','', regex=True).astype('float64')"
   ]
  },
  {
   "cell_type": "code",
   "execution_count": 43,
   "id": "b028ccae-22a8-42e2-b07c-0877bf2e3a44",
   "metadata": {},
   "outputs": [
    {
     "data": {
      "text/plain": [
       "array([58.1, 43.1, 17.4, 40. , 47.5, 20.5, 54.3, 58.9, 48.2, 32.4, 57.7,\n",
       "        1.4, 11.1, 70.6, 23.3, 42. , 44.6,  7. , 33.3, 13.6, 34.8, 45.6,\n",
       "       33.9,  2.7, 46.3, 44.2, 79.2, 64.8, 19.6, 30.9, 20.6,  6.9,  8.2,\n",
       "       39.7, 21.2, 56.2, 40.3, 71.5, 31.1, 34.5, 27.6, 59.9, 12.2, 45.2,\n",
       "       11.6, 62. , 73.4, 48.7, 22.2,  3.8, 76.4, 10.1, 75.2, 23.1,  0. ,\n",
       "       36.3,  7.5, 52.4, 20. , 59.8, 47.7, 69. , 47.6, 23.5, 36. , 59. ,\n",
       "       58. ,  8.6, 66.8, 28.9, 58.4, 18.7, 60.4, 31.5, 28.2, 21.4, 64.5,\n",
       "       24.6, 43.2, 41. , 12.3, 12. , 80.4, 48.5,  8.4, 55. , 10.3, 64.3,\n",
       "       77.6, 28. ,  8.7, 32.2, 47.2, 53.7, 71.2, 61.4, 26.3, 33.8, 63.9,\n",
       "       38.5, 42.4, 54.6, 31.4, 74.2, 19. , 68.5, 63.5, 19.5, 47.1, 28.7,\n",
       "       53.3, 40.5, 42.1, 36.1, 77.7, 21.8,  4.6, 47.8, 10.9, 30.4,  2.6,\n",
       "       55.1, 18.5, 41.7, 46.9, 39.5,  5.8, 58.8, 13.3, 25.6, 12.4, 16.7,\n",
       "       50.7, 80.8, 46.1, 39.3,  3.4, 54.7,  0.9, 39.2, 30.7,  3.9, 70.3,\n",
       "       79.8, 52.6, 43.7,  0.6,  7.4, 38.4, 75.8, 34.1, 44.8, 43.3, 70.2,\n",
       "       45.8, 10.5, 49.8, 72. , 60. , 71.9, 71.7,  5.5, 44.4, 82.6, 62.9,\n",
       "       15.3, 24.5, 32.1, 41.9])"
      ]
     },
     "execution_count": 43,
     "metadata": {},
     "output_type": "execute_result"
    }
   ],
   "source": [
    "df.Agricultural_Land.unique()"
   ]
  },
  {
   "cell_type": "code",
   "execution_count": 44,
   "id": "c723a7ea-10b9-4978-ad32-1abb90ab0fc0",
   "metadata": {},
   "outputs": [
    {
     "data": {
      "text/html": [
       "<div>\n",
       "<style scoped>\n",
       "    .dataframe tbody tr th:only-of-type {\n",
       "        vertical-align: middle;\n",
       "    }\n",
       "\n",
       "    .dataframe tbody tr th {\n",
       "        vertical-align: top;\n",
       "    }\n",
       "\n",
       "    .dataframe thead th {\n",
       "        text-align: right;\n",
       "    }\n",
       "</style>\n",
       "<table border=\"1\" class=\"dataframe\">\n",
       "  <thead>\n",
       "    <tr style=\"text-align: right;\">\n",
       "      <th></th>\n",
       "      <th>Agricultural_Land</th>\n",
       "      <th>Density</th>\n",
       "      <th>Co2_Emissions</th>\n",
       "    </tr>\n",
       "  </thead>\n",
       "  <tbody>\n",
       "    <tr>\n",
       "      <th>Agricultural_Land</th>\n",
       "      <td>1.000000</td>\n",
       "      <td>-0.156662</td>\n",
       "      <td>0.071776</td>\n",
       "    </tr>\n",
       "    <tr>\n",
       "      <th>Density</th>\n",
       "      <td>-0.156662</td>\n",
       "      <td>1.000000</td>\n",
       "      <td>-0.020301</td>\n",
       "    </tr>\n",
       "    <tr>\n",
       "      <th>Co2_Emissions</th>\n",
       "      <td>0.071776</td>\n",
       "      <td>-0.020301</td>\n",
       "      <td>1.000000</td>\n",
       "    </tr>\n",
       "  </tbody>\n",
       "</table>\n",
       "</div>"
      ],
      "text/plain": [
       "                   Agricultural_Land   Density  Co2_Emissions\n",
       "Agricultural_Land           1.000000 -0.156662       0.071776\n",
       "Density                    -0.156662  1.000000      -0.020301\n",
       "Co2_Emissions               0.071776 -0.020301       1.000000"
      ]
     },
     "execution_count": 44,
     "metadata": {},
     "output_type": "execute_result"
    }
   ],
   "source": [
    "df[['Agricultural_Land', 'Density', 'Co2_Emissions']].corr()"
   ]
  },
  {
   "cell_type": "markdown",
   "id": "e2a05f74-58a6-475f-9152-c97414445774",
   "metadata": {},
   "source": [
    "5. Land Area"
   ]
  },
  {
   "cell_type": "code",
   "execution_count": 45,
   "id": "40d114a7-2857-470b-8408-85a53d4de22e",
   "metadata": {},
   "outputs": [
    {
     "data": {
      "text/plain": [
       "array([   6520230,     280748,  203810741,        468,  102460700,\n",
       "              443,  207800400,     290743,  707410220,     830871,\n",
       "           860600,     130880,        765,    1480460,        430,\n",
       "          2070600,     300528,     220966,    1120622,     380394,\n",
       "        100980581,     510197,    5810730,  805150770,      50765,\n",
       "          1100879,    2740200,     270830,    3220463,      40033,\n",
       "          1810035,    4750440,  909840670,    6220984,  102840000,\n",
       "          7560096,  905960960,  101380910,      20235,    3420000,\n",
       "           510100,     560594,    1100860,      90251,     780867,\n",
       "        203440858,     430094,     230200,        751,     480670,\n",
       "          2830561,  100010450,     210041,     280051,    1170600,\n",
       "           450228,     170364,  101040300,     180274,    3380145,\n",
       "          6430801,    2670667,     110300,     690700,    3570022,\n",
       "          2380533,    1310957,        349,    1080889,    2450857,\n",
       "           360125,    2140969,     270750,          0,    1120090,\n",
       "           930028,    1030000,  302870263,  109040569,  106480195,\n",
       "          4380317,     700273,     200770,    3010340,     100991,\n",
       "          3770944,     890342,  207240900,    5800367,        811,\n",
       "           170818,    1990951,    2360800,     640589,     100400,\n",
       "           300355,    1110369,  107590540,        160,     650300,\n",
       "            20586,    5870041,    1180484,    3290847,        298,\n",
       "        102400192,        316,        181,  100300700,      20040,\n",
       "        109640375,        702,     330851,          2,  105640116,\n",
       "           130812,    4460550,    7990380,    6760578,    8240292,\n",
       "               21,    1470181,     410543,    2680838,    1300370,\n",
       "        102670000,    9230768,    1200538,     250713,    3230802,\n",
       "          3090500,    7960095,        459,     750420,    4620840,\n",
       "          4060752,  102850216,    3000000,    3120685,     920212,\n",
       "           110586,    2380391, 1700980240,     260338,        261,\n",
       "              616,        389,      20831,         61,        964,\n",
       "        201490690,    1960722,     770474,        455,     710740,\n",
       "              716,     490035,     200273,     280896,    6370657,\n",
       "        102190090,     990720,    6440329,    5050370,     650610,\n",
       "        108610484,    1630820,    4500295,     410277,    1850180,\n",
       "          1440100,    9470300,    5130120,     140874,     560785,\n",
       "              747,      50128,    1630610,    7830562,    4880100,\n",
       "               26,    2410038,    6030550,     830600,    2430610,\n",
       "        908330517,    1760215,    4470400,     120189,    9120050,\n",
       "          3310210,    5270968,    7520618,    3900757], dtype=int64)"
      ]
     },
     "execution_count": 45,
     "metadata": {},
     "output_type": "execute_result"
    }
   ],
   "source": [
    "df.Land_Area.unique()"
   ]
  },
  {
   "cell_type": "code",
   "execution_count": 46,
   "id": "7d802552-ef20-498b-b3c1-f3e4d7f10372",
   "metadata": {},
   "outputs": [
    {
     "data": {
      "text/plain": [
       "1700980240"
      ]
     },
     "execution_count": 46,
     "metadata": {},
     "output_type": "execute_result"
    }
   ],
   "source": [
    "df[\"Land_Area\"].max() -  df[\"Land_Area\"].min() "
   ]
  },
  {
   "cell_type": "code",
   "execution_count": 47,
   "id": "728a0da8-eca1-472f-9dda-3509dcf31358",
   "metadata": {},
   "outputs": [
    {
     "data": {
      "text/html": [
       "<div>\n",
       "<style scoped>\n",
       "    .dataframe tbody tr th:only-of-type {\n",
       "        vertical-align: middle;\n",
       "    }\n",
       "\n",
       "    .dataframe tbody tr th {\n",
       "        vertical-align: top;\n",
       "    }\n",
       "\n",
       "    .dataframe thead th {\n",
       "        text-align: right;\n",
       "    }\n",
       "</style>\n",
       "<table border=\"1\" class=\"dataframe\">\n",
       "  <thead>\n",
       "    <tr style=\"text-align: right;\">\n",
       "      <th></th>\n",
       "      <th>Land_Area</th>\n",
       "      <th>Density</th>\n",
       "    </tr>\n",
       "  </thead>\n",
       "  <tbody>\n",
       "    <tr>\n",
       "      <th>Land_Area</th>\n",
       "      <td>1.00000</td>\n",
       "      <td>-0.04038</td>\n",
       "    </tr>\n",
       "    <tr>\n",
       "      <th>Density</th>\n",
       "      <td>-0.04038</td>\n",
       "      <td>1.00000</td>\n",
       "    </tr>\n",
       "  </tbody>\n",
       "</table>\n",
       "</div>"
      ],
      "text/plain": [
       "           Land_Area  Density\n",
       "Land_Area    1.00000 -0.04038\n",
       "Density     -0.04038  1.00000"
      ]
     },
     "execution_count": 47,
     "metadata": {},
     "output_type": "execute_result"
    }
   ],
   "source": [
    "df[[\"Land_Area\", \"Density\"]].corr()"
   ]
  },
  {
   "cell_type": "markdown",
   "id": "35e2df66-8d39-4950-8471-e9311f5ac642",
   "metadata": {},
   "source": [
    "6. Armed Forces"
   ]
  },
  {
   "cell_type": "code",
   "execution_count": 48,
   "id": "2cd163c1-93cf-4c37-b096-cba9baf8a0f2",
   "metadata": {},
   "outputs": [
    {
     "data": {
      "text/plain": [
       "count     195\n",
       "unique    106\n",
       "top         0\n",
       "freq       24\n",
       "Name: Armed_Forces_size, dtype: int64"
      ]
     },
     "execution_count": 48,
     "metadata": {},
     "output_type": "execute_result"
    }
   ],
   "source": [
    "df[\"Armed_Forces_size\"].describe()"
   ]
  },
  {
   "cell_type": "code",
   "execution_count": 49,
   "id": "b0dd3633-1785-4454-abca-4d5007580232",
   "metadata": {},
   "outputs": [
    {
     "data": {
      "text/plain": [
       "array(['38,041,754', '2,854,191', '43,053,054', '77,142', '31,825,295',\n",
       "       '97,118', '44,938,712', '2,957,731', '25,766,605', '8,877,067',\n",
       "       '10,023,318', '389,482', '1,501,635', '167,310,838', '287,025',\n",
       "       '9,466,856', '11,484,055', '390,353', '11,801,151', '727,145',\n",
       "       '11,513,100', '3,301,000', '2,346,179', '212,559,417', '433,285',\n",
       "       '6,975,761', '20,321,378', '11,530,580', '25,716,544', '483,628',\n",
       "       '16,486,542', '25,876,380', '36,991,981', '4,745,185',\n",
       "       '15,946,876', '18,952,038', '1,397,715,000', '50,339,443',\n",
       "       '850,886', '5,380,508', '5,047,561', '4,067,500', '11,333,483',\n",
       "       '1,198,575', '10,669,709', '86,790,567', '5,818,553', '973,560',\n",
       "       '71,808', '10,738,958', '17,373,662', '100,388,073', '6,453,553',\n",
       "       '1,355,986', '6,333,135', '1,331,824', '1,093,238', '112,078,730',\n",
       "       '889,953', '5,520,314', '67,059,887', '2,172,579', '2,347,706',\n",
       "       '3,720,382', '83,132,799', '30,792,608', '10,716,322', '112,003',\n",
       "       '16,604,026', '12,771,246', '1,920,922', '782,766', '11,263,077',\n",
       "       '836', '9,746,117', '9,769,949', '361,313', '1,366,417,754',\n",
       "       '270,203,917', '82,913,906', '39,309,783', '5,007,069',\n",
       "       '9,053,300', '60,297,396', '2,948,279', '126,226,568',\n",
       "       '10,101,694', '18,513,930', '52,573,973', '117,606', '4,207,083',\n",
       "       '6,456,900', '7,169,455', '1,912,789', '6,855,713', '2,125,268',\n",
       "       '4,937,374', '6,777,452', '38,019', '2,786,844', '645,397',\n",
       "       '26,969,307', '18,628,747', '32,447,385', '530,953', '19,658,031',\n",
       "       '502,653', '58,791', '4,525,696', '1,265,711', '126,014,024',\n",
       "       '113,815', '2,657,637', '38,964', '3,225,167', '622,137',\n",
       "       '36,910,560', '30,366,036', '54,045,420', '2,494,530', '10,084',\n",
       "       '28,608,710', '17,332,850', '4,841,000', '6,545,502', '23,310,715',\n",
       "       '200,963,599', '25,666,161', '1,836,713', '5,347,896', '5,266,535',\n",
       "       '216,565,318', '18,233', 0, '4,246,439', '8,776,109', '7,044,636',\n",
       "       '32,510,453', '108,116,615', '37,970,874', '10,269,417',\n",
       "       '2,832,067', '19,356,544', '144,373,535', '12,626,950', '52,823',\n",
       "       '182,790', '100,455', '202,506', '33,860', '215,056', '34,268,528',\n",
       "       '16,296,364', '6,944,975', '97,625', '7,813,215', '5,703,569',\n",
       "       '5,454,073', '2,087,946', '669,823', '15,442,905', '58,558,270',\n",
       "       '51,709,098', '11,062,113', '47,076,781', '21,803,000',\n",
       "       '42,813,238', '581,372', '10,285,453', '8,574,832', '17,070,135',\n",
       "       '9,321,018', '58,005,463', '69,625,582', '3,500,000', '8,082,366',\n",
       "       '100,209', '1,394,973', '11,694,719', '83,429,615', '5,942,089',\n",
       "       '11,646', '44,269,594', '44,385,155', '9,770,529', '66,834,405',\n",
       "       '328,239,523', '3,461,734', '33,580,650', '299,882', '28,515,829',\n",
       "       '96,462,106', '29,161,922', '17,861,030', '14,645,468'],\n",
       "      dtype=object)"
      ]
     },
     "execution_count": 49,
     "metadata": {},
     "output_type": "execute_result"
    }
   ],
   "source": [
    "df.Population.unique()"
   ]
  },
  {
   "cell_type": "code",
   "execution_count": 50,
   "id": "9d424821-5ebf-448d-87a2-2f3dcbe99182",
   "metadata": {},
   "outputs": [],
   "source": [
    "df.Population = df.Population.replace('[,]','', regex=True).astype('int64')"
   ]
  },
  {
   "cell_type": "code",
   "execution_count": 51,
   "id": "c03fc866-1baf-40ac-822f-a5e8f252f1b1",
   "metadata": {},
   "outputs": [
    {
     "data": {
      "text/plain": [
       "array([  38041754,    2854191,   43053054,      77142,   31825295,\n",
       "            97118,   44938712,    2957731,   25766605,    8877067,\n",
       "         10023318,     389482,    1501635,  167310838,     287025,\n",
       "          9466856,   11484055,     390353,   11801151,     727145,\n",
       "         11513100,    3301000,    2346179,  212559417,     433285,\n",
       "          6975761,   20321378,   11530580,   25716544,     483628,\n",
       "         16486542,   25876380,   36991981,    4745185,   15946876,\n",
       "         18952038, 1397715000,   50339443,     850886,    5380508,\n",
       "          5047561,    4067500,   11333483,    1198575,   10669709,\n",
       "         86790567,    5818553,     973560,      71808,   10738958,\n",
       "         17373662,  100388073,    6453553,    1355986,    6333135,\n",
       "          1331824,    1093238,  112078730,     889953,    5520314,\n",
       "         67059887,    2172579,    2347706,    3720382,   83132799,\n",
       "         30792608,   10716322,     112003,   16604026,   12771246,\n",
       "          1920922,     782766,   11263077,        836,    9746117,\n",
       "          9769949,     361313, 1366417754,  270203917,   82913906,\n",
       "         39309783,    5007069,    9053300,   60297396,    2948279,\n",
       "        126226568,   10101694,   18513930,   52573973,     117606,\n",
       "          4207083,    6456900,    7169455,    1912789,    6855713,\n",
       "          2125268,    4937374,    6777452,      38019,    2786844,\n",
       "           645397,   26969307,   18628747,   32447385,     530953,\n",
       "         19658031,     502653,      58791,    4525696,    1265711,\n",
       "        126014024,     113815,    2657637,      38964,    3225167,\n",
       "           622137,   36910560,   30366036,   54045420,    2494530,\n",
       "            10084,   28608710,   17332850,    4841000,    6545502,\n",
       "         23310715,  200963599,   25666161,    1836713,    5347896,\n",
       "          5266535,  216565318,      18233,          0,    4246439,\n",
       "          8776109,    7044636,   32510453,  108116615,   37970874,\n",
       "         10269417,    2832067,   19356544,  144373535,   12626950,\n",
       "            52823,     182790,     100455,     202506,      33860,\n",
       "           215056,   34268528,   16296364,    6944975,      97625,\n",
       "          7813215,    5703569,    5454073,    2087946,     669823,\n",
       "         15442905,   58558270,   51709098,   11062113,   47076781,\n",
       "         21803000,   42813238,     581372,   10285453,    8574832,\n",
       "         17070135,    9321018,   58005463,   69625582,    3500000,\n",
       "          8082366,     100209,    1394973,   11694719,   83429615,\n",
       "          5942089,      11646,   44269594,   44385155,    9770529,\n",
       "         66834405,  328239523,    3461734,   33580650,     299882,\n",
       "         28515829,   96462106,   29161922,   17861030,   14645468],\n",
       "      dtype=int64)"
      ]
     },
     "execution_count": 51,
     "metadata": {},
     "output_type": "execute_result"
    }
   ],
   "source": [
    "df.Population.unique()"
   ]
  },
  {
   "cell_type": "code",
   "execution_count": 52,
   "id": "abe65140-b8ef-4628-b41a-044d2d7eab17",
   "metadata": {},
   "outputs": [
    {
     "data": {
      "text/plain": [
       "array(['323,000', '9,000', '317,000', 0, '117,000', '0', '105,000',\n",
       "       '49,000', '58,000', '21,000', '82,000', '1,000', '19,000',\n",
       "       '221,000', '155,000', '32,000', '2,000', '12,000', '6,000',\n",
       "       '71,000', '11,000', '730,000', '8,000', '31,000', '27,000',\n",
       "       '191,000', '24,000', '72,000', '35,000', '122,000', '2,695,000',\n",
       "       '481,000', '10,000', '18,000', '76,000', '16,000', '23,000',\n",
       "       '134,000', '15,000', '13,000', '41,000', '836,000', '42,000',\n",
       "       '202,000', '138,000', '4,000', '25,000', '307,000', '7,000',\n",
       "       '26,000', '180,000', '146,000', '43,000', '3,000', '40,000',\n",
       "       '3,031,000', '676,000', '563,000', '209,000', '178,000', '347,000',\n",
       "       '261,000', '116,000', '29,000', '129,000', '80,000', '34,000',\n",
       "       '22,000', '136,000', '5,000', '336,000', '246,000', '513,000',\n",
       "       '112,000', '215,000', '1,469,000', '47,000', '936,000', '158,000',\n",
       "       '153,000', '52,000', '126,000', '1,454,000', '252,000', '81,000',\n",
       "       '20,000', '634,000', '185,000', '196,000', '124,000', '30,000',\n",
       "       '239,000', '17,000', '28,000', '455,000', '48,000', '512,000',\n",
       "       '46,000', '297,000', '63,000', '148,000', '1,359,000', '68,000',\n",
       "       '343,000', '522,000', '51,000'], dtype=object)"
      ]
     },
     "execution_count": 52,
     "metadata": {},
     "output_type": "execute_result"
    }
   ],
   "source": [
    "df.Armed_Forces_size.unique()"
   ]
  },
  {
   "cell_type": "code",
   "execution_count": 53,
   "id": "e02c9d2b-111c-4ff1-8eb4-866d94ff7904",
   "metadata": {},
   "outputs": [],
   "source": [
    "df.Armed_Forces_size = df.Armed_Forces_size.replace('[,]','', regex=True).astype('int64')"
   ]
  },
  {
   "cell_type": "code",
   "execution_count": 54,
   "id": "8cdff7dd-483f-4470-829a-b8a1c6dd85cb",
   "metadata": {},
   "outputs": [
    {
     "data": {
      "text/plain": [
       "array([ 323000,    9000,  317000,       0,  117000,  105000,   49000,\n",
       "         58000,   21000,   82000,    1000,   19000,  221000,  155000,\n",
       "         32000,    2000,   12000,    6000,   71000,   11000,  730000,\n",
       "          8000,   31000,   27000,  191000,   24000,   72000,   35000,\n",
       "        122000, 2695000,  481000,   10000,   18000,   76000,   16000,\n",
       "         23000,  134000,   15000,   13000,   41000,  836000,   42000,\n",
       "        202000,  138000,    4000,   25000,  307000,    7000,   26000,\n",
       "        180000,  146000,   43000,    3000,   40000, 3031000,  676000,\n",
       "        563000,  209000,  178000,  347000,  261000,  116000,   29000,\n",
       "        129000,   80000,   34000,   22000,  136000,    5000,  336000,\n",
       "        246000,  513000,  112000,  215000, 1469000,   47000,  936000,\n",
       "        158000,  153000,   52000,  126000, 1454000,  252000,   81000,\n",
       "         20000,  634000,  185000,  196000,  124000,   30000,  239000,\n",
       "         17000,   28000,  455000,   48000,  512000,   46000,  297000,\n",
       "         63000,  148000, 1359000,   68000,  343000,  522000,   51000],\n",
       "      dtype=int64)"
      ]
     },
     "execution_count": 54,
     "metadata": {},
     "output_type": "execute_result"
    }
   ],
   "source": [
    "df.Armed_Forces_size.unique()"
   ]
  },
  {
   "cell_type": "code",
   "execution_count": 55,
   "id": "0a64947c-ad46-4cf2-a23f-cdcd83a73c53",
   "metadata": {},
   "outputs": [
    {
     "data": {
      "text/html": [
       "<div>\n",
       "<style scoped>\n",
       "    .dataframe tbody tr th:only-of-type {\n",
       "        vertical-align: middle;\n",
       "    }\n",
       "\n",
       "    .dataframe tbody tr th {\n",
       "        vertical-align: top;\n",
       "    }\n",
       "\n",
       "    .dataframe thead th {\n",
       "        text-align: right;\n",
       "    }\n",
       "</style>\n",
       "<table border=\"1\" class=\"dataframe\">\n",
       "  <thead>\n",
       "    <tr style=\"text-align: right;\">\n",
       "      <th></th>\n",
       "      <th>Armed_Forces_size</th>\n",
       "      <th>Population</th>\n",
       "      <th>Land_Area</th>\n",
       "    </tr>\n",
       "  </thead>\n",
       "  <tbody>\n",
       "    <tr>\n",
       "      <th>Armed_Forces_size</th>\n",
       "      <td>1.000000</td>\n",
       "      <td>0.876850</td>\n",
       "      <td>0.550426</td>\n",
       "    </tr>\n",
       "    <tr>\n",
       "      <th>Population</th>\n",
       "      <td>0.876850</td>\n",
       "      <td>1.000000</td>\n",
       "      <td>0.434808</td>\n",
       "    </tr>\n",
       "    <tr>\n",
       "      <th>Land_Area</th>\n",
       "      <td>0.550426</td>\n",
       "      <td>0.434808</td>\n",
       "      <td>1.000000</td>\n",
       "    </tr>\n",
       "  </tbody>\n",
       "</table>\n",
       "</div>"
      ],
      "text/plain": [
       "                   Armed_Forces_size  Population  Land_Area\n",
       "Armed_Forces_size           1.000000    0.876850   0.550426\n",
       "Population                  0.876850    1.000000   0.434808\n",
       "Land_Area                   0.550426    0.434808   1.000000"
      ]
     },
     "execution_count": 55,
     "metadata": {},
     "output_type": "execute_result"
    }
   ],
   "source": [
    "df[[\"Armed_Forces_size\", \"Population\", \"Land_Area\"]].corr()"
   ]
  },
  {
   "cell_type": "markdown",
   "id": "6e16bde6-07d8-4c6d-bd6d-92270527c74a",
   "metadata": {},
   "source": [
    "7. Birth Rate"
   ]
  },
  {
   "cell_type": "code",
   "execution_count": 56,
   "id": "550f7b80-d9f7-4e1d-9b6b-3304865a0c8b",
   "metadata": {},
   "outputs": [
    {
     "data": {
      "text/plain": [
       "46.08"
      ]
     },
     "execution_count": 56,
     "metadata": {},
     "output_type": "execute_result"
    }
   ],
   "source": [
    "df[\"Birth_Rate\"].max() - df[\"Birth_Rate\"].min()"
   ]
  },
  {
   "cell_type": "code",
   "execution_count": 57,
   "id": "504134d2-8356-416d-b30a-0be0794e5a77",
   "metadata": {},
   "outputs": [
    {
     "data": {
      "text/plain": [
       "array(['$19,101,353,833 ', '$15,278,077,447 ', '$169,988,236,398 ',\n",
       "       '$3,154,057,987 ', '$94,635,415,870 ', '$1,727,759,259 ',\n",
       "       '$449,663,446,954 ', '$13,672,802,158 ', '$1,392,680,589,329 ',\n",
       "       '$446,314,739,528 ', '$39,207,000,000 ', '$12,827,000,000 ',\n",
       "       '$38,574,069,149 ', '$302,571,254,131 ', '$5,209,000,000 ',\n",
       "       '$63,080,457,023 ', '$529,606,710,418 ', '$1,879,613,600 ',\n",
       "       '$14,390,709,095 ', '$2,446,674,101 ', '$40,895,322,865 ',\n",
       "       '$20,047,848,435 ', '$18,340,510,789 ', '$1,839,758,040,766 ',\n",
       "       '$13,469,422,941 ', '$86,000,000,000 ', '$15,745,810,235 ',\n",
       "       '$3,012,334,882 ', '$58,792,205,642 ', '$1,981,845,741 ',\n",
       "       '$27,089,389,787 ', '$38,760,467,033 ', '$1,736,425,629,520 ',\n",
       "       '$2,220,307,369 ', '$11,314,951,343 ', '$282,318,159,745 ',\n",
       "       '$19,910,000,000,000 ', '$323,802,808,108 ', '$1,185,728,677 ',\n",
       "       '$10,820,591,131 ', '$61,773,944,174 ', '$60,415,553,039 ',\n",
       "       '$100,023,000,000 ', '$24,564,647,935 ', '$246,489,245,495 ',\n",
       "       '$47,319,624,204 ', '$348,078,018,464 ', '$3,318,716,359 ',\n",
       "       '$596,033,333 ', '$88,941,298,258 ', '$107,435,665,000 ',\n",
       "       '$303,175,127,598 ', '$27,022,640,000 ', '$11,026,774,945 ',\n",
       "       '$2,065,001,626 ', '$31,386,949,981 ', '$3,791,304,348 ',\n",
       "       '$96,107,662,398 ', '$5,535,548,972 ', '$268,761,201,365 ',\n",
       "       '$2,715,518,274,227 ', '$16,657,960,228 ', '$1,763,819,048 ',\n",
       "       '$17,743,195,770 ', '$3,845,630,030,824 ', '$66,983,634,224 ',\n",
       "       '$209,852,761,469 ', '$1,228,170,370 ', '$76,710,385,880 ',\n",
       "       '$13,590,281,809 ', '$1,340,389,411 ', '$4,280,443,645 ',\n",
       "       '$8,498,981,821 ', 0, '$25,095,395,475 ', '$160,967,157,504 ',\n",
       "       '$24,188,035,739 ', '$2,611,000,000,000 ', '$1,119,190,780,753 ',\n",
       "       '$445,345,282,123 ', '$234,094,042,939 ', '$388,698,711,348 ',\n",
       "       '$395,098,666,122 ', '$2,001,244,392,042 ', '$16,458,071,068 ',\n",
       "       '$5,081,769,542,380 ', '$43,743,661,972 ', '$180,161,741,180 ',\n",
       "       '$95,503,088,538 ', '$194,647,202 ', '$134,761,198,946 ',\n",
       "       '$8,454,619,608 ', '$18,173,839,128 ', '$34,117,202,555 ',\n",
       "       '$53,367,042,272 ', '$2,460,072,444 ', '$3,070,518,100 ',\n",
       "       '$52,076,250,948 ', '$6,552,858,739 ', '$54,219,315,600 ',\n",
       "       '$71,104,919,108 ', '$14,083,906,357 ', '$7,666,704,427 ',\n",
       "       '$364,701,517,788 ', '$5,729,248,472 ', '$17,510,141,171 ',\n",
       "       '$14,786,156,563 ', '$221,278,000 ', '$7,593,752,450 ',\n",
       "       '$14,180,444,557 ', '$1,258,286,717,125 ', '$401,932,279 ',\n",
       "       '$11,955,435,457 ', '$7,184,844,193 ', '$13,852,850,259 ',\n",
       "       '$5,494,736,901 ', '$118,725,279,596 ', '$14,934,159,926 ',\n",
       "       '$76,085,852,617 ', '$12,366,527,719 ', '$133,000,000 ',\n",
       "       '$30,641,380,604 ', '$909,070,395,161 ', '$206,928,765,544 ',\n",
       "       '$12,520,915,291 ', '$12,928,145,120 ', '$448,120,428,859 ',\n",
       "       '$32,100,000,000 ', '$10,220,781,069 ', '$403,336,363,636 ',\n",
       "       '$76,983,094,928 ', '$304,400,000,000 ', '$283,994,900 ',\n",
       "       '$66,800,800,000 ', '$24,969,611,435 ', '$38,145,288,940 ',\n",
       "       '$226,848,050,820 ', '$376,795,508,680 ', '$592,164,400,688 ',\n",
       "       '$237,686,075,635 ', '$183,466,208,791 ', '$250,077,444,017 ',\n",
       "       '$1,699,876,578,871 ', '$10,122,472,590 ', '$1,050,992,593 ',\n",
       "       '$2,122,450,630 ', '$825,385,185 ', '$850,655,017 ',\n",
       "       '$1,637,931,034 ', '$429,016,605 ', '$792,966,838,162 ',\n",
       "       '$23,578,084,052 ', '$51,409,167,351 ', '$1,698,843,063 ',\n",
       "       '$3,941,474,311 ', '$372,062,527,489 ', '$105,422,304,976 ',\n",
       "       '$53,742,159,517 ', '$1,425,074,226 ', '$4,720,727,278 ',\n",
       "       '$351,431,649,241 ', '$2,029,000,000,000 ', '$11,997,800,751 ',\n",
       "       '$1,394,116,310,769 ', '$84,008,783,756 ', '$18,902,284,476 ',\n",
       "       '$3,985,250,737 ', '$530,832,908,738 ', '$703,082,435,360 ',\n",
       "       '$40,405,006,007 ', '$8,116,626,794 ', '$63,177,068,175 ',\n",
       "       '$543,649,976,166 ', '$1,673,540,300 ', '$5,459,979,417 ',\n",
       "       '$450,353,314 ', '$24,100,202,834 ', '$38,797,709,924 ',\n",
       "       '$754,411,708,203 ', '$40,761,142,857 ', '$47,271,463 ',\n",
       "       '$34,387,229,486 ', '$153,781,069,118 ', '$421,142,267,938 ',\n",
       "       '$2,827,113,184,696 ', '$21,427,700,000,000 ', '$56,045,912,952 ',\n",
       "       '$57,921,286,440 ', '$917,058,851 ', '$482,359,318,768 ',\n",
       "       '$261,921,244,843 ', '$26,914,402,224 ', '$23,064,722,446 ',\n",
       "       '$21,440,758,800 '], dtype=object)"
      ]
     },
     "execution_count": 57,
     "metadata": {},
     "output_type": "execute_result"
    }
   ],
   "source": [
    "df.GDP.unique()"
   ]
  },
  {
   "cell_type": "code",
   "execution_count": 58,
   "id": "4a66a42c-c658-4030-b13e-7384dedbb07a",
   "metadata": {},
   "outputs": [],
   "source": [
    "df.GDP = df.GDP.replace('[$,]','', regex=True).astype('int64')"
   ]
  },
  {
   "cell_type": "code",
   "execution_count": 59,
   "id": "27844b94-53f9-4f60-9e57-4bd4adda4d02",
   "metadata": {},
   "outputs": [
    {
     "data": {
      "text/plain": [
       "array([   19101353833,    15278077447,   169988236398,     3154057987,\n",
       "          94635415870,     1727759259,   449663446954,    13672802158,\n",
       "        1392680589329,   446314739528,    39207000000,    12827000000,\n",
       "          38574069149,   302571254131,     5209000000,    63080457023,\n",
       "         529606710418,     1879613600,    14390709095,     2446674101,\n",
       "          40895322865,    20047848435,    18340510789,  1839758040766,\n",
       "          13469422941,    86000000000,    15745810235,     3012334882,\n",
       "          58792205642,     1981845741,    27089389787,    38760467033,\n",
       "        1736425629520,     2220307369,    11314951343,   282318159745,\n",
       "       19910000000000,   323802808108,     1185728677,    10820591131,\n",
       "          61773944174,    60415553039,   100023000000,    24564647935,\n",
       "         246489245495,    47319624204,   348078018464,     3318716359,\n",
       "            596033333,    88941298258,   107435665000,   303175127598,\n",
       "          27022640000,    11026774945,     2065001626,    31386949981,\n",
       "           3791304348,    96107662398,     5535548972,   268761201365,\n",
       "        2715518274227,    16657960228,     1763819048,    17743195770,\n",
       "        3845630030824,    66983634224,   209852761469,     1228170370,\n",
       "          76710385880,    13590281809,     1340389411,     4280443645,\n",
       "           8498981821,              0,    25095395475,   160967157504,\n",
       "          24188035739,  2611000000000,  1119190780753,   445345282123,\n",
       "         234094042939,   388698711348,   395098666122,  2001244392042,\n",
       "          16458071068,  5081769542380,    43743661972,   180161741180,\n",
       "          95503088538,      194647202,   134761198946,     8454619608,\n",
       "          18173839128,    34117202555,    53367042272,     2460072444,\n",
       "           3070518100,    52076250948,     6552858739,    54219315600,\n",
       "          71104919108,    14083906357,     7666704427,   364701517788,\n",
       "           5729248472,    17510141171,    14786156563,      221278000,\n",
       "           7593752450,    14180444557,  1258286717125,      401932279,\n",
       "          11955435457,     7184844193,    13852850259,     5494736901,\n",
       "         118725279596,    14934159926,    76085852617,    12366527719,\n",
       "            133000000,    30641380604,   909070395161,   206928765544,\n",
       "          12520915291,    12928145120,   448120428859,    32100000000,\n",
       "          10220781069,   403336363636,    76983094928,   304400000000,\n",
       "            283994900,    66800800000,    24969611435,    38145288940,\n",
       "         226848050820,   376795508680,   592164400688,   237686075635,\n",
       "         183466208791,   250077444017,  1699876578871,    10122472590,\n",
       "           1050992593,     2122450630,      825385185,      850655017,\n",
       "           1637931034,      429016605,   792966838162,    23578084052,\n",
       "          51409167351,     1698843063,     3941474311,   372062527489,\n",
       "         105422304976,    53742159517,     1425074226,     4720727278,\n",
       "         351431649241,  2029000000000,    11997800751,  1394116310769,\n",
       "          84008783756,    18902284476,     3985250737,   530832908738,\n",
       "         703082435360,    40405006007,     8116626794,    63177068175,\n",
       "         543649976166,     1673540300,     5459979417,      450353314,\n",
       "          24100202834,    38797709924,   754411708203,    40761142857,\n",
       "             47271463,    34387229486,   153781069118,   421142267938,\n",
       "        2827113184696, 21427700000000,    56045912952,    57921286440,\n",
       "            917058851,   482359318768,   261921244843,    26914402224,\n",
       "          23064722446,    21440758800], dtype=int64)"
      ]
     },
     "execution_count": 59,
     "metadata": {},
     "output_type": "execute_result"
    }
   ],
   "source": [
    "df.GDP.unique()"
   ]
  },
  {
   "cell_type": "code",
   "execution_count": 60,
   "id": "67c6f2eb-f34c-4798-8705-f3fb9b9b35d4",
   "metadata": {},
   "outputs": [
    {
     "data": {
      "text/html": [
       "<div>\n",
       "<style scoped>\n",
       "    .dataframe tbody tr th:only-of-type {\n",
       "        vertical-align: middle;\n",
       "    }\n",
       "\n",
       "    .dataframe tbody tr th {\n",
       "        vertical-align: top;\n",
       "    }\n",
       "\n",
       "    .dataframe thead th {\n",
       "        text-align: right;\n",
       "    }\n",
       "</style>\n",
       "<table border=\"1\" class=\"dataframe\">\n",
       "  <thead>\n",
       "    <tr style=\"text-align: right;\">\n",
       "      <th></th>\n",
       "      <th>Birth_Rate</th>\n",
       "      <th>GDP</th>\n",
       "      <th>Population</th>\n",
       "      <th>Density</th>\n",
       "    </tr>\n",
       "  </thead>\n",
       "  <tbody>\n",
       "    <tr>\n",
       "      <th>Birth_Rate</th>\n",
       "      <td>1.000000</td>\n",
       "      <td>-0.157436</td>\n",
       "      <td>-0.034026</td>\n",
       "      <td>-0.147221</td>\n",
       "    </tr>\n",
       "    <tr>\n",
       "      <th>GDP</th>\n",
       "      <td>-0.157436</td>\n",
       "      <td>1.000000</td>\n",
       "      <td>0.632544</td>\n",
       "      <td>-0.018878</td>\n",
       "    </tr>\n",
       "    <tr>\n",
       "      <th>Population</th>\n",
       "      <td>-0.034026</td>\n",
       "      <td>0.632544</td>\n",
       "      <td>1.000000</td>\n",
       "      <td>-0.017946</td>\n",
       "    </tr>\n",
       "    <tr>\n",
       "      <th>Density</th>\n",
       "      <td>-0.147221</td>\n",
       "      <td>-0.018878</td>\n",
       "      <td>-0.017946</td>\n",
       "      <td>1.000000</td>\n",
       "    </tr>\n",
       "  </tbody>\n",
       "</table>\n",
       "</div>"
      ],
      "text/plain": [
       "            Birth_Rate       GDP  Population   Density\n",
       "Birth_Rate    1.000000 -0.157436   -0.034026 -0.147221\n",
       "GDP          -0.157436  1.000000    0.632544 -0.018878\n",
       "Population   -0.034026  0.632544    1.000000 -0.017946\n",
       "Density      -0.147221 -0.018878   -0.017946  1.000000"
      ]
     },
     "execution_count": 60,
     "metadata": {},
     "output_type": "execute_result"
    }
   ],
   "source": [
    "df[[\"Birth_Rate\", \"GDP\", \"Population\", \"Density\"]].corr()"
   ]
  },
  {
   "cell_type": "markdown",
   "id": "90b7e236-1f5f-47c6-9dea-a5685b3250a2",
   "metadata": {},
   "source": [
    "8. Calling Codes"
   ]
  },
  {
   "cell_type": "code",
   "execution_count": 61,
   "id": "bb2d64da-9849-4202-8225-147f892cb0bd",
   "metadata": {},
   "outputs": [
    {
     "data": {
      "text/html": [
       "<div>\n",
       "<style scoped>\n",
       "    .dataframe tbody tr th:only-of-type {\n",
       "        vertical-align: middle;\n",
       "    }\n",
       "\n",
       "    .dataframe tbody tr th {\n",
       "        vertical-align: top;\n",
       "    }\n",
       "\n",
       "    .dataframe thead th {\n",
       "        text-align: right;\n",
       "    }\n",
       "</style>\n",
       "<table border=\"1\" class=\"dataframe\">\n",
       "  <thead>\n",
       "    <tr style=\"text-align: right;\">\n",
       "      <th></th>\n",
       "      <th>Country</th>\n",
       "      <th>Calling_Code</th>\n",
       "    </tr>\n",
       "  </thead>\n",
       "  <tbody>\n",
       "    <tr>\n",
       "      <th>0</th>\n",
       "      <td>Afghanistan</td>\n",
       "      <td>93.0</td>\n",
       "    </tr>\n",
       "    <tr>\n",
       "      <th>1</th>\n",
       "      <td>Albania</td>\n",
       "      <td>355.0</td>\n",
       "    </tr>\n",
       "    <tr>\n",
       "      <th>2</th>\n",
       "      <td>Algeria</td>\n",
       "      <td>213.0</td>\n",
       "    </tr>\n",
       "    <tr>\n",
       "      <th>3</th>\n",
       "      <td>Andorra</td>\n",
       "      <td>376.0</td>\n",
       "    </tr>\n",
       "    <tr>\n",
       "      <th>4</th>\n",
       "      <td>Angola</td>\n",
       "      <td>244.0</td>\n",
       "    </tr>\n",
       "    <tr>\n",
       "      <th>...</th>\n",
       "      <td>...</td>\n",
       "      <td>...</td>\n",
       "    </tr>\n",
       "    <tr>\n",
       "      <th>190</th>\n",
       "      <td>Venezuela</td>\n",
       "      <td>58.0</td>\n",
       "    </tr>\n",
       "    <tr>\n",
       "      <th>191</th>\n",
       "      <td>Vietnam</td>\n",
       "      <td>84.0</td>\n",
       "    </tr>\n",
       "    <tr>\n",
       "      <th>192</th>\n",
       "      <td>Yemen</td>\n",
       "      <td>967.0</td>\n",
       "    </tr>\n",
       "    <tr>\n",
       "      <th>193</th>\n",
       "      <td>Zambia</td>\n",
       "      <td>260.0</td>\n",
       "    </tr>\n",
       "    <tr>\n",
       "      <th>194</th>\n",
       "      <td>Zimbabwe</td>\n",
       "      <td>263.0</td>\n",
       "    </tr>\n",
       "  </tbody>\n",
       "</table>\n",
       "<p>195 rows × 2 columns</p>\n",
       "</div>"
      ],
      "text/plain": [
       "         Country  Calling_Code\n",
       "0    Afghanistan          93.0\n",
       "1        Albania         355.0\n",
       "2        Algeria         213.0\n",
       "3        Andorra         376.0\n",
       "4         Angola         244.0\n",
       "..           ...           ...\n",
       "190    Venezuela          58.0\n",
       "191      Vietnam          84.0\n",
       "192        Yemen         967.0\n",
       "193       Zambia         260.0\n",
       "194     Zimbabwe         263.0\n",
       "\n",
       "[195 rows x 2 columns]"
      ]
     },
     "execution_count": 61,
     "metadata": {},
     "output_type": "execute_result"
    }
   ],
   "source": [
    "df[[\"Country\", \"Calling_Code\"]]"
   ]
  },
  {
   "cell_type": "code",
   "execution_count": 62,
   "id": "a44c3629-23e5-4c56-91a7-be62ca4ca16b",
   "metadata": {},
   "outputs": [],
   "source": [
    "df[\"Region_Code\"] = df[\"Calling_Code\"]"
   ]
  },
  {
   "cell_type": "code",
   "execution_count": 63,
   "id": "e9124a5a-2922-4921-81cd-9c48663a95ca",
   "metadata": {},
   "outputs": [
    {
     "data": {
      "text/html": [
       "<div>\n",
       "<style scoped>\n",
       "    .dataframe tbody tr th:only-of-type {\n",
       "        vertical-align: middle;\n",
       "    }\n",
       "\n",
       "    .dataframe tbody tr th {\n",
       "        vertical-align: top;\n",
       "    }\n",
       "\n",
       "    .dataframe thead th {\n",
       "        text-align: right;\n",
       "    }\n",
       "</style>\n",
       "<table border=\"1\" class=\"dataframe\">\n",
       "  <thead>\n",
       "    <tr style=\"text-align: right;\">\n",
       "      <th></th>\n",
       "      <th>Country</th>\n",
       "      <th>Calling_Code</th>\n",
       "      <th>Region_Code</th>\n",
       "    </tr>\n",
       "  </thead>\n",
       "  <tbody>\n",
       "    <tr>\n",
       "      <th>0</th>\n",
       "      <td>Afghanistan</td>\n",
       "      <td>93.0</td>\n",
       "      <td>93.0</td>\n",
       "    </tr>\n",
       "    <tr>\n",
       "      <th>1</th>\n",
       "      <td>Albania</td>\n",
       "      <td>355.0</td>\n",
       "      <td>355.0</td>\n",
       "    </tr>\n",
       "    <tr>\n",
       "      <th>2</th>\n",
       "      <td>Algeria</td>\n",
       "      <td>213.0</td>\n",
       "      <td>213.0</td>\n",
       "    </tr>\n",
       "    <tr>\n",
       "      <th>3</th>\n",
       "      <td>Andorra</td>\n",
       "      <td>376.0</td>\n",
       "      <td>376.0</td>\n",
       "    </tr>\n",
       "    <tr>\n",
       "      <th>4</th>\n",
       "      <td>Angola</td>\n",
       "      <td>244.0</td>\n",
       "      <td>244.0</td>\n",
       "    </tr>\n",
       "    <tr>\n",
       "      <th>...</th>\n",
       "      <td>...</td>\n",
       "      <td>...</td>\n",
       "      <td>...</td>\n",
       "    </tr>\n",
       "    <tr>\n",
       "      <th>190</th>\n",
       "      <td>Venezuela</td>\n",
       "      <td>58.0</td>\n",
       "      <td>58.0</td>\n",
       "    </tr>\n",
       "    <tr>\n",
       "      <th>191</th>\n",
       "      <td>Vietnam</td>\n",
       "      <td>84.0</td>\n",
       "      <td>84.0</td>\n",
       "    </tr>\n",
       "    <tr>\n",
       "      <th>192</th>\n",
       "      <td>Yemen</td>\n",
       "      <td>967.0</td>\n",
       "      <td>967.0</td>\n",
       "    </tr>\n",
       "    <tr>\n",
       "      <th>193</th>\n",
       "      <td>Zambia</td>\n",
       "      <td>260.0</td>\n",
       "      <td>260.0</td>\n",
       "    </tr>\n",
       "    <tr>\n",
       "      <th>194</th>\n",
       "      <td>Zimbabwe</td>\n",
       "      <td>263.0</td>\n",
       "      <td>263.0</td>\n",
       "    </tr>\n",
       "  </tbody>\n",
       "</table>\n",
       "<p>195 rows × 3 columns</p>\n",
       "</div>"
      ],
      "text/plain": [
       "         Country  Calling_Code  Region_Code\n",
       "0    Afghanistan          93.0         93.0\n",
       "1        Albania         355.0        355.0\n",
       "2        Algeria         213.0        213.0\n",
       "3        Andorra         376.0        376.0\n",
       "4         Angola         244.0        244.0\n",
       "..           ...           ...          ...\n",
       "190    Venezuela          58.0         58.0\n",
       "191      Vietnam          84.0         84.0\n",
       "192        Yemen         967.0        967.0\n",
       "193       Zambia         260.0        260.0\n",
       "194     Zimbabwe         263.0        263.0\n",
       "\n",
       "[195 rows x 3 columns]"
      ]
     },
     "execution_count": 63,
     "metadata": {},
     "output_type": "execute_result"
    }
   ],
   "source": [
    "df[[\"Country\", \"Calling_Code\", \"Region_Code\"]]"
   ]
  },
  {
   "cell_type": "markdown",
   "id": "5ba6d228-ec40-4897-9bb4-b8a7888bb99f",
   "metadata": {},
   "source": [
    "9. Capital/Major City"
   ]
  },
  {
   "cell_type": "code",
   "execution_count": 64,
   "id": "c2102b66-e404-48b4-8b3a-4af60fc71d84",
   "metadata": {},
   "outputs": [
    {
     "data": {
      "text/html": [
       "<div>\n",
       "<style scoped>\n",
       "    .dataframe tbody tr th:only-of-type {\n",
       "        vertical-align: middle;\n",
       "    }\n",
       "\n",
       "    .dataframe tbody tr th {\n",
       "        vertical-align: top;\n",
       "    }\n",
       "\n",
       "    .dataframe thead th {\n",
       "        text-align: right;\n",
       "    }\n",
       "</style>\n",
       "<table border=\"1\" class=\"dataframe\">\n",
       "  <thead>\n",
       "    <tr style=\"text-align: right;\">\n",
       "      <th></th>\n",
       "      <th>Country</th>\n",
       "      <th>Major_City</th>\n",
       "    </tr>\n",
       "  </thead>\n",
       "  <tbody>\n",
       "    <tr>\n",
       "      <th>0</th>\n",
       "      <td>Afghanistan</td>\n",
       "      <td>Kabul</td>\n",
       "    </tr>\n",
       "    <tr>\n",
       "      <th>1</th>\n",
       "      <td>Albania</td>\n",
       "      <td>Tirana</td>\n",
       "    </tr>\n",
       "    <tr>\n",
       "      <th>2</th>\n",
       "      <td>Algeria</td>\n",
       "      <td>Algiers</td>\n",
       "    </tr>\n",
       "    <tr>\n",
       "      <th>3</th>\n",
       "      <td>Andorra</td>\n",
       "      <td>Andorra la Vella</td>\n",
       "    </tr>\n",
       "    <tr>\n",
       "      <th>4</th>\n",
       "      <td>Angola</td>\n",
       "      <td>Luanda</td>\n",
       "    </tr>\n",
       "    <tr>\n",
       "      <th>...</th>\n",
       "      <td>...</td>\n",
       "      <td>...</td>\n",
       "    </tr>\n",
       "    <tr>\n",
       "      <th>190</th>\n",
       "      <td>Venezuela</td>\n",
       "      <td>Caracas</td>\n",
       "    </tr>\n",
       "    <tr>\n",
       "      <th>191</th>\n",
       "      <td>Vietnam</td>\n",
       "      <td>Hanoi</td>\n",
       "    </tr>\n",
       "    <tr>\n",
       "      <th>192</th>\n",
       "      <td>Yemen</td>\n",
       "      <td>Sanaa</td>\n",
       "    </tr>\n",
       "    <tr>\n",
       "      <th>193</th>\n",
       "      <td>Zambia</td>\n",
       "      <td>Lusaka</td>\n",
       "    </tr>\n",
       "    <tr>\n",
       "      <th>194</th>\n",
       "      <td>Zimbabwe</td>\n",
       "      <td>Harare</td>\n",
       "    </tr>\n",
       "  </tbody>\n",
       "</table>\n",
       "<p>195 rows × 2 columns</p>\n",
       "</div>"
      ],
      "text/plain": [
       "         Country        Major_City\n",
       "0    Afghanistan             Kabul\n",
       "1        Albania            Tirana\n",
       "2        Algeria           Algiers\n",
       "3        Andorra  Andorra la Vella\n",
       "4         Angola            Luanda\n",
       "..           ...               ...\n",
       "190    Venezuela           Caracas\n",
       "191      Vietnam             Hanoi\n",
       "192        Yemen             Sanaa\n",
       "193       Zambia            Lusaka\n",
       "194     Zimbabwe            Harare\n",
       "\n",
       "[195 rows x 2 columns]"
      ]
     },
     "execution_count": 64,
     "metadata": {},
     "output_type": "execute_result"
    }
   ],
   "source": [
    "df[[\"Country\", \"Major_City\"]]"
   ]
  },
  {
   "cell_type": "code",
   "execution_count": 65,
   "id": "d7e6d8a4-54e1-45f8-b225-63b48355437e",
   "metadata": {},
   "outputs": [
    {
     "data": {
      "text/plain": [
       "array(['Kabul', 'Tirana', 'Algiers', 'Andorra la Vella', 'Luanda',\n",
       "       \"St. John's, Saint John\", 'Buenos Aires', 'Yerevan', 'Canberra',\n",
       "       'Vienna', 'Baku', 'Nassau, Bahamas', 'Manama', 'Dhaka',\n",
       "       'Bridgetown', 'Minsk', 'City of Brussels', 'Belmopan',\n",
       "       'Porto-Novo', 'Thimphu', 'Sucre', 'Sarajevo', 'Gaborone',\n",
       "       'Bras���', 'Bandar Seri Begawan', 'Sofia', 'Ouagadougou',\n",
       "       'Bujumbura', 'Yamoussoukro', 'Praia', 'Phnom Penh', 'Yaound�',\n",
       "       'Ottawa', 'Bangui', \"N'Djamena\", 'Santiago', 'Beijing', 'Bogot�',\n",
       "       'Moroni, Comoros', 'Brazzaville', 'San Jos������', 'Zagreb',\n",
       "       'Havana', 'Nicosia', 'Prague', 'Kinshasa', 'Copenhagen',\n",
       "       'Djibouti City', 'Roseau', 'Santo Domingo', 'Quito', 'Cairo',\n",
       "       'San Salvador', 'Malabo', 'Asmara', 'Tallinn', 'Mbabane',\n",
       "       'Addis Ababa', 'Suva', 'Helsinki', 'Paris', 'Libreville', 'Banjul',\n",
       "       'Tbilisi', 'Berlin', 'Accra', 'Athens', \"St. George's, Grenada\",\n",
       "       'Guatemala City', 'Conakry', 'Bissau', 'Georgetown, Guyana',\n",
       "       'Port-au-Prince', 'Vatican City', 'Tegucigalpa', 'Budapest',\n",
       "       'Reykjav��', 'New Delhi', 'Jakarta', 'Tehran', 'Baghdad', 'Dublin',\n",
       "       'Jerusalem', 'Rome', 'Kingston, Jamaica', 'Tokyo', 'Amman',\n",
       "       'Astana', 'Nairobi', 'South Tarawa', 'Kuwait City', 'Bishkek',\n",
       "       'Vientiane', 'Riga', 'Beirut', 'Maseru', 'Monrovia', 0, 'Vaduz',\n",
       "       'Vilnius', 'Luxembourg City', 'Antananarivo', 'Lilongwe',\n",
       "       'Kuala Lumpur', 'Mal�', 'Bamako', 'Valletta', 'Majuro',\n",
       "       'Nouakchott', 'Port Louis', 'Mexico City', 'Palikir', 'Chi����',\n",
       "       'Monaco City', 'Ulaanbaatar', 'Podgorica', 'Rabat', 'Maputo',\n",
       "       'Naypyidaw', 'Windhoek', 'Yaren District', 'Kathmandu',\n",
       "       'Amsterdam', 'Wellington', 'Managua', 'Niamey', 'Abuja',\n",
       "       'Pyongyang', 'Skopje', 'Oslo', 'Muscat', 'Islamabad', 'Ngerulmud',\n",
       "       'Panama City', 'Port Moresby', 'Asunci��', 'Lima', 'Manila',\n",
       "       'Warsaw', 'Lisbon', 'Doha', 'Bucharest', 'Moscow', 'Kigali',\n",
       "       'Basseterre', 'Castries', 'Kingstown', 'Apia',\n",
       "       'City of San Marino', 'S����', 'Riyadh', 'Dakar', 'Belgrade',\n",
       "       'Victoria, Seychelles', 'Freetown', 'Bratislava', 'Ljubljana',\n",
       "       'Honiara', 'Mogadishu', 'Pretoria', 'Seoul', 'Juba', 'Madrid',\n",
       "       'Colombo', 'Khartoum', 'Paramaribo', 'Stockholm', 'Bern',\n",
       "       'Damascus', 'Dushanbe', 'Dodoma', 'Bangkok', 'Dili', 'Lom�',\n",
       "       'Nuku����', 'Port of Spain', 'Tunis', 'Ankara', 'Ashgabat',\n",
       "       'Funafuti', 'Kampala', 'Kyiv', 'Abu Dhabi', 'London',\n",
       "       'Washington, D.C.', 'Montevideo', 'Tashkent', 'Port Vila',\n",
       "       'Caracas', 'Hanoi', 'Sanaa', 'Lusaka', 'Harare'], dtype=object)"
      ]
     },
     "execution_count": 65,
     "metadata": {},
     "output_type": "execute_result"
    }
   ],
   "source": [
    "df.Major_City.unique()"
   ]
  },
  {
   "cell_type": "code",
   "execution_count": 66,
   "id": "b6608e03-1399-4215-96b0-e482f4ee1bc2",
   "metadata": {},
   "outputs": [],
   "source": [
    "df.Major_City = df.Major_City.replace('[�]', '', regex=True).astype('object')"
   ]
  },
  {
   "cell_type": "code",
   "execution_count": 67,
   "id": "8f2190b0-2829-40f4-b00e-e85048f2588a",
   "metadata": {
    "scrolled": true
   },
   "outputs": [
    {
     "data": {
      "text/plain": [
       "array(['Kabul', 'Tirana', 'Algiers', 'Andorra la Vella', 'Luanda',\n",
       "       \"St. John's, Saint John\", 'Buenos Aires', 'Yerevan', 'Canberra',\n",
       "       'Vienna', 'Baku', 'Nassau, Bahamas', 'Manama', 'Dhaka',\n",
       "       'Bridgetown', 'Minsk', 'City of Brussels', 'Belmopan',\n",
       "       'Porto-Novo', 'Thimphu', 'Sucre', 'Sarajevo', 'Gaborone', 'Bras',\n",
       "       'Bandar Seri Begawan', 'Sofia', 'Ouagadougou', 'Bujumbura',\n",
       "       'Yamoussoukro', 'Praia', 'Phnom Penh', 'Yaound', 'Ottawa',\n",
       "       'Bangui', \"N'Djamena\", 'Santiago', 'Beijing', 'Bogot',\n",
       "       'Moroni, Comoros', 'Brazzaville', 'San Jos', 'Zagreb', 'Havana',\n",
       "       'Nicosia', 'Prague', 'Kinshasa', 'Copenhagen', 'Djibouti City',\n",
       "       'Roseau', 'Santo Domingo', 'Quito', 'Cairo', 'San Salvador',\n",
       "       'Malabo', 'Asmara', 'Tallinn', 'Mbabane', 'Addis Ababa', 'Suva',\n",
       "       'Helsinki', 'Paris', 'Libreville', 'Banjul', 'Tbilisi', 'Berlin',\n",
       "       'Accra', 'Athens', \"St. George's, Grenada\", 'Guatemala City',\n",
       "       'Conakry', 'Bissau', 'Georgetown, Guyana', 'Port-au-Prince',\n",
       "       'Vatican City', 'Tegucigalpa', 'Budapest', 'Reykjav', 'New Delhi',\n",
       "       'Jakarta', 'Tehran', 'Baghdad', 'Dublin', 'Jerusalem', 'Rome',\n",
       "       'Kingston, Jamaica', 'Tokyo', 'Amman', 'Astana', 'Nairobi',\n",
       "       'South Tarawa', 'Kuwait City', 'Bishkek', 'Vientiane', 'Riga',\n",
       "       'Beirut', 'Maseru', 'Monrovia', 0, 'Vaduz', 'Vilnius',\n",
       "       'Luxembourg City', 'Antananarivo', 'Lilongwe', 'Kuala Lumpur',\n",
       "       'Mal', 'Bamako', 'Valletta', 'Majuro', 'Nouakchott', 'Port Louis',\n",
       "       'Mexico City', 'Palikir', 'Chi', 'Monaco City', 'Ulaanbaatar',\n",
       "       'Podgorica', 'Rabat', 'Maputo', 'Naypyidaw', 'Windhoek',\n",
       "       'Yaren District', 'Kathmandu', 'Amsterdam', 'Wellington',\n",
       "       'Managua', 'Niamey', 'Abuja', 'Pyongyang', 'Skopje', 'Oslo',\n",
       "       'Muscat', 'Islamabad', 'Ngerulmud', 'Panama City', 'Port Moresby',\n",
       "       'Asunci', 'Lima', 'Manila', 'Warsaw', 'Lisbon', 'Doha',\n",
       "       'Bucharest', 'Moscow', 'Kigali', 'Basseterre', 'Castries',\n",
       "       'Kingstown', 'Apia', 'City of San Marino', 'S', 'Riyadh', 'Dakar',\n",
       "       'Belgrade', 'Victoria, Seychelles', 'Freetown', 'Bratislava',\n",
       "       'Ljubljana', 'Honiara', 'Mogadishu', 'Pretoria', 'Seoul', 'Juba',\n",
       "       'Madrid', 'Colombo', 'Khartoum', 'Paramaribo', 'Stockholm', 'Bern',\n",
       "       'Damascus', 'Dushanbe', 'Dodoma', 'Bangkok', 'Dili', 'Lom', 'Nuku',\n",
       "       'Port of Spain', 'Tunis', 'Ankara', 'Ashgabat', 'Funafuti',\n",
       "       'Kampala', 'Kyiv', 'Abu Dhabi', 'London', 'Washington, D.C.',\n",
       "       'Montevideo', 'Tashkent', 'Port Vila', 'Caracas', 'Hanoi', 'Sanaa',\n",
       "       'Lusaka', 'Harare'], dtype=object)"
      ]
     },
     "execution_count": 67,
     "metadata": {},
     "output_type": "execute_result"
    }
   ],
   "source": [
    "df.Major_City.unique()"
   ]
  },
  {
   "cell_type": "code",
   "execution_count": 68,
   "id": "7afdbfff-5a97-4d6b-bf36-89fab9b94441",
   "metadata": {},
   "outputs": [
    {
     "data": {
      "text/html": [
       "<div>\n",
       "<style scoped>\n",
       "    .dataframe tbody tr th:only-of-type {\n",
       "        vertical-align: middle;\n",
       "    }\n",
       "\n",
       "    .dataframe tbody tr th {\n",
       "        vertical-align: top;\n",
       "    }\n",
       "\n",
       "    .dataframe thead th {\n",
       "        text-align: right;\n",
       "    }\n",
       "</style>\n",
       "<table border=\"1\" class=\"dataframe\">\n",
       "  <thead>\n",
       "    <tr style=\"text-align: right;\">\n",
       "      <th></th>\n",
       "      <th>Population</th>\n",
       "      <th>GDP</th>\n",
       "      <th>Land_Area</th>\n",
       "    </tr>\n",
       "    <tr>\n",
       "      <th>Major_City</th>\n",
       "      <th></th>\n",
       "      <th></th>\n",
       "      <th></th>\n",
       "    </tr>\n",
       "  </thead>\n",
       "  <tbody>\n",
       "    <tr>\n",
       "      <th>0</th>\n",
       "      <td>12481021</td>\n",
       "      <td>424138778437</td>\n",
       "      <td>107591256</td>\n",
       "    </tr>\n",
       "    <tr>\n",
       "      <th>Abu Dhabi</th>\n",
       "      <td>9770529</td>\n",
       "      <td>421142267938</td>\n",
       "      <td>830600</td>\n",
       "    </tr>\n",
       "    <tr>\n",
       "      <th>Abuja</th>\n",
       "      <td>200963599</td>\n",
       "      <td>448120428859</td>\n",
       "      <td>9230768</td>\n",
       "    </tr>\n",
       "    <tr>\n",
       "      <th>Accra</th>\n",
       "      <td>30792608</td>\n",
       "      <td>66983634224</td>\n",
       "      <td>2380533</td>\n",
       "    </tr>\n",
       "    <tr>\n",
       "      <th>Addis Ababa</th>\n",
       "      <td>112078730</td>\n",
       "      <td>96107662398</td>\n",
       "      <td>101040300</td>\n",
       "    </tr>\n",
       "    <tr>\n",
       "      <th>...</th>\n",
       "      <td>...</td>\n",
       "      <td>...</td>\n",
       "      <td>...</td>\n",
       "    </tr>\n",
       "    <tr>\n",
       "      <th>Yamoussoukro</th>\n",
       "      <td>25716544</td>\n",
       "      <td>58792205642</td>\n",
       "      <td>3220463</td>\n",
       "    </tr>\n",
       "    <tr>\n",
       "      <th>Yaound</th>\n",
       "      <td>25876380</td>\n",
       "      <td>38760467033</td>\n",
       "      <td>4750440</td>\n",
       "    </tr>\n",
       "    <tr>\n",
       "      <th>Yaren District</th>\n",
       "      <td>10084</td>\n",
       "      <td>133000000</td>\n",
       "      <td>21</td>\n",
       "    </tr>\n",
       "    <tr>\n",
       "      <th>Yerevan</th>\n",
       "      <td>2957731</td>\n",
       "      <td>13672802158</td>\n",
       "      <td>290743</td>\n",
       "    </tr>\n",
       "    <tr>\n",
       "      <th>Zagreb</th>\n",
       "      <td>4067500</td>\n",
       "      <td>60415553039</td>\n",
       "      <td>560594</td>\n",
       "    </tr>\n",
       "  </tbody>\n",
       "</table>\n",
       "<p>193 rows × 3 columns</p>\n",
       "</div>"
      ],
      "text/plain": [
       "                Population           GDP  Land_Area\n",
       "Major_City                                         \n",
       "0                 12481021  424138778437  107591256\n",
       "Abu Dhabi          9770529  421142267938     830600\n",
       "Abuja            200963599  448120428859    9230768\n",
       "Accra             30792608   66983634224    2380533\n",
       "Addis Ababa      112078730   96107662398  101040300\n",
       "...                    ...           ...        ...\n",
       "Yamoussoukro      25716544   58792205642    3220463\n",
       "Yaound            25876380   38760467033    4750440\n",
       "Yaren District       10084     133000000         21\n",
       "Yerevan            2957731   13672802158     290743\n",
       "Zagreb             4067500   60415553039     560594\n",
       "\n",
       "[193 rows x 3 columns]"
      ]
     },
     "execution_count": 68,
     "metadata": {},
     "output_type": "execute_result"
    }
   ],
   "source": [
    "df.groupby(\"Major_City\")[[\"Population\", \"GDP\", \"Land_Area\"]].sum()"
   ]
  },
  {
   "cell_type": "markdown",
   "id": "5fc93a95-0510-41d8-99c3-d1941cc5a5c1",
   "metadata": {},
   "source": [
    "10. CO2Emissions"
   ]
  },
  {
   "cell_type": "code",
   "execution_count": 69,
   "id": "49dc7841-c426-472a-9b7d-4be223dcbc51",
   "metadata": {},
   "outputs": [
    {
     "data": {
      "text/plain": [
       "count    1.950000e+02\n",
       "mean     1.714167e+05\n",
       "std      8.241858e+05\n",
       "min      0.000000e+00\n",
       "25%      1.901500e+03\n",
       "50%      1.071500e+04\n",
       "75%      6.194100e+04\n",
       "max      9.893038e+06\n",
       "Name: Co2_Emissions, dtype: float64"
      ]
     },
     "execution_count": 69,
     "metadata": {},
     "output_type": "execute_result"
    }
   ],
   "source": [
    "df[\"Co2_Emissions\"].describe()"
   ]
  },
  {
   "cell_type": "code",
   "execution_count": 70,
   "id": "f71f6254-9d97-4698-baae-f10057216067",
   "metadata": {},
   "outputs": [
    {
     "data": {
      "text/html": [
       "<div>\n",
       "<style scoped>\n",
       "    .dataframe tbody tr th:only-of-type {\n",
       "        vertical-align: middle;\n",
       "    }\n",
       "\n",
       "    .dataframe tbody tr th {\n",
       "        vertical-align: top;\n",
       "    }\n",
       "\n",
       "    .dataframe thead th {\n",
       "        text-align: right;\n",
       "    }\n",
       "</style>\n",
       "<table border=\"1\" class=\"dataframe\">\n",
       "  <thead>\n",
       "    <tr style=\"text-align: right;\">\n",
       "      <th></th>\n",
       "      <th>Co2_Emissions</th>\n",
       "      <th>Population</th>\n",
       "      <th>GDP</th>\n",
       "    </tr>\n",
       "  </thead>\n",
       "  <tbody>\n",
       "    <tr>\n",
       "      <th>Co2_Emissions</th>\n",
       "      <td>1.000000</td>\n",
       "      <td>0.810285</td>\n",
       "      <td>0.916996</td>\n",
       "    </tr>\n",
       "    <tr>\n",
       "      <th>Population</th>\n",
       "      <td>0.810285</td>\n",
       "      <td>1.000000</td>\n",
       "      <td>0.632544</td>\n",
       "    </tr>\n",
       "    <tr>\n",
       "      <th>GDP</th>\n",
       "      <td>0.916996</td>\n",
       "      <td>0.632544</td>\n",
       "      <td>1.000000</td>\n",
       "    </tr>\n",
       "  </tbody>\n",
       "</table>\n",
       "</div>"
      ],
      "text/plain": [
       "               Co2_Emissions  Population       GDP\n",
       "Co2_Emissions       1.000000    0.810285  0.916996\n",
       "Population          0.810285    1.000000  0.632544\n",
       "GDP                 0.916996    0.632544  1.000000"
      ]
     },
     "execution_count": 70,
     "metadata": {},
     "output_type": "execute_result"
    }
   ],
   "source": [
    "df[[\"Co2_Emissions\", \"Population\", \"GDP\"]].corr()"
   ]
  },
  {
   "cell_type": "markdown",
   "id": "6e3f7066-9e96-4a46-be4d-4dfa417386bf",
   "metadata": {},
   "source": [
    "11. Health Expenditure"
   ]
  },
  {
   "cell_type": "code",
   "execution_count": 71,
   "id": "ff725c91-502d-41c7-baa4-4730123fb463",
   "metadata": {},
   "outputs": [
    {
     "data": {
      "text/plain": [
       "count     195\n",
       "unique    161\n",
       "top         0\n",
       "freq        7\n",
       "Name: Out_of_pocket_health_expenditure, dtype: int64"
      ]
     },
     "execution_count": 71,
     "metadata": {},
     "output_type": "execute_result"
    }
   ],
   "source": [
    "df[\"Out_of_pocket_health_expenditure\"].describe()"
   ]
  },
  {
   "cell_type": "code",
   "execution_count": 72,
   "id": "642fe4b2-d92e-4b75-8dcc-680e4a152c7f",
   "metadata": {},
   "outputs": [
    {
     "data": {
      "text/plain": [
       "array(['78.40%', '56.90%', '28.10%', '36.40%', '33.40%', '24.30%',\n",
       "       '17.60%', '81.60%', '19.60%', '17.90%', '78.60%', '27.80%',\n",
       "       '25.10%', '71.80%', '45.20%', '34.50%', '22.70%', '40.50%',\n",
       "       '19.80%', '25.90%', '28.60%', '5.30%', '28.30%', '6.00%', '47.70%',\n",
       "       '36.10%', '19.10%', '36.00%', '23.20%', '59.40%', '69.70%',\n",
       "       '14.60%', '39.60%', '56.40%', '32.20%', '32.40%', '18.30%',\n",
       "       '74.80%', '43.80%', '21.50%', '15.20%', 0, '43.90%', '14.80%',\n",
       "       '37.40%', '13.70%', '20.40%', '28.40%', '43.70%', '62.00%',\n",
       "       '27.90%', '72.00%', '52.40%', '22.80%', '11.30%', '37.80%',\n",
       "       '21.40%', '19.90%', '6.80%', '20.30%', '57.30%', '12.50%',\n",
       "       '35.50%', '57.00%', '55.80%', '54.50%', '37.20%', '36.30%',\n",
       "       '49.10%', '29.00%', '17.00%', '65.10%', '48.30%', '39.70%',\n",
       "       '76.50%', '24.40%', '23.70%', '13.10%', '38.80%', '0.20%',\n",
       "       '14.40%', '48.20%', '45.40%', '41.60%', '32.10%', '16.90%',\n",
       "       '36.70%', '10.60%', '21.70%', '11.00%', '16.40%', '46.30%',\n",
       "       '37.10%', '10.00%', '50.70%', '41.40%', '2.50%', '46.20%', '6.10%',\n",
       "       '39.30%', '31.80%', '53.10%', '73.90%', '8.30%', '60.40%',\n",
       "       '12.30%', '12.60%', '52.30%', '72.20%', '35.60%', '14.30%',\n",
       "       '6.40%', '66.50%', '21.80%', '30.50%', '5.80%', '36.50%', '30.90%',\n",
       "       '53.50%', '27.70%', '6.20%', '21.30%', '26.00%', '56.60%',\n",
       "       '48.40%', '11.50%', '11.70%', '15.00%', '44.20%', '40.60%',\n",
       "       '38.20%', '18.40%', '3.30%', '7.70%', '36.80%', '61.30%', '24.20%',\n",
       "       '38.40%', '63.20%', '10.10%', '53.70%', '63.10%', '26.10%',\n",
       "       '11.80%', '10.20%', '51.00%', '37.30%', '39.80%', '71.10%',\n",
       "       '0.70%', '47.80%', '17.80%', '11.10%', '16.20%', '42.70%', '8.90%',\n",
       "       '45.80%', '43.50%', '81.00%', '27.50%', '25.80%'], dtype=object)"
      ]
     },
     "execution_count": 72,
     "metadata": {},
     "output_type": "execute_result"
    }
   ],
   "source": [
    "df.Out_of_pocket_health_expenditure.unique()"
   ]
  },
  {
   "cell_type": "code",
   "execution_count": 73,
   "id": "0091b019-8347-4370-b29c-553c4260e9ba",
   "metadata": {},
   "outputs": [],
   "source": [
    "df.Out_of_pocket_health_expenditure = df.Out_of_pocket_health_expenditure.replace('[%]', '', regex=True).astype('float64')"
   ]
  },
  {
   "cell_type": "code",
   "execution_count": 74,
   "id": "a69364de-0e06-496a-b878-dd3420f37d20",
   "metadata": {},
   "outputs": [
    {
     "data": {
      "text/plain": [
       "array([78.4, 56.9, 28.1, 36.4, 33.4, 24.3, 17.6, 81.6, 19.6, 17.9, 78.6,\n",
       "       27.8, 25.1, 71.8, 45.2, 34.5, 22.7, 40.5, 19.8, 25.9, 28.6,  5.3,\n",
       "       28.3,  6. , 47.7, 36.1, 19.1, 36. , 23.2, 59.4, 69.7, 14.6, 39.6,\n",
       "       56.4, 32.2, 32.4, 18.3, 74.8, 43.8, 21.5, 15.2,  0. , 43.9, 14.8,\n",
       "       37.4, 13.7, 20.4, 28.4, 43.7, 62. , 27.9, 72. , 52.4, 22.8, 11.3,\n",
       "       37.8, 21.4, 19.9,  6.8, 20.3, 57.3, 12.5, 35.5, 57. , 55.8, 54.5,\n",
       "       37.2, 36.3, 49.1, 29. , 17. , 65.1, 48.3, 39.7, 76.5, 24.4, 23.7,\n",
       "       13.1, 38.8,  0.2, 14.4, 48.2, 45.4, 41.6, 32.1, 16.9, 36.7, 10.6,\n",
       "       21.7, 11. , 16.4, 46.3, 37.1, 10. , 50.7, 41.4,  2.5, 46.2,  6.1,\n",
       "       39.3, 31.8, 53.1, 73.9,  8.3, 60.4, 12.3, 12.6, 52.3, 72.2, 35.6,\n",
       "       14.3,  6.4, 66.5, 21.8, 30.5,  5.8, 36.5, 30.9, 53.5, 27.7,  6.2,\n",
       "       21.3, 26. , 56.6, 48.4, 11.5, 11.7, 15. , 44.2, 40.6, 38.2, 18.4,\n",
       "        3.3,  7.7, 36.8, 61.3, 24.2, 38.4, 63.2, 10.1, 53.7, 63.1, 26.1,\n",
       "       11.8, 10.2, 51. , 37.3, 39.8, 71.1,  0.7, 47.8, 17.8, 11.1, 16.2,\n",
       "       42.7,  8.9, 45.8, 43.5, 81. , 27.5, 25.8])"
      ]
     },
     "execution_count": 74,
     "metadata": {},
     "output_type": "execute_result"
    }
   ],
   "source": [
    "df.Out_of_pocket_health_expenditure.unique()"
   ]
  },
  {
   "cell_type": "code",
   "execution_count": 75,
   "id": "09944f2d-60d1-4da4-88ce-332b79a6381a",
   "metadata": {},
   "outputs": [
    {
     "data": {
      "text/html": [
       "<div>\n",
       "<style scoped>\n",
       "    .dataframe tbody tr th:only-of-type {\n",
       "        vertical-align: middle;\n",
       "    }\n",
       "\n",
       "    .dataframe tbody tr th {\n",
       "        vertical-align: top;\n",
       "    }\n",
       "\n",
       "    .dataframe thead th {\n",
       "        text-align: right;\n",
       "    }\n",
       "</style>\n",
       "<table border=\"1\" class=\"dataframe\">\n",
       "  <thead>\n",
       "    <tr style=\"text-align: right;\">\n",
       "      <th></th>\n",
       "      <th>Out_of_pocket_health_expenditure</th>\n",
       "      <th>GDP</th>\n",
       "      <th>Physicians_per_thousand</th>\n",
       "    </tr>\n",
       "  </thead>\n",
       "  <tbody>\n",
       "    <tr>\n",
       "      <th>Out_of_pocket_health_expenditure</th>\n",
       "      <td>1.000000</td>\n",
       "      <td>-0.082270</td>\n",
       "      <td>-0.165278</td>\n",
       "    </tr>\n",
       "    <tr>\n",
       "      <th>GDP</th>\n",
       "      <td>-0.082270</td>\n",
       "      <td>1.000000</td>\n",
       "      <td>0.098378</td>\n",
       "    </tr>\n",
       "    <tr>\n",
       "      <th>Physicians_per_thousand</th>\n",
       "      <td>-0.165278</td>\n",
       "      <td>0.098378</td>\n",
       "      <td>1.000000</td>\n",
       "    </tr>\n",
       "  </tbody>\n",
       "</table>\n",
       "</div>"
      ],
      "text/plain": [
       "                                  Out_of_pocket_health_expenditure       GDP  \\\n",
       "Out_of_pocket_health_expenditure                          1.000000 -0.082270   \n",
       "GDP                                                      -0.082270  1.000000   \n",
       "Physicians_per_thousand                                  -0.165278  0.098378   \n",
       "\n",
       "                                  Physicians_per_thousand  \n",
       "Out_of_pocket_health_expenditure                -0.165278  \n",
       "GDP                                              0.098378  \n",
       "Physicians_per_thousand                          1.000000  "
      ]
     },
     "execution_count": 75,
     "metadata": {},
     "output_type": "execute_result"
    }
   ],
   "source": [
    "df[[\"Out_of_pocket_health_expenditure\", \"GDP\", \"Physicians_per_thousand\"]].corr()"
   ]
  },
  {
   "cell_type": "markdown",
   "id": "36a679c4-f9fb-4bc1-ab2f-327679bda6e3",
   "metadata": {},
   "source": [
    "12. Physicians per Thousand"
   ]
  },
  {
   "cell_type": "code",
   "execution_count": 76,
   "id": "d693d8f1-78a3-465d-b8bc-62a1354220c2",
   "metadata": {},
   "outputs": [
    {
     "data": {
      "text/plain": [
       "count    195.000000\n",
       "mean       1.773795\n",
       "std        1.688826\n",
       "min        0.000000\n",
       "25%        0.245000\n",
       "50%        1.300000\n",
       "75%        2.875000\n",
       "max        8.420000\n",
       "Name: Physicians_per_thousand, dtype: float64"
      ]
     },
     "execution_count": 76,
     "metadata": {},
     "output_type": "execute_result"
    }
   ],
   "source": [
    "df[\"Physicians_per_thousand\"].describe()"
   ]
  },
  {
   "cell_type": "code",
   "execution_count": 77,
   "id": "670e2d99-f861-406d-a868-7f2cd15679b7",
   "metadata": {},
   "outputs": [
    {
     "data": {
      "text/html": [
       "<div>\n",
       "<style scoped>\n",
       "    .dataframe tbody tr th:only-of-type {\n",
       "        vertical-align: middle;\n",
       "    }\n",
       "\n",
       "    .dataframe tbody tr th {\n",
       "        vertical-align: top;\n",
       "    }\n",
       "\n",
       "    .dataframe thead th {\n",
       "        text-align: right;\n",
       "    }\n",
       "</style>\n",
       "<table border=\"1\" class=\"dataframe\">\n",
       "  <thead>\n",
       "    <tr style=\"text-align: right;\">\n",
       "      <th></th>\n",
       "      <th>Physicians_per_thousand</th>\n",
       "      <th>Life_expectancy</th>\n",
       "      <th>Infant_mortality</th>\n",
       "      <th>GDP</th>\n",
       "    </tr>\n",
       "  </thead>\n",
       "  <tbody>\n",
       "    <tr>\n",
       "      <th>Physicians_per_thousand</th>\n",
       "      <td>1.000000</td>\n",
       "      <td>0.348046</td>\n",
       "      <td>-0.633198</td>\n",
       "      <td>0.098378</td>\n",
       "    </tr>\n",
       "    <tr>\n",
       "      <th>Life_expectancy</th>\n",
       "      <td>0.348046</td>\n",
       "      <td>1.000000</td>\n",
       "      <td>-0.247479</td>\n",
       "      <td>0.119860</td>\n",
       "    </tr>\n",
       "    <tr>\n",
       "      <th>Infant_mortality</th>\n",
       "      <td>-0.633198</td>\n",
       "      <td>-0.247479</td>\n",
       "      <td>1.000000</td>\n",
       "      <td>-0.142774</td>\n",
       "    </tr>\n",
       "    <tr>\n",
       "      <th>GDP</th>\n",
       "      <td>0.098378</td>\n",
       "      <td>0.119860</td>\n",
       "      <td>-0.142774</td>\n",
       "      <td>1.000000</td>\n",
       "    </tr>\n",
       "  </tbody>\n",
       "</table>\n",
       "</div>"
      ],
      "text/plain": [
       "                         Physicians_per_thousand  Life_expectancy  \\\n",
       "Physicians_per_thousand                 1.000000         0.348046   \n",
       "Life_expectancy                         0.348046         1.000000   \n",
       "Infant_mortality                       -0.633198        -0.247479   \n",
       "GDP                                     0.098378         0.119860   \n",
       "\n",
       "                         Infant_mortality       GDP  \n",
       "Physicians_per_thousand         -0.633198  0.098378  \n",
       "Life_expectancy                 -0.247479  0.119860  \n",
       "Infant_mortality                 1.000000 -0.142774  \n",
       "GDP                             -0.142774  1.000000  "
      ]
     },
     "execution_count": 77,
     "metadata": {},
     "output_type": "execute_result"
    }
   ],
   "source": [
    "df[[\"Physicians_per_thousand\", \"Life_expectancy\", \"Infant_mortality\", \"GDP\"]].corr()"
   ]
  },
  {
   "cell_type": "markdown",
   "id": "a0b1a4b2-9b12-4ffa-82cd-64c4e5d8a3e6",
   "metadata": {},
   "source": [
    "13. Population"
   ]
  },
  {
   "cell_type": "code",
   "execution_count": 78,
   "id": "c89ca60e-e2c4-4d54-86fc-3a92f9572e40",
   "metadata": {},
   "outputs": [
    {
     "data": {
      "text/plain": [
       "count    1.950000e+02\n",
       "mean     3.917921e+07\n",
       "std      1.447454e+08\n",
       "min      0.000000e+00\n",
       "25%      1.916856e+06\n",
       "50%      8.776109e+06\n",
       "75%      2.856227e+07\n",
       "max      1.397715e+09\n",
       "Name: Population, dtype: float64"
      ]
     },
     "execution_count": 78,
     "metadata": {},
     "output_type": "execute_result"
    }
   ],
   "source": [
    "df[\"Population\"].describe()"
   ]
  },
  {
   "cell_type": "code",
   "execution_count": 79,
   "id": "88020181-7cc7-4c3a-a9b2-66b66b85a2d8",
   "metadata": {},
   "outputs": [
    {
     "data": {
      "text/html": [
       "<div>\n",
       "<style scoped>\n",
       "    .dataframe tbody tr th:only-of-type {\n",
       "        vertical-align: middle;\n",
       "    }\n",
       "\n",
       "    .dataframe tbody tr th {\n",
       "        vertical-align: top;\n",
       "    }\n",
       "\n",
       "    .dataframe thead th {\n",
       "        text-align: right;\n",
       "    }\n",
       "</style>\n",
       "<table border=\"1\" class=\"dataframe\">\n",
       "  <thead>\n",
       "    <tr style=\"text-align: right;\">\n",
       "      <th></th>\n",
       "      <th>Population</th>\n",
       "      <th>Land_Area</th>\n",
       "      <th>GDP</th>\n",
       "    </tr>\n",
       "  </thead>\n",
       "  <tbody>\n",
       "    <tr>\n",
       "      <th>Population</th>\n",
       "      <td>1.000000</td>\n",
       "      <td>0.434808</td>\n",
       "      <td>0.632544</td>\n",
       "    </tr>\n",
       "    <tr>\n",
       "      <th>Land_Area</th>\n",
       "      <td>0.434808</td>\n",
       "      <td>1.000000</td>\n",
       "      <td>0.541467</td>\n",
       "    </tr>\n",
       "    <tr>\n",
       "      <th>GDP</th>\n",
       "      <td>0.632544</td>\n",
       "      <td>0.541467</td>\n",
       "      <td>1.000000</td>\n",
       "    </tr>\n",
       "  </tbody>\n",
       "</table>\n",
       "</div>"
      ],
      "text/plain": [
       "            Population  Land_Area       GDP\n",
       "Population    1.000000   0.434808  0.632544\n",
       "Land_Area     0.434808   1.000000  0.541467\n",
       "GDP           0.632544   0.541467  1.000000"
      ]
     },
     "execution_count": 79,
     "metadata": {},
     "output_type": "execute_result"
    }
   ],
   "source": [
    "df[[\"Population\", \"Land_Area\", \"GDP\"]].corr()"
   ]
  },
  {
   "cell_type": "markdown",
   "id": "eecf5dae-07f9-47b8-b77c-4c2b3192ef3e",
   "metadata": {},
   "source": [
    "14.  Labor Force Participation"
   ]
  },
  {
   "cell_type": "code",
   "execution_count": 80,
   "id": "eadc85d4-a373-4365-800d-6140b9f9e8f1",
   "metadata": {},
   "outputs": [
    {
     "data": {
      "text/plain": [
       "count     195\n",
       "unique    146\n",
       "top         0\n",
       "freq       19\n",
       "Name: Population_Labor_force_participation, dtype: int64"
      ]
     },
     "execution_count": 80,
     "metadata": {},
     "output_type": "execute_result"
    }
   ],
   "source": [
    "df[\"Population_Labor_force_participation\"].describe()"
   ]
  },
  {
   "cell_type": "code",
   "execution_count": 81,
   "id": "fd0f90fe-93ed-4450-b0fc-9be5991abf09",
   "metadata": {},
   "outputs": [
    {
     "data": {
      "text/plain": [
       "array(['11.12%', '12.33%', '11.70%', 0, '6.89%', '9.79%', '16.99%',\n",
       "       '5.27%', '4.67%', '5.51%', '10.36%', '0.71%', '4.19%', '10.33%',\n",
       "       '4.59%', '5.59%', '6.41%', '2.23%', '2.34%', '3.50%', '18.42%',\n",
       "       '18.19%', '12.08%', '9.12%', '4.34%', '6.26%', '1.43%', '3.32%',\n",
       "       '12.25%', '0.68%', '3.38%', '5.56%', '3.68%', '1.89%', '7.09%',\n",
       "       '4.32%', '9.71%', '9.47%', '11.85%', '6.93%', '1.64%', '7.27%',\n",
       "       '1.93%', '4.24%', '4.91%', '10.30%', '5.84%', '3.97%', '10.76%',\n",
       "       '4.11%', '6.43%', '5.14%', '5.11%', '2.08%', '4.10%', '6.59%',\n",
       "       '8.43%', '20.00%', '9.06%', '14.40%', '3.04%', '4.33%', '17.24%',\n",
       "       '2.46%', '4.30%', '2.47%', '13.78%', '5.39%', '3.40%', '2.84%',\n",
       "       '5.36%', '4.69%', '11.38%', '12.82%', '4.93%', '3.86%', '9.89%',\n",
       "       '8.00%', '2.29%', '14.72%', '2.64%', '2.18%', '6.33%', '0.63%',\n",
       "       '6.52%', '6.23%', '23.41%', '2.81%', '18.56%', '6.35%', '1.76%',\n",
       "       '5.65%', '6.14%', '7.22%', '3.47%', '9.55%', '6.67%', '3.42%',\n",
       "       '5.47%', '6.01%', '14.88%', '9.02%', '3.24%', '1.58%', '20.27%',\n",
       "       '1.41%', '3.20%', '4.07%', '6.84%', '0.47%', '8.10%', '2.74%',\n",
       "       '3.35%', '2.67%', '4.45%', '3.90%', '4.81%', '3.31%', '2.15%',\n",
       "       '0.09%', '3.98%', '1.03%', '20.71%', '18.88%', '8.36%', '13.37%',\n",
       "       '5.93%', '6.60%', '12.69%', '4.43%', '4.20%', '0.58%', '11.35%',\n",
       "       '28.18%', '4.15%', '12.24%', '13.96%', '16.53%', '7.33%', '6.48%',\n",
       "       '4.58%', '8.37%', '11.02%', '1.98%', '0.75%', '4.55%', '2.04%',\n",
       "       '1.12%', '2.69%', '16.02%', '13.49%', '3.91%', '1.84%', '8.88%',\n",
       "       '2.35%', '3.85%', '14.70%', '8.73%', '5.92%', '4.39%', '8.80%',\n",
       "       '2.01%', '12.91%', '11.43%', '4.95%'], dtype=object)"
      ]
     },
     "execution_count": 81,
     "metadata": {},
     "output_type": "execute_result"
    }
   ],
   "source": [
    "df.Unemployment_rate.unique()"
   ]
  },
  {
   "cell_type": "code",
   "execution_count": 82,
   "id": "63833874-e024-4bfc-9948-452d8086eb1d",
   "metadata": {},
   "outputs": [],
   "source": [
    "df.Unemployment_rate = df.Unemployment_rate.replace('[%]', '', regex=True).astype('float64')"
   ]
  },
  {
   "cell_type": "code",
   "execution_count": 83,
   "id": "3804659f-7ce2-4f8d-8dec-50973598a422",
   "metadata": {},
   "outputs": [
    {
     "data": {
      "text/plain": [
       "array([11.12, 12.33, 11.7 ,  0.  ,  6.89,  9.79, 16.99,  5.27,  4.67,\n",
       "        5.51, 10.36,  0.71,  4.19, 10.33,  4.59,  5.59,  6.41,  2.23,\n",
       "        2.34,  3.5 , 18.42, 18.19, 12.08,  9.12,  4.34,  6.26,  1.43,\n",
       "        3.32, 12.25,  0.68,  3.38,  5.56,  3.68,  1.89,  7.09,  4.32,\n",
       "        9.71,  9.47, 11.85,  6.93,  1.64,  7.27,  1.93,  4.24,  4.91,\n",
       "       10.3 ,  5.84,  3.97, 10.76,  4.11,  6.43,  5.14,  5.11,  2.08,\n",
       "        4.1 ,  6.59,  8.43, 20.  ,  9.06, 14.4 ,  3.04,  4.33, 17.24,\n",
       "        2.46,  4.3 ,  2.47, 13.78,  5.39,  3.4 ,  2.84,  5.36,  4.69,\n",
       "       11.38, 12.82,  4.93,  3.86,  9.89,  8.  ,  2.29, 14.72,  2.64,\n",
       "        2.18,  6.33,  0.63,  6.52,  6.23, 23.41,  2.81, 18.56,  6.35,\n",
       "        1.76,  5.65,  6.14,  7.22,  3.47,  9.55,  6.67,  3.42,  5.47,\n",
       "        6.01, 14.88,  9.02,  3.24,  1.58, 20.27,  1.41,  3.2 ,  4.07,\n",
       "        6.84,  0.47,  8.1 ,  2.74,  3.35,  2.67,  4.45,  3.9 ,  4.81,\n",
       "        3.31,  2.15,  0.09,  3.98,  1.03, 20.71, 18.88,  8.36, 13.37,\n",
       "        5.93,  6.6 , 12.69,  4.43,  4.2 ,  0.58, 11.35, 28.18,  4.15,\n",
       "       12.24, 13.96, 16.53,  7.33,  6.48,  4.58,  8.37, 11.02,  1.98,\n",
       "        0.75,  4.55,  2.04,  1.12,  2.69, 16.02, 13.49,  3.91,  1.84,\n",
       "        8.88,  2.35,  3.85, 14.7 ,  8.73,  5.92,  4.39,  8.8 ,  2.01,\n",
       "       12.91, 11.43,  4.95])"
      ]
     },
     "execution_count": 83,
     "metadata": {},
     "output_type": "execute_result"
    }
   ],
   "source": [
    "df.Unemployment_rate.unique()"
   ]
  },
  {
   "cell_type": "code",
   "execution_count": 84,
   "id": "b9c1752e-21c8-41f1-a522-57fe662447e8",
   "metadata": {},
   "outputs": [
    {
     "data": {
      "text/plain": [
       "array(['48.90%', '55.70%', '41.20%', 0, '77.50%', '61.30%', '55.60%',\n",
       "       '65.50%', '60.70%', '66.50%', '74.60%', '73.40%', '59.00%',\n",
       "       '65.20%', '64.10%', '53.60%', '65.10%', '70.90%', '66.70%',\n",
       "       '71.80%', '46.40%', '70.80%', '63.90%', '64.70%', '55.40%',\n",
       "       '66.40%', '79.20%', '57.00%', '60.50%', '82.30%', '76.10%',\n",
       "       '72.00%', '70.70%', '62.60%', '68.00%', '68.80%', '43.30%',\n",
       "       '69.40%', '62.10%', '51.20%', '63.10%', '60.60%', '63.50%',\n",
       "       '62.20%', '60.20%', '64.30%', '59.10%', '62.00%', '78.40%',\n",
       "       '63.60%', '79.60%', '57.60%', '55.10%', '52.90%', '59.40%',\n",
       "       '68.30%', '60.80%', '67.80%', '51.80%', '62.30%', '61.50%',\n",
       "       '56.20%', '67.20%', '56.50%', '75.00%', '49.30%', '67.50%',\n",
       "       '44.70%', '43.00%', '64.00%', '49.60%', '66.00%', '61.70%',\n",
       "       '39.30%', '74.70%', '73.50%', '59.80%', '78.50%', '61.40%',\n",
       "       '47.00%', '67.90%', '76.30%', '49.70%', '61.60%', '59.30%',\n",
       "       '86.10%', '76.70%', '69.80%', '45.90%', '58.30%', '43.10%',\n",
       "       '59.70%', '54.40%', '45.30%', '78.10%', '59.50%', '83.80%',\n",
       "       '69.90%', '80.40%', '63.80%', '72.40%', '52.60%', '66.60%',\n",
       "       '47.20%', '72.10%', '77.60%', '59.60%', '56.70%', '58.80%',\n",
       "       '86.80%', '54.70%', '61.80%', '83.70%', '67.10%', '65.90%',\n",
       "       '43.70%', '57.80%', '55.90%', '45.70%', '54.90%', '57.90%',\n",
       "       '70.50%', '58.40%', '47.40%', '56.00%', '63.00%', '57.50%',\n",
       "       '53.90%', '48.40%', '51.10%', '64.60%', '44.10%', '42.00%',\n",
       "       '83.40%', '67.30%', '60.00%', '46.10%', '52.80%', '64.50%',\n",
       "       '70.30%', '54.20%', '82.10%', '62.80%', '77.40%', '38.00%',\n",
       "       '83.10%'], dtype=object)"
      ]
     },
     "execution_count": 84,
     "metadata": {},
     "output_type": "execute_result"
    }
   ],
   "source": [
    "df.Population_Labor_force_participation.unique()"
   ]
  },
  {
   "cell_type": "code",
   "execution_count": 85,
   "id": "d9dea2c5-6703-45e3-a31d-a95393267586",
   "metadata": {},
   "outputs": [],
   "source": [
    "df.Population_Labor_force_participation = df.Population_Labor_force_participation.replace('[%]', '', regex=True).astype('float64')"
   ]
  },
  {
   "cell_type": "code",
   "execution_count": 86,
   "id": "d40516eb-ffdc-4801-b979-b73819faea85",
   "metadata": {},
   "outputs": [
    {
     "data": {
      "text/plain": [
       "array([48.9, 55.7, 41.2,  0. , 77.5, 61.3, 55.6, 65.5, 60.7, 66.5, 74.6,\n",
       "       73.4, 59. , 65.2, 64.1, 53.6, 65.1, 70.9, 66.7, 71.8, 46.4, 70.8,\n",
       "       63.9, 64.7, 55.4, 66.4, 79.2, 57. , 60.5, 82.3, 76.1, 72. , 70.7,\n",
       "       62.6, 68. , 68.8, 43.3, 69.4, 62.1, 51.2, 63.1, 60.6, 63.5, 62.2,\n",
       "       60.2, 64.3, 59.1, 62. , 78.4, 63.6, 79.6, 57.6, 55.1, 52.9, 59.4,\n",
       "       68.3, 60.8, 67.8, 51.8, 62.3, 61.5, 56.2, 67.2, 56.5, 75. , 49.3,\n",
       "       67.5, 44.7, 43. , 64. , 49.6, 66. , 61.7, 39.3, 74.7, 73.5, 59.8,\n",
       "       78.5, 61.4, 47. , 67.9, 76.3, 49.7, 61.6, 59.3, 86.1, 76.7, 69.8,\n",
       "       45.9, 58.3, 43.1, 59.7, 54.4, 45.3, 78.1, 59.5, 83.8, 69.9, 80.4,\n",
       "       63.8, 72.4, 52.6, 66.6, 47.2, 72.1, 77.6, 59.6, 56.7, 58.8, 86.8,\n",
       "       54.7, 61.8, 83.7, 67.1, 65.9, 43.7, 57.8, 55.9, 45.7, 54.9, 57.9,\n",
       "       70.5, 58.4, 47.4, 56. , 63. , 57.5, 53.9, 48.4, 51.1, 64.6, 44.1,\n",
       "       42. , 83.4, 67.3, 60. , 46.1, 52.8, 64.5, 70.3, 54.2, 82.1, 62.8,\n",
       "       77.4, 38. , 83.1])"
      ]
     },
     "execution_count": 86,
     "metadata": {},
     "output_type": "execute_result"
    }
   ],
   "source": [
    "df.Population_Labor_force_participation.unique()"
   ]
  },
  {
   "cell_type": "code",
   "execution_count": 87,
   "id": "1f50039d-ff67-47f4-93b8-81781765eafc",
   "metadata": {},
   "outputs": [
    {
     "data": {
      "text/html": [
       "<div>\n",
       "<style scoped>\n",
       "    .dataframe tbody tr th:only-of-type {\n",
       "        vertical-align: middle;\n",
       "    }\n",
       "\n",
       "    .dataframe tbody tr th {\n",
       "        vertical-align: top;\n",
       "    }\n",
       "\n",
       "    .dataframe thead th {\n",
       "        text-align: right;\n",
       "    }\n",
       "</style>\n",
       "<table border=\"1\" class=\"dataframe\">\n",
       "  <thead>\n",
       "    <tr style=\"text-align: right;\">\n",
       "      <th></th>\n",
       "      <th>Population_Labor_force_participation</th>\n",
       "      <th>GDP</th>\n",
       "      <th>Unemployment_rate</th>\n",
       "    </tr>\n",
       "  </thead>\n",
       "  <tbody>\n",
       "    <tr>\n",
       "      <th>Population_Labor_force_participation</th>\n",
       "      <td>1.000000</td>\n",
       "      <td>0.059896</td>\n",
       "      <td>0.156049</td>\n",
       "    </tr>\n",
       "    <tr>\n",
       "      <th>GDP</th>\n",
       "      <td>0.059896</td>\n",
       "      <td>1.000000</td>\n",
       "      <td>0.056667</td>\n",
       "    </tr>\n",
       "    <tr>\n",
       "      <th>Unemployment_rate</th>\n",
       "      <td>0.156049</td>\n",
       "      <td>0.056667</td>\n",
       "      <td>1.000000</td>\n",
       "    </tr>\n",
       "  </tbody>\n",
       "</table>\n",
       "</div>"
      ],
      "text/plain": [
       "                                      Population_Labor_force_participation  \\\n",
       "Population_Labor_force_participation                              1.000000   \n",
       "GDP                                                               0.059896   \n",
       "Unemployment_rate                                                 0.156049   \n",
       "\n",
       "                                           GDP  Unemployment_rate  \n",
       "Population_Labor_force_participation  0.059896           0.156049  \n",
       "GDP                                   1.000000           0.056667  \n",
       "Unemployment_rate                     0.056667           1.000000  "
      ]
     },
     "execution_count": 87,
     "metadata": {},
     "output_type": "execute_result"
    }
   ],
   "source": [
    "df[[\"Population_Labor_force_participation\", \"GDP\", \"Unemployment_rate\"]].corr()"
   ]
  },
  {
   "cell_type": "markdown",
   "id": "54b4946f-83f3-474f-80bf-9072c104500e",
   "metadata": {},
   "source": [
    "15. Tax Revenue"
   ]
  },
  {
   "cell_type": "code",
   "execution_count": 88,
   "id": "07a1748f-1174-4192-8725-6156bf7b8812",
   "metadata": {},
   "outputs": [
    {
     "data": {
      "text/plain": [
       "count     195\n",
       "unique    120\n",
       "top         0\n",
       "freq       26\n",
       "Name: Tax_revenue, dtype: int64"
      ]
     },
     "execution_count": 88,
     "metadata": {},
     "output_type": "execute_result"
    }
   ],
   "source": [
    "df[\"Tax_revenue\"].describe()"
   ]
  },
  {
   "cell_type": "code",
   "execution_count": 89,
   "id": "65948403-023c-42c3-9f0c-3418eef8b1a0",
   "metadata": {},
   "outputs": [
    {
     "data": {
      "text/plain": [
       "array(['9.30%', '18.60%', '37.20%', 0, '9.20%', '16.50%', '10.10%',\n",
       "       '20.90%', '23.00%', '25.40%', '13.00%', '14.80%', '4.20%', '8.80%',\n",
       "       '27.50%', '14.70%', '24.00%', '26.30%', '10.80%', '16.00%',\n",
       "       '17.00%', '20.40%', '19.50%', '14.20%', '20.20%', '15.00%',\n",
       "       '13.60%', '11.80%', '20.10%', '17.10%', '12.80%', '8.60%',\n",
       "       '18.20%', '9.40%', '14.40%', '9.00%', '22.00%', '24.50%', '14.90%',\n",
       "       '10.70%', '32.40%', '22.10%', '12.50%', '18.10%', '6.10%',\n",
       "       '28.60%', '7.50%', '24.20%', '20.80%', '10.20%', '21.70%',\n",
       "       '11.50%', '12.60%', '26.20%', '19.40%', '10.60%', '10.30%',\n",
       "       '17.30%', '23.30%', '11.20%', '7.40%', '2.00%', '18.30%', '23.10%',\n",
       "       '24.30%', '26.80%', '11.90%', '15.10%', '11.70%', '1.40%',\n",
       "       '18.00%', '12.90%', '22.90%', '15.30%', '31.60%', '16.90%',\n",
       "       '26.50%', '12.00%', '11.60%', '17.80%', '19.10%', '13.10%',\n",
       "       '25.20%', '17.70%', '16.80%', '21.90%', '0.00%', '5.40%', '27.10%',\n",
       "       '20.70%', '29.00%', '15.60%', '1.50%', '23.90%', '2.50%', '21.30%',\n",
       "       '10.00%', '14.30%', '14.00%', '17.40%', '22.80%', '14.60%',\n",
       "       '11.40%', '18.50%', '25.50%', '8.90%', '16.30%', '34.10%',\n",
       "       '18.70%', '29.50%', '8.00%', '27.90%', '9.80%', '25.00%', '22.30%',\n",
       "       '21.10%', '17.90%', '0.10%', '9.60%', '16.20%'], dtype=object)"
      ]
     },
     "execution_count": 89,
     "metadata": {},
     "output_type": "execute_result"
    }
   ],
   "source": [
    "df.Tax_revenue.unique()"
   ]
  },
  {
   "cell_type": "code",
   "execution_count": 90,
   "id": "e5ced957-0470-46ce-bc61-bce498ff1746",
   "metadata": {},
   "outputs": [],
   "source": [
    "df.Tax_revenue = df.Tax_revenue.replace('[%]', '', regex=True).astype('float64')"
   ]
  },
  {
   "cell_type": "code",
   "execution_count": 91,
   "id": "6f2081e7-f356-4cb4-83f4-e923efbb134b",
   "metadata": {},
   "outputs": [
    {
     "data": {
      "text/plain": [
       "array([ 9.3, 18.6, 37.2,  0. ,  9.2, 16.5, 10.1, 20.9, 23. , 25.4, 13. ,\n",
       "       14.8,  4.2,  8.8, 27.5, 14.7, 24. , 26.3, 10.8, 16. , 17. , 20.4,\n",
       "       19.5, 14.2, 20.2, 15. , 13.6, 11.8, 20.1, 17.1, 12.8,  8.6, 18.2,\n",
       "        9.4, 14.4,  9. , 22. , 24.5, 14.9, 10.7, 32.4, 22.1, 12.5, 18.1,\n",
       "        6.1, 28.6,  7.5, 24.2, 20.8, 10.2, 21.7, 11.5, 12.6, 26.2, 19.4,\n",
       "       10.6, 10.3, 17.3, 23.3, 11.2,  7.4,  2. , 18.3, 23.1, 24.3, 26.8,\n",
       "       11.9, 15.1, 11.7,  1.4, 18. , 12.9, 22.9, 15.3, 31.6, 16.9, 26.5,\n",
       "       12. , 11.6, 17.8, 19.1, 13.1, 25.2, 17.7, 16.8, 21.9,  5.4, 27.1,\n",
       "       20.7, 29. , 15.6,  1.5, 23.9,  2.5, 21.3, 10. , 14.3, 14. , 17.4,\n",
       "       22.8, 14.6, 11.4, 18.5, 25.5,  8.9, 16.3, 34.1, 18.7, 29.5,  8. ,\n",
       "       27.9,  9.8, 25. , 22.3, 21.1, 17.9,  0.1,  9.6, 16.2])"
      ]
     },
     "execution_count": 91,
     "metadata": {},
     "output_type": "execute_result"
    }
   ],
   "source": [
    "df.Tax_revenue.unique()"
   ]
  },
  {
   "cell_type": "code",
   "execution_count": 92,
   "id": "f5a9d153-fd54-4f66-af12-f3fd64a053a4",
   "metadata": {},
   "outputs": [
    {
     "data": {
      "text/html": [
       "<div>\n",
       "<style scoped>\n",
       "    .dataframe tbody tr th:only-of-type {\n",
       "        vertical-align: middle;\n",
       "    }\n",
       "\n",
       "    .dataframe tbody tr th {\n",
       "        vertical-align: top;\n",
       "    }\n",
       "\n",
       "    .dataframe thead th {\n",
       "        text-align: right;\n",
       "    }\n",
       "</style>\n",
       "<table border=\"1\" class=\"dataframe\">\n",
       "  <thead>\n",
       "    <tr style=\"text-align: right;\">\n",
       "      <th></th>\n",
       "      <th>Tax_revenue</th>\n",
       "      <th>GDP</th>\n",
       "    </tr>\n",
       "  </thead>\n",
       "  <tbody>\n",
       "    <tr>\n",
       "      <th>Tax_revenue</th>\n",
       "      <td>1.000000</td>\n",
       "      <td>-0.037143</td>\n",
       "    </tr>\n",
       "    <tr>\n",
       "      <th>GDP</th>\n",
       "      <td>-0.037143</td>\n",
       "      <td>1.000000</td>\n",
       "    </tr>\n",
       "  </tbody>\n",
       "</table>\n",
       "</div>"
      ],
      "text/plain": [
       "             Tax_revenue       GDP\n",
       "Tax_revenue     1.000000 -0.037143\n",
       "GDP            -0.037143  1.000000"
      ]
     },
     "execution_count": 92,
     "metadata": {},
     "output_type": "execute_result"
    }
   ],
   "source": [
    "df[[\"Tax_revenue\", \"GDP\"]].corr()"
   ]
  },
  {
   "cell_type": "markdown",
   "id": "b6ec037a-778c-468c-9bb4-51f921c29843",
   "metadata": {},
   "source": [
    "16. Total Tax Rate"
   ]
  },
  {
   "cell_type": "code",
   "execution_count": 93,
   "id": "b4a0ea55-ef7c-453c-bf48-3752b0075aa2",
   "metadata": {},
   "outputs": [
    {
     "data": {
      "text/plain": [
       "count     195\n",
       "unique    157\n",
       "top         0\n",
       "freq       12\n",
       "Name: Total_tax_rate, dtype: int64"
      ]
     },
     "execution_count": 93,
     "metadata": {},
     "output_type": "execute_result"
    }
   ],
   "source": [
    "df[\"Total_tax_rate\"].describe()"
   ]
  },
  {
   "cell_type": "code",
   "execution_count": 94,
   "id": "3640e24c-f964-4506-a046-d02a57516c5f",
   "metadata": {},
   "outputs": [
    {
     "data": {
      "text/plain": [
       "array(['71.40%', '36.60%', '66.10%', 0, '49.10%', '43.00%', '106.30%',\n",
       "       '22.60%', '47.40%', '51.40%', '40.70%', '33.80%', '13.80%',\n",
       "       '33.40%', '35.60%', '53.30%', '55.40%', '31.10%', '48.90%',\n",
       "       '35.30%', '83.70%', '23.70%', '25.10%', '65.10%', '8.00%',\n",
       "       '28.30%', '41.30%', '41.20%', '50.10%', '37.50%', '23.10%',\n",
       "       '57.70%', '24.50%', '73.30%', '63.50%', '34.00%', '59.20%',\n",
       "       '71.20%', '219.60%', '54.30%', '58.30%', '20.50%', '22.40%',\n",
       "       '46.10%', '50.70%', '23.80%', '37.90%', '32.60%', '48.80%',\n",
       "       '34.40%', '44.40%', '36.40%', '79.40%', '47.80%', '37.70%',\n",
       "       '32.10%', '60.70%', '47.10%', '48.40%', '9.90%', '51.90%',\n",
       "       '35.20%', '69.30%', '45.50%', '30.60%', '42.70%', '39.10%',\n",
       "       '31.90%', '49.70%', '30.10%', '44.70%', '30.80%', '26.10%',\n",
       "       '25.30%', '59.10%', '35.10%', '46.70%', '28.60%', '28.40%',\n",
       "       '37.20%', '32.70%', '13.00%', '29.00%', '24.10%', '38.10%',\n",
       "       '32.20%', '13.60%', '46.20%', '21.60%', '42.60%', '20.40%',\n",
       "       '38.30%', '34.50%', '38.70%', '30.20%', '54.50%', '44.00%',\n",
       "       '65.90%', '67.00%', '22.20%', '55.10%', '60.50%', '25.70%',\n",
       "       '45.80%', '36.10%', '31.20%', '20.70%', '41.80%', '34.60%',\n",
       "       '60.60%', '47.20%', '34.80%', '36.20%', '27.40%', '33.90%',\n",
       "       '76.60%', '37.10%', '35.00%', '36.80%', '43.10%', '40.80%',\n",
       "       '39.80%', '11.30%', '20.00%', '33.20%', '34.70%', '37.00%',\n",
       "       '19.30%', '15.70%', '44.80%', '30.70%', '21.00%', '31.00%',\n",
       "       '32.00%', '29.20%', '31.40%', '47.00%', '55.20%', '45.40%',\n",
       "       '27.90%', '28.80%', '67.30%', '43.80%', '29.50%', '17.30%',\n",
       "       '48.20%', '27.50%', '40.50%', '42.30%', '33.70%', '45.20%',\n",
       "       '15.90%', '31.60%', '8.50%', '37.60%', '26.60%', '15.60%'],\n",
       "      dtype=object)"
      ]
     },
     "execution_count": 94,
     "metadata": {},
     "output_type": "execute_result"
    }
   ],
   "source": [
    "df.Total_tax_rate.unique()"
   ]
  },
  {
   "cell_type": "code",
   "execution_count": 95,
   "id": "afc687a1-15cd-4e1f-918b-abf1ad19cb31",
   "metadata": {},
   "outputs": [],
   "source": [
    "df.Total_tax_rate = df.Total_tax_rate.replace('[%]', '', regex=True).astype('float64')"
   ]
  },
  {
   "cell_type": "code",
   "execution_count": 96,
   "id": "5fb2c38d-cb10-4651-b442-d95d7a1c436d",
   "metadata": {},
   "outputs": [
    {
     "data": {
      "text/plain": [
       "array([ 71.4,  36.6,  66.1,   0. ,  49.1,  43. , 106.3,  22.6,  47.4,\n",
       "        51.4,  40.7,  33.8,  13.8,  33.4,  35.6,  53.3,  55.4,  31.1,\n",
       "        48.9,  35.3,  83.7,  23.7,  25.1,  65.1,   8. ,  28.3,  41.3,\n",
       "        41.2,  50.1,  37.5,  23.1,  57.7,  24.5,  73.3,  63.5,  34. ,\n",
       "        59.2,  71.2, 219.6,  54.3,  58.3,  20.5,  22.4,  46.1,  50.7,\n",
       "        23.8,  37.9,  32.6,  48.8,  34.4,  44.4,  36.4,  79.4,  47.8,\n",
       "        37.7,  32.1,  60.7,  47.1,  48.4,   9.9,  51.9,  35.2,  69.3,\n",
       "        45.5,  30.6,  42.7,  39.1,  31.9,  49.7,  30.1,  44.7,  30.8,\n",
       "        26.1,  25.3,  59.1,  35.1,  46.7,  28.6,  28.4,  37.2,  32.7,\n",
       "        13. ,  29. ,  24.1,  38.1,  32.2,  13.6,  46.2,  21.6,  42.6,\n",
       "        20.4,  38.3,  34.5,  38.7,  30.2,  54.5,  44. ,  65.9,  67. ,\n",
       "        22.2,  55.1,  60.5,  25.7,  45.8,  36.1,  31.2,  20.7,  41.8,\n",
       "        34.6,  60.6,  47.2,  34.8,  36.2,  27.4,  33.9,  76.6,  37.1,\n",
       "        35. ,  36.8,  43.1,  40.8,  39.8,  11.3,  20. ,  33.2,  34.7,\n",
       "        37. ,  19.3,  15.7,  44.8,  30.7,  21. ,  31. ,  32. ,  29.2,\n",
       "        31.4,  47. ,  55.2,  45.4,  27.9,  28.8,  67.3,  43.8,  29.5,\n",
       "        17.3,  48.2,  27.5,  40.5,  42.3,  33.7,  45.2,  15.9,  31.6,\n",
       "         8.5,  37.6,  26.6,  15.6])"
      ]
     },
     "execution_count": 96,
     "metadata": {},
     "output_type": "execute_result"
    }
   ],
   "source": [
    "df.Total_tax_rate.unique()"
   ]
  },
  {
   "cell_type": "code",
   "execution_count": 97,
   "id": "865b8314-8b02-4e6d-8a94-9c19da8a23d4",
   "metadata": {},
   "outputs": [
    {
     "data": {
      "text/html": [
       "<div>\n",
       "<style scoped>\n",
       "    .dataframe tbody tr th:only-of-type {\n",
       "        vertical-align: middle;\n",
       "    }\n",
       "\n",
       "    .dataframe tbody tr th {\n",
       "        vertical-align: top;\n",
       "    }\n",
       "\n",
       "    .dataframe thead th {\n",
       "        text-align: right;\n",
       "    }\n",
       "</style>\n",
       "<table border=\"1\" class=\"dataframe\">\n",
       "  <thead>\n",
       "    <tr style=\"text-align: right;\">\n",
       "      <th></th>\n",
       "      <th>Total_tax_rate</th>\n",
       "      <th>GDP</th>\n",
       "    </tr>\n",
       "  </thead>\n",
       "  <tbody>\n",
       "    <tr>\n",
       "      <th>Total_tax_rate</th>\n",
       "      <td>1.000000</td>\n",
       "      <td>0.069834</td>\n",
       "    </tr>\n",
       "    <tr>\n",
       "      <th>GDP</th>\n",
       "      <td>0.069834</td>\n",
       "      <td>1.000000</td>\n",
       "    </tr>\n",
       "  </tbody>\n",
       "</table>\n",
       "</div>"
      ],
      "text/plain": [
       "                Total_tax_rate       GDP\n",
       "Total_tax_rate        1.000000  0.069834\n",
       "GDP                   0.069834  1.000000"
      ]
     },
     "execution_count": 97,
     "metadata": {},
     "output_type": "execute_result"
    }
   ],
   "source": [
    "df[[\"Total_tax_rate\", \"GDP\"]].corr()"
   ]
  },
  {
   "cell_type": "markdown",
   "id": "be5155a4-1230-4f53-bd36-9aa1f5d76934",
   "metadata": {},
   "source": [
    "17. Unemployment Rate"
   ]
  },
  {
   "cell_type": "code",
   "execution_count": 98,
   "id": "dc66f3f4-c482-465e-bca7-3655fc294530",
   "metadata": {},
   "outputs": [
    {
     "data": {
      "text/plain": [
       "count    195.000000\n",
       "mean       6.215385\n",
       "std        5.240580\n",
       "min        0.000000\n",
       "25%        2.555000\n",
       "50%        4.670000\n",
       "75%        8.840000\n",
       "max       28.180000\n",
       "Name: Unemployment_rate, dtype: float64"
      ]
     },
     "execution_count": 98,
     "metadata": {},
     "output_type": "execute_result"
    }
   ],
   "source": [
    "df[\"Unemployment_rate\"].describe()"
   ]
  },
  {
   "cell_type": "code",
   "execution_count": 99,
   "id": "d776dcdd-d9f0-45f3-8147-6ad39edd919f",
   "metadata": {},
   "outputs": [
    {
     "data": {
      "text/html": [
       "<div>\n",
       "<style scoped>\n",
       "    .dataframe tbody tr th:only-of-type {\n",
       "        vertical-align: middle;\n",
       "    }\n",
       "\n",
       "    .dataframe tbody tr th {\n",
       "        vertical-align: top;\n",
       "    }\n",
       "\n",
       "    .dataframe thead th {\n",
       "        text-align: right;\n",
       "    }\n",
       "</style>\n",
       "<table border=\"1\" class=\"dataframe\">\n",
       "  <thead>\n",
       "    <tr style=\"text-align: right;\">\n",
       "      <th></th>\n",
       "      <th>Unemployment_rate</th>\n",
       "      <th>GDP</th>\n",
       "      <th>Population_Labor_force_participation</th>\n",
       "    </tr>\n",
       "  </thead>\n",
       "  <tbody>\n",
       "    <tr>\n",
       "      <th>Unemployment_rate</th>\n",
       "      <td>1.000000</td>\n",
       "      <td>0.056667</td>\n",
       "      <td>0.156049</td>\n",
       "    </tr>\n",
       "    <tr>\n",
       "      <th>GDP</th>\n",
       "      <td>0.056667</td>\n",
       "      <td>1.000000</td>\n",
       "      <td>0.059896</td>\n",
       "    </tr>\n",
       "    <tr>\n",
       "      <th>Population_Labor_force_participation</th>\n",
       "      <td>0.156049</td>\n",
       "      <td>0.059896</td>\n",
       "      <td>1.000000</td>\n",
       "    </tr>\n",
       "  </tbody>\n",
       "</table>\n",
       "</div>"
      ],
      "text/plain": [
       "                                      Unemployment_rate       GDP  \\\n",
       "Unemployment_rate                              1.000000  0.056667   \n",
       "GDP                                            0.056667  1.000000   \n",
       "Population_Labor_force_participation           0.156049  0.059896   \n",
       "\n",
       "                                      Population_Labor_force_participation  \n",
       "Unemployment_rate                                                 0.156049  \n",
       "GDP                                                               0.059896  \n",
       "Population_Labor_force_participation                              1.000000  "
      ]
     },
     "execution_count": 99,
     "metadata": {},
     "output_type": "execute_result"
    }
   ],
   "source": [
    "df[[\"Unemployment_rate\", \"GDP\", \"Population_Labor_force_participation\"]].corr()"
   ]
  },
  {
   "cell_type": "markdown",
   "id": "c58c4127-f201-4aa5-b52a-5a75e486d095",
   "metadata": {},
   "source": [
    "18.  Urban Population"
   ]
  },
  {
   "cell_type": "code",
   "execution_count": 100,
   "id": "8fd7fd52-50be-453c-8e95-d3e9e68e3c06",
   "metadata": {},
   "outputs": [
    {
     "data": {
      "text/plain": [
       "count     195\n",
       "unique    191\n",
       "top         0\n",
       "freq        5\n",
       "Name: Urban_population, dtype: int64"
      ]
     },
     "execution_count": 100,
     "metadata": {},
     "output_type": "execute_result"
    }
   ],
   "source": [
    "df[\"Urban_population\"].describe()"
   ]
  },
  {
   "cell_type": "code",
   "execution_count": 101,
   "id": "e4a7b6ee-84c8-41ef-a415-f7f1f853aeda",
   "metadata": {},
   "outputs": [
    {
     "data": {
      "text/plain": [
       "array(['9,797,273', '1,747,593', '31,510,100', '67,873', '21,061,025',\n",
       "       '23,800', '41,339,571', '1,869,848', '21,844,756', '5,194,416',\n",
       "       '5,616,165', '323,784', '1,467,109', '60,987,417', '89,431',\n",
       "       '7,482,982', '11,259,082', '179,039', '5,648,149', '317,538',\n",
       "       '8,033,035', '1,605,144', '1,616,550', '183,241,641', '337,711',\n",
       "       '5,256,027', '6,092,349', '1,541,177', '13,176,900', '364,029',\n",
       "       '3,924,621', '14,741,256', '30,628,482', '1,982,064', '3,712,273',\n",
       "       '16,610,135', '842,933,962', '40,827,302', '248,152', '3,625,010',\n",
       "       '4,041,885', '2,328,318', '8,739,135', '800,708', '7,887,156',\n",
       "       '39,095,679', '5,119,978', '758,549', '50,830', '8,787,475',\n",
       "       '11,116,711', '42,895,824', '4,694,702', '984,812', '1,149,670',\n",
       "       '916,024', 0, '23,788,710', '505,048', '4,716,888', '54,123,364',\n",
       "       '1,949,694', '1,453,958', '2,196,476', '64,324,835', '17,249,054',\n",
       "       '8,507,474', '40,765', '8,540,945', '4,661,505', '840,922',\n",
       "       '208,912', '6,328,948', '5,626,433', '6,999,582', '339,110',\n",
       "       '471,031,528', '151,509,724', '62,509,623', '27,783,368',\n",
       "       '3,133,123', '8,374,393', '42,651,966', '1,650,594', '115,782,416',\n",
       "       '9,213,048', '10,652,915', '14,461,523', '64,489', '4,207,083',\n",
       "       '2,362,644', '2,555,552', '1,304,943', '6,084,994', '607,508',\n",
       "       '2,548,426', '5,448,597', '5,464', '1,891,013', '565,488',\n",
       "       '10,210,849', '3,199,301', '24,475,766', '213,645', '8,479,688',\n",
       "       '475,902', '45,514', '2,466,821', '515,980', '102,626,859',\n",
       "       '25,963', '1,135,502', '38,964', '2,210,626', '417,765',\n",
       "       '22,975,026', '11,092,106', '16,674,093', '1,273,258', '5,765,513',\n",
       "       '15,924,729', '4,258,860', '3,846,137', '3,850,231', '102,806,948',\n",
       "       '15,947,412', '4,418,218', '4,250,777', '79,927,762', '14,491',\n",
       "       '2,890,084', '1,162,834', '4,359,150', '25,390,339', '50,975,903',\n",
       "       '22,796,574', '6,753,579', '2,809,071', '10,468,793',\n",
       "       '107,683,889', '2,186,104', '16,269', '34,280', '58,185', '35,588',\n",
       "       '32,969', '158,277', '28,807,838', '7,765,706', '3,907,243',\n",
       "       '55,762', '3,319,366', '5,703,569', '2,930,419', '1,144,654',\n",
       "       '162,164', '7,034,861', '39,149,717', '42,106,719', '2,201,250',\n",
       "       '37,927,409', '4,052,088', '14,957,233', '384,258', '9,021,165',\n",
       "       '6,332,428', '9,358,019', '2,545,477', '20,011,885', '35,294,600',\n",
       "       '400,182', '3,414,638', '24,145', '741,944', '8,099,061',\n",
       "       '63,097,818', '3,092,738', '7,362', '10,784,516', '30,835,699',\n",
       "       '8,479,744', '55,908,316', '270,663,028', '3,303,394',\n",
       "       '16,935,729', '76,152', '25,162,368', '35,332,140', '10,869,523',\n",
       "       '7,871,713', '4,717,305'], dtype=object)"
      ]
     },
     "execution_count": 101,
     "metadata": {},
     "output_type": "execute_result"
    }
   ],
   "source": [
    "df.Urban_population.unique()"
   ]
  },
  {
   "cell_type": "code",
   "execution_count": 102,
   "id": "79dc59b1-12ea-4f3f-ab74-ee52e0645072",
   "metadata": {},
   "outputs": [],
   "source": [
    "df.Urban_population = df.Urban_population.replace('[,]', '', regex=True).astype('int64')"
   ]
  },
  {
   "cell_type": "code",
   "execution_count": 103,
   "id": "335fbce4-3fde-4bdc-bcee-6544335f922d",
   "metadata": {},
   "outputs": [
    {
     "data": {
      "text/plain": [
       "array([  9797273,   1747593,  31510100,     67873,  21061025,     23800,\n",
       "        41339571,   1869848,  21844756,   5194416,   5616165,    323784,\n",
       "         1467109,  60987417,     89431,   7482982,  11259082,    179039,\n",
       "         5648149,    317538,   8033035,   1605144,   1616550, 183241641,\n",
       "          337711,   5256027,   6092349,   1541177,  13176900,    364029,\n",
       "         3924621,  14741256,  30628482,   1982064,   3712273,  16610135,\n",
       "       842933962,  40827302,    248152,   3625010,   4041885,   2328318,\n",
       "         8739135,    800708,   7887156,  39095679,   5119978,    758549,\n",
       "           50830,   8787475,  11116711,  42895824,   4694702,    984812,\n",
       "         1149670,    916024,         0,  23788710,    505048,   4716888,\n",
       "        54123364,   1949694,   1453958,   2196476,  64324835,  17249054,\n",
       "         8507474,     40765,   8540945,   4661505,    840922,    208912,\n",
       "         6328948,   5626433,   6999582,    339110, 471031528, 151509724,\n",
       "        62509623,  27783368,   3133123,   8374393,  42651966,   1650594,\n",
       "       115782416,   9213048,  10652915,  14461523,     64489,   4207083,\n",
       "         2362644,   2555552,   1304943,   6084994,    607508,   2548426,\n",
       "         5448597,      5464,   1891013,    565488,  10210849,   3199301,\n",
       "        24475766,    213645,   8479688,    475902,     45514,   2466821,\n",
       "          515980, 102626859,     25963,   1135502,     38964,   2210626,\n",
       "          417765,  22975026,  11092106,  16674093,   1273258,   5765513,\n",
       "        15924729,   4258860,   3846137,   3850231, 102806948,  15947412,\n",
       "         4418218,   4250777,  79927762,     14491,   2890084,   1162834,\n",
       "         4359150,  25390339,  50975903,  22796574,   6753579,   2809071,\n",
       "        10468793, 107683889,   2186104,     16269,     34280,     58185,\n",
       "           35588,     32969,    158277,  28807838,   7765706,   3907243,\n",
       "           55762,   3319366,   5703569,   2930419,   1144654,    162164,\n",
       "         7034861,  39149717,  42106719,   2201250,  37927409,   4052088,\n",
       "        14957233,    384258,   9021165,   6332428,   9358019,   2545477,\n",
       "        20011885,  35294600,    400182,   3414638,     24145,    741944,\n",
       "         8099061,  63097818,   3092738,      7362,  10784516,  30835699,\n",
       "         8479744,  55908316, 270663028,   3303394,  16935729,     76152,\n",
       "        25162368,  35332140,  10869523,   7871713,   4717305], dtype=int64)"
      ]
     },
     "execution_count": 103,
     "metadata": {},
     "output_type": "execute_result"
    }
   ],
   "source": [
    "df.Urban_population.unique()"
   ]
  },
  {
   "cell_type": "code",
   "execution_count": 104,
   "id": "163bcbc1-b015-4694-bb00-697d56bd542d",
   "metadata": {},
   "outputs": [
    {
     "data": {
      "text/html": [
       "<div>\n",
       "<style scoped>\n",
       "    .dataframe tbody tr th:only-of-type {\n",
       "        vertical-align: middle;\n",
       "    }\n",
       "\n",
       "    .dataframe tbody tr th {\n",
       "        vertical-align: top;\n",
       "    }\n",
       "\n",
       "    .dataframe thead th {\n",
       "        text-align: right;\n",
       "    }\n",
       "</style>\n",
       "<table border=\"1\" class=\"dataframe\">\n",
       "  <thead>\n",
       "    <tr style=\"text-align: right;\">\n",
       "      <th></th>\n",
       "      <th>Urban_population</th>\n",
       "      <th>GDP</th>\n",
       "      <th>Density</th>\n",
       "    </tr>\n",
       "  </thead>\n",
       "  <tbody>\n",
       "    <tr>\n",
       "      <th>Urban_population</th>\n",
       "      <td>1.000000</td>\n",
       "      <td>0.784580</td>\n",
       "      <td>-0.023715</td>\n",
       "    </tr>\n",
       "    <tr>\n",
       "      <th>GDP</th>\n",
       "      <td>0.784580</td>\n",
       "      <td>1.000000</td>\n",
       "      <td>-0.018878</td>\n",
       "    </tr>\n",
       "    <tr>\n",
       "      <th>Density</th>\n",
       "      <td>-0.023715</td>\n",
       "      <td>-0.018878</td>\n",
       "      <td>1.000000</td>\n",
       "    </tr>\n",
       "  </tbody>\n",
       "</table>\n",
       "</div>"
      ],
      "text/plain": [
       "                  Urban_population       GDP   Density\n",
       "Urban_population          1.000000  0.784580 -0.023715\n",
       "GDP                       0.784580  1.000000 -0.018878\n",
       "Density                  -0.023715 -0.018878  1.000000"
      ]
     },
     "execution_count": 104,
     "metadata": {},
     "output_type": "execute_result"
    }
   ],
   "source": [
    "df[[\"Urban_population\", \"GDP\", \"Density\"]].corr()"
   ]
  },
  {
   "cell_type": "code",
   "execution_count": null,
   "id": "5941a7c6-f8cd-4c28-8d88-f2b5f13cc71b",
   "metadata": {},
   "outputs": [],
   "source": []
  }
 ],
 "metadata": {
  "kernelspec": {
   "display_name": "Python 3 (ipykernel)",
   "language": "python",
   "name": "python3"
  },
  "language_info": {
   "codemirror_mode": {
    "name": "ipython",
    "version": 3
   },
   "file_extension": ".py",
   "mimetype": "text/x-python",
   "name": "python",
   "nbconvert_exporter": "python",
   "pygments_lexer": "ipython3",
   "version": "3.12.7"
  }
 },
 "nbformat": 4,
 "nbformat_minor": 5
}
