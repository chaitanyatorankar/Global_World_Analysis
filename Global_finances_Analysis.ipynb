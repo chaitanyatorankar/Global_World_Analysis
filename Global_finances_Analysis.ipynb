{
 "cells": [
  {
   "cell_type": "code",
   "execution_count": 1,
   "id": "cb75081b-f1ea-4d0b-80ce-cc2c19c02e66",
   "metadata": {},
   "outputs": [
    {
     "data": {
      "application/vnd.jupyter.widget-view+json": {
       "model_id": "72953a2f12d345cebb821477bcc62da4",
       "version_major": 2,
       "version_minor": 0
      },
      "text/plain": [
       "Dropdown(description='Stock:', options=('TCS', 'Wipro', 'Infosys', 'HCL Technologies', 'Tech Mahindra', 'HDFC …"
      ]
     },
     "metadata": {},
     "output_type": "display_data"
    },
    {
     "data": {
      "application/vnd.jupyter.widget-view+json": {
       "model_id": "2b7523015cb2449bbabe81e53aab0204",
       "version_major": 2,
       "version_minor": 0
      },
      "text/plain": [
       "DatePicker(value=datetime.date(2022, 1, 1), description='Start Date')"
      ]
     },
     "metadata": {},
     "output_type": "display_data"
    },
    {
     "data": {
      "application/vnd.jupyter.widget-view+json": {
       "model_id": "a52a3081603440c384a09ef9ef31de3c",
       "version_major": 2,
       "version_minor": 0
      },
      "text/plain": [
       "DatePicker(value=datetime.date(2025, 7, 10), description='End Date')"
      ]
     },
     "metadata": {},
     "output_type": "display_data"
    },
    {
     "data": {
      "application/vnd.jupyter.widget-view+json": {
       "model_id": "30c27d1679824cc5b34156b7677bfce0",
       "version_major": 2,
       "version_minor": 0
      },
      "text/plain": [
       "IntSlider(value=10, description='Forecast Days', max=60, min=5, step=5)"
      ]
     },
     "metadata": {},
     "output_type": "display_data"
    },
    {
     "data": {
      "application/vnd.jupyter.widget-view+json": {
       "model_id": "e897075010474a6cbcbea60b7b507fd0",
       "version_major": 2,
       "version_minor": 0
      },
      "text/plain": [
       "Button(button_style='success', description='Run Analysis', style=ButtonStyle())"
      ]
     },
     "metadata": {},
     "output_type": "display_data"
    },
    {
     "data": {
      "application/vnd.jupyter.widget-view+json": {
       "model_id": "f58d92dcdee64c4d92e18dae39ebf1c0",
       "version_major": 2,
       "version_minor": 0
      },
      "text/plain": [
       "Output()"
      ]
     },
     "metadata": {},
     "output_type": "display_data"
    }
   ],
   "source": [
    "import pandas as pd\n",
    "import numpy as np\n",
    "import yfinance as yf\n",
    "import datetime as d\n",
    "from statsmodels.tsa.stattools import adfuller\n",
    "from statsmodels.tsa.arima.model import ARIMA\n",
    "\n",
    "# Define date range\n",
    "s = d.datetime(2025, 1, 1)\n",
    "e = d.datetime(2025, 7, 10)\n",
    "\n",
    "# Reusable function to check stationarity\n",
    "def check_stationarity(timeseries, label=\"Series\"):\n",
    "    result = adfuller(timeseries.dropna())\n",
    "    print(f\"\\nStationarity Check for {label}:\")\n",
    "    print(f\"ADF Statistic: {result[0]}\")\n",
    "    print(f\"P-value: {result[1]}\")\n",
    "    if result[1] <= 0.05:\n",
    "        print(\"The series is stationary.\")\n",
    "    else:\n",
    "        print(\"The series is NOT stationary.\")\n",
    "\n",
    "# Function to run ARIMA analysis and forecast\n",
    "def arima_analysis(stock_symbol, label):\n",
    "    print(f\"\\n--- Analyzing {label} ({stock_symbol}) ---\")\n",
    "    df = yf.download(stock_symbol, start=s, end=e, auto_adjust=False)\n",
    "    df.columns = df.columns.get_level_values(0)\n",
    "    df = df.reset_index()\n",
    "    df = df[['Close']].copy()\n",
    "    df.dropna(inplace=True)\n",
    "\n",
    "    # Check stationarity of Close\n",
    "    check_stationarity(df['Close'], f\"{label} Close\")\n",
    "\n",
    "    # Differencing\n",
    "    df['Close_Diff'] = df['Close'].diff()\n",
    "    check_stationarity(df['Close_Diff'], f\"{label} Close_Diff\")\n",
    "\n",
    "    # ARIMA model\n",
    "    model = ARIMA(df['Close'], order=(5, 1, 0))\n",
    "    model_fit = model.fit()\n",
    "\n",
    "    # Forecast next 10 business days\n",
    "    forecast = model_fit.forecast(steps=10)\n",
    "    future_dates = pd.date_range(start=df['Close'].index[-1], periods=11, freq='B')[1:]\n",
    "\n",
    "    forecast_df = pd.DataFrame({\n",
    "        'Date': future_dates,\n",
    "        f'{label}_Forecast': forecast.values\n",
    "    })\n",
    "    print(forecast_df)\n",
    "    return forecast_df\n",
    "\n",
    "# Run for TCS, Wipro, and Infosys\n",
    "tcs_forecast = arima_analysis('TCS.NS', 'TCS')\n",
    "wipro_forecast = arima_analysis('WIPRO.NS', 'Wipro')\n",
    "infosys_forecast = arima_analysis('INFY.NS', 'Infosys')\n"
   ]
  },
  {
   "cell_type": "code",
   "execution_count": null,
   "id": "f40c68d6-39b2-4d99-8dea-601e1a6c257b",
   "metadata": {},
   "outputs": [],
   "source": []
  }
 ],
 "metadata": {
  "kernelspec": {
   "display_name": "Python 3 (ipykernel)",
   "language": "python",
   "name": "python3"
  },
  "language_info": {
   "codemirror_mode": {
    "name": "ipython",
    "version": 3
   },
   "file_extension": ".py",
   "mimetype": "text/x-python",
   "name": "python",
   "nbconvert_exporter": "python",
   "pygments_lexer": "ipython3",
   "version": "3.12.7"
  }
 },
 "nbformat": 4,
 "nbformat_minor": 5
}
